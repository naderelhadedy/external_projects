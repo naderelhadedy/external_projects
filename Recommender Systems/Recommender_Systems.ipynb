{
  "nbformat": 4,
  "nbformat_minor": 0,
  "metadata": {
    "colab": {
      "name": "Nader_Elhadedy-Recommender_Systems.ipynb",
      "provenance": [],
      "collapsed_sections": []
    },
    "kernelspec": {
      "display_name": "Python 3",
      "name": "python3"
    },
    "language_info": {
      "name": "python"
    }
  },
  "cells": [
    {
      "cell_type": "markdown",
      "metadata": {
        "id": "3jzuxxEJgJ1V"
      },
      "source": [
        "<center>\n",
        "<h1>\n",
        "<b>Name: Nader M. Elhadedy</b><br>\n",
        "<b>Task: Recommender Systems</b>\n",
        "</h1>\n",
        "</center>\n"
      ]
    },
    {
      "cell_type": "markdown",
      "metadata": {
        "id": "GNMBX-88iG_l"
      },
      "source": [
        "---"
      ]
    },
    {
      "cell_type": "markdown",
      "metadata": {
        "id": "olctsTQT1F65"
      },
      "source": [
        "<center>\n",
        "<h1><b>(1) ... Recommend Top 5 movies by a given title ...</b></h1>\n",
        "</center>"
      ]
    },
    {
      "cell_type": "markdown",
      "metadata": {
        "id": "dLDXym1h23xD"
      },
      "source": [
        "# This follows what is called **Item-based Collaborative Filtering**\n",
        "\n",
        "> This filtration strategy is based on the combination of the user’s behavior and comparing and contrasting that with other users’ behavior in the database. The history of all users plays an important role in this algorithm. There are multiple ways to implement collaborative filtering but the main concept to be grasped is that in collaborative filtering multiple user’s data influences the outcome of the recommendation. and doesn’t depend on only one user’s data for modeling. <br><br> In other words, the concept in this case is to find similar movies instead of similar users and then recommending similar movies to that ‘A’ has had in his/her past preferences. This is executed by finding every pair of items that were rated/viewed/liked/clicked by the same user, then measuring the similarity of those rated/viewed/liked/clicked across all user who rated/viewed/liked/clicked both, and finally recommending them based on similarity scores."
      ]
    },
    {
      "cell_type": "markdown",
      "metadata": {
        "id": "Tlf3wnDK4Zyk"
      },
      "source": [
        "# **About Data**"
      ]
    },
    {
      "cell_type": "markdown",
      "metadata": {
        "id": "uZXCi4254ur_"
      },
      "source": [
        "This dataset describes 5-star rating from [MovieLens](http://movielens.org), a movie recommendation service. It contains 100836 ratings across 9742 movies. These data were created by 610 users between March 29, 1996 and September 24, 2018. This dataset was generated on September 26, 2018.\n",
        "\n",
        "The data are contained in the files `movies.csv` and `ratings.csv`.\n",
        "\n",
        "- All ratings are contained in the file `ratings.csv` with columns (userId, movieId, rating, timestamp).\n",
        "- Movie information is contained in the file `movies.csv` with columns (movieId, title, genres)."
      ]
    },
    {
      "cell_type": "markdown",
      "metadata": {
        "id": "fI8PIMRe-W_U"
      },
      "source": [
        "# Import Packages"
      ]
    },
    {
      "cell_type": "code",
      "metadata": {
        "id": "iJAQZAlFaaTp"
      },
      "source": [
        "import numpy as np\n",
        "import pandas as pd\n",
        "import matplotlib.pyplot as plt\n",
        "from surprise.model_selection import cross_validate\n",
        "from io import BytesIO\n",
        "from scipy.sparse import csr_matrix\n",
        "from sklearn.neighbors import NearestNeighbors\n",
        "from zipfile import ZipFile\n",
        "from urllib.request import urlopen"
      ],
      "execution_count": null,
      "outputs": []
    },
    {
      "cell_type": "code",
      "metadata": {
        "id": "arilRsYICjyP"
      },
      "source": [
        "plt.style.use('ggplot')"
      ],
      "execution_count": null,
      "outputs": []
    },
    {
      "cell_type": "markdown",
      "metadata": {
        "id": "FfNz_rUmnqpg"
      },
      "source": [
        "# Load Dataset"
      ]
    },
    {
      "cell_type": "code",
      "metadata": {
        "colab": {
          "base_uri": "https://localhost:8080/"
        },
        "id": "o4QYkeOxaYKT",
        "outputId": "5557a556-b20c-40db-f976-746af88ab6fd"
      },
      "source": [
        "data_path = 'http://files.grouplens.org/datasets/movielens/ml-latest-small.zip'\n",
        "r = urlopen(data_path)\n",
        "zipfile = ZipFile(BytesIO(r.read()))\n",
        "\n",
        "zipfile.namelist()"
      ],
      "execution_count": null,
      "outputs": [
        {
          "output_type": "execute_result",
          "data": {
            "text/plain": [
              "['ml-latest-small/',\n",
              " 'ml-latest-small/links.csv',\n",
              " 'ml-latest-small/tags.csv',\n",
              " 'ml-latest-small/ratings.csv',\n",
              " 'ml-latest-small/README.txt',\n",
              " 'ml-latest-small/movies.csv']"
            ]
          },
          "metadata": {},
          "execution_count": 3
        }
      ]
    },
    {
      "cell_type": "code",
      "metadata": {
        "colab": {
          "base_uri": "https://localhost:8080/",
          "height": 221
        },
        "id": "FytJ7khKc8ya",
        "outputId": "41f9e025-1aa3-4bbf-ccb3-610c65d29bfc"
      },
      "source": [
        "ratings_df = pd.read_csv(zipfile.open('ml-latest-small/ratings.csv'))\n",
        "print('Shape of rating data:', ratings_df.shape)\n",
        "ratings_df.head()"
      ],
      "execution_count": null,
      "outputs": [
        {
          "output_type": "stream",
          "name": "stdout",
          "text": [
            "Shape of rating data: (100836, 4)\n"
          ]
        },
        {
          "output_type": "execute_result",
          "data": {
            "text/html": [
              "<div>\n",
              "<style scoped>\n",
              "    .dataframe tbody tr th:only-of-type {\n",
              "        vertical-align: middle;\n",
              "    }\n",
              "\n",
              "    .dataframe tbody tr th {\n",
              "        vertical-align: top;\n",
              "    }\n",
              "\n",
              "    .dataframe thead th {\n",
              "        text-align: right;\n",
              "    }\n",
              "</style>\n",
              "<table border=\"1\" class=\"dataframe\">\n",
              "  <thead>\n",
              "    <tr style=\"text-align: right;\">\n",
              "      <th></th>\n",
              "      <th>userId</th>\n",
              "      <th>movieId</th>\n",
              "      <th>rating</th>\n",
              "      <th>timestamp</th>\n",
              "    </tr>\n",
              "  </thead>\n",
              "  <tbody>\n",
              "    <tr>\n",
              "      <th>0</th>\n",
              "      <td>1</td>\n",
              "      <td>1</td>\n",
              "      <td>4.0</td>\n",
              "      <td>964982703</td>\n",
              "    </tr>\n",
              "    <tr>\n",
              "      <th>1</th>\n",
              "      <td>1</td>\n",
              "      <td>3</td>\n",
              "      <td>4.0</td>\n",
              "      <td>964981247</td>\n",
              "    </tr>\n",
              "    <tr>\n",
              "      <th>2</th>\n",
              "      <td>1</td>\n",
              "      <td>6</td>\n",
              "      <td>4.0</td>\n",
              "      <td>964982224</td>\n",
              "    </tr>\n",
              "    <tr>\n",
              "      <th>3</th>\n",
              "      <td>1</td>\n",
              "      <td>47</td>\n",
              "      <td>5.0</td>\n",
              "      <td>964983815</td>\n",
              "    </tr>\n",
              "    <tr>\n",
              "      <th>4</th>\n",
              "      <td>1</td>\n",
              "      <td>50</td>\n",
              "      <td>5.0</td>\n",
              "      <td>964982931</td>\n",
              "    </tr>\n",
              "  </tbody>\n",
              "</table>\n",
              "</div>"
            ],
            "text/plain": [
              "   userId  movieId  rating  timestamp\n",
              "0       1        1     4.0  964982703\n",
              "1       1        3     4.0  964981247\n",
              "2       1        6     4.0  964982224\n",
              "3       1       47     5.0  964983815\n",
              "4       1       50     5.0  964982931"
            ]
          },
          "metadata": {},
          "execution_count": 4
        }
      ]
    },
    {
      "cell_type": "code",
      "metadata": {
        "colab": {
          "base_uri": "https://localhost:8080/",
          "height": 221
        },
        "id": "P6oao-GadX5U",
        "outputId": "70ce4c4f-db33-46ae-ce92-fdc7db6b1bb5"
      },
      "source": [
        "movies_df = pd.read_csv(zipfile.open('ml-latest-small/movies.csv'))\n",
        "print('Shape of movies data', movies_df.shape)\n",
        "movies_df.head()"
      ],
      "execution_count": null,
      "outputs": [
        {
          "output_type": "stream",
          "name": "stdout",
          "text": [
            "Shape of movies data (9742, 3)\n"
          ]
        },
        {
          "output_type": "execute_result",
          "data": {
            "text/html": [
              "<div>\n",
              "<style scoped>\n",
              "    .dataframe tbody tr th:only-of-type {\n",
              "        vertical-align: middle;\n",
              "    }\n",
              "\n",
              "    .dataframe tbody tr th {\n",
              "        vertical-align: top;\n",
              "    }\n",
              "\n",
              "    .dataframe thead th {\n",
              "        text-align: right;\n",
              "    }\n",
              "</style>\n",
              "<table border=\"1\" class=\"dataframe\">\n",
              "  <thead>\n",
              "    <tr style=\"text-align: right;\">\n",
              "      <th></th>\n",
              "      <th>movieId</th>\n",
              "      <th>title</th>\n",
              "      <th>genres</th>\n",
              "    </tr>\n",
              "  </thead>\n",
              "  <tbody>\n",
              "    <tr>\n",
              "      <th>0</th>\n",
              "      <td>1</td>\n",
              "      <td>Toy Story (1995)</td>\n",
              "      <td>Adventure|Animation|Children|Comedy|Fantasy</td>\n",
              "    </tr>\n",
              "    <tr>\n",
              "      <th>1</th>\n",
              "      <td>2</td>\n",
              "      <td>Jumanji (1995)</td>\n",
              "      <td>Adventure|Children|Fantasy</td>\n",
              "    </tr>\n",
              "    <tr>\n",
              "      <th>2</th>\n",
              "      <td>3</td>\n",
              "      <td>Grumpier Old Men (1995)</td>\n",
              "      <td>Comedy|Romance</td>\n",
              "    </tr>\n",
              "    <tr>\n",
              "      <th>3</th>\n",
              "      <td>4</td>\n",
              "      <td>Waiting to Exhale (1995)</td>\n",
              "      <td>Comedy|Drama|Romance</td>\n",
              "    </tr>\n",
              "    <tr>\n",
              "      <th>4</th>\n",
              "      <td>5</td>\n",
              "      <td>Father of the Bride Part II (1995)</td>\n",
              "      <td>Comedy</td>\n",
              "    </tr>\n",
              "  </tbody>\n",
              "</table>\n",
              "</div>"
            ],
            "text/plain": [
              "   movieId  ...                                       genres\n",
              "0        1  ...  Adventure|Animation|Children|Comedy|Fantasy\n",
              "1        2  ...                   Adventure|Children|Fantasy\n",
              "2        3  ...                               Comedy|Romance\n",
              "3        4  ...                         Comedy|Drama|Romance\n",
              "4        5  ...                                       Comedy\n",
              "\n",
              "[5 rows x 3 columns]"
            ]
          },
          "metadata": {},
          "execution_count": 5
        }
      ]
    },
    {
      "cell_type": "markdown",
      "metadata": {
        "id": "1du64dv7nzO_"
      },
      "source": [
        "# Explore Data"
      ]
    },
    {
      "cell_type": "code",
      "metadata": {
        "colab": {
          "base_uri": "https://localhost:8080/"
        },
        "id": "dJ5BLKz0n2Vz",
        "outputId": "92c31cc0-29ac-474e-f037-7d9401cf7cd7"
      },
      "source": [
        "ratings_df.info()"
      ],
      "execution_count": null,
      "outputs": [
        {
          "output_type": "stream",
          "name": "stdout",
          "text": [
            "<class 'pandas.core.frame.DataFrame'>\n",
            "RangeIndex: 100836 entries, 0 to 100835\n",
            "Data columns (total 4 columns):\n",
            " #   Column     Non-Null Count   Dtype  \n",
            "---  ------     --------------   -----  \n",
            " 0   userId     100836 non-null  int64  \n",
            " 1   movieId    100836 non-null  int64  \n",
            " 2   rating     100836 non-null  float64\n",
            " 3   timestamp  100836 non-null  int64  \n",
            "dtypes: float64(1), int64(3)\n",
            "memory usage: 3.1 MB\n"
          ]
        }
      ]
    },
    {
      "cell_type": "code",
      "metadata": {
        "colab": {
          "base_uri": "https://localhost:8080/"
        },
        "id": "3Yg0Y8vWn44R",
        "outputId": "d360fa26-c753-462b-d0de-cf95969b8ae7"
      },
      "source": [
        "movies_df.info()"
      ],
      "execution_count": null,
      "outputs": [
        {
          "output_type": "stream",
          "name": "stdout",
          "text": [
            "<class 'pandas.core.frame.DataFrame'>\n",
            "RangeIndex: 9742 entries, 0 to 9741\n",
            "Data columns (total 3 columns):\n",
            " #   Column   Non-Null Count  Dtype \n",
            "---  ------   --------------  ----- \n",
            " 0   movieId  9742 non-null   int64 \n",
            " 1   title    9742 non-null   object\n",
            " 2   genres   9742 non-null   object\n",
            "dtypes: int64(1), object(2)\n",
            "memory usage: 228.5+ KB\n"
          ]
        }
      ]
    },
    {
      "cell_type": "code",
      "metadata": {
        "colab": {
          "base_uri": "https://localhost:8080/"
        },
        "id": "X9MUYDCg8tsl",
        "outputId": "109bcaaa-8db0-4f2a-c259-bf8dd7dfa212"
      },
      "source": [
        "# unique users\n",
        "np.unique(ratings_df['userId']).shape"
      ],
      "execution_count": null,
      "outputs": [
        {
          "output_type": "execute_result",
          "data": {
            "text/plain": [
              "(610,)"
            ]
          },
          "metadata": {},
          "execution_count": 8
        }
      ]
    },
    {
      "cell_type": "code",
      "metadata": {
        "colab": {
          "base_uri": "https://localhost:8080/"
        },
        "id": "WLl88_2T81jZ",
        "outputId": "59f2fb8f-5b66-4ffa-e5dd-f9d9ca97ad84"
      },
      "source": [
        "# unique movies\n",
        "np.unique(movies_df['movieId']).shape"
      ],
      "execution_count": null,
      "outputs": [
        {
          "output_type": "execute_result",
          "data": {
            "text/plain": [
              "(9742,)"
            ]
          },
          "metadata": {},
          "execution_count": 9
        }
      ]
    },
    {
      "cell_type": "markdown",
      "metadata": {
        "id": "gxvmAO93oMAC"
      },
      "source": [
        "# Create new dataframe"
      ]
    },
    {
      "cell_type": "markdown",
      "metadata": {
        "id": "mstNGenYoQ2c"
      },
      "source": [
        "> ### To make dataset look better, we will set unique users agaist unique movies and show their ratings."
      ]
    },
    {
      "cell_type": "code",
      "metadata": {
        "colab": {
          "base_uri": "https://localhost:8080/",
          "height": 439
        },
        "id": "s9dJMHNjntXR",
        "outputId": "0ee7f7e6-e10e-4035-e672-4c28362a5c98"
      },
      "source": [
        "final_dataset = ratings_df.pivot(index='movieId',columns='userId',values='rating')\n",
        "final_dataset.head(10)"
      ],
      "execution_count": null,
      "outputs": [
        {
          "output_type": "execute_result",
          "data": {
            "text/html": [
              "<div>\n",
              "<style scoped>\n",
              "    .dataframe tbody tr th:only-of-type {\n",
              "        vertical-align: middle;\n",
              "    }\n",
              "\n",
              "    .dataframe tbody tr th {\n",
              "        vertical-align: top;\n",
              "    }\n",
              "\n",
              "    .dataframe thead th {\n",
              "        text-align: right;\n",
              "    }\n",
              "</style>\n",
              "<table border=\"1\" class=\"dataframe\">\n",
              "  <thead>\n",
              "    <tr style=\"text-align: right;\">\n",
              "      <th>userId</th>\n",
              "      <th>1</th>\n",
              "      <th>2</th>\n",
              "      <th>3</th>\n",
              "      <th>4</th>\n",
              "      <th>5</th>\n",
              "      <th>6</th>\n",
              "      <th>7</th>\n",
              "      <th>8</th>\n",
              "      <th>9</th>\n",
              "      <th>10</th>\n",
              "      <th>11</th>\n",
              "      <th>12</th>\n",
              "      <th>13</th>\n",
              "      <th>14</th>\n",
              "      <th>15</th>\n",
              "      <th>16</th>\n",
              "      <th>17</th>\n",
              "      <th>18</th>\n",
              "      <th>19</th>\n",
              "      <th>20</th>\n",
              "      <th>21</th>\n",
              "      <th>22</th>\n",
              "      <th>23</th>\n",
              "      <th>24</th>\n",
              "      <th>25</th>\n",
              "      <th>26</th>\n",
              "      <th>27</th>\n",
              "      <th>28</th>\n",
              "      <th>29</th>\n",
              "      <th>30</th>\n",
              "      <th>31</th>\n",
              "      <th>32</th>\n",
              "      <th>33</th>\n",
              "      <th>34</th>\n",
              "      <th>35</th>\n",
              "      <th>36</th>\n",
              "      <th>37</th>\n",
              "      <th>38</th>\n",
              "      <th>39</th>\n",
              "      <th>40</th>\n",
              "      <th>...</th>\n",
              "      <th>571</th>\n",
              "      <th>572</th>\n",
              "      <th>573</th>\n",
              "      <th>574</th>\n",
              "      <th>575</th>\n",
              "      <th>576</th>\n",
              "      <th>577</th>\n",
              "      <th>578</th>\n",
              "      <th>579</th>\n",
              "      <th>580</th>\n",
              "      <th>581</th>\n",
              "      <th>582</th>\n",
              "      <th>583</th>\n",
              "      <th>584</th>\n",
              "      <th>585</th>\n",
              "      <th>586</th>\n",
              "      <th>587</th>\n",
              "      <th>588</th>\n",
              "      <th>589</th>\n",
              "      <th>590</th>\n",
              "      <th>591</th>\n",
              "      <th>592</th>\n",
              "      <th>593</th>\n",
              "      <th>594</th>\n",
              "      <th>595</th>\n",
              "      <th>596</th>\n",
              "      <th>597</th>\n",
              "      <th>598</th>\n",
              "      <th>599</th>\n",
              "      <th>600</th>\n",
              "      <th>601</th>\n",
              "      <th>602</th>\n",
              "      <th>603</th>\n",
              "      <th>604</th>\n",
              "      <th>605</th>\n",
              "      <th>606</th>\n",
              "      <th>607</th>\n",
              "      <th>608</th>\n",
              "      <th>609</th>\n",
              "      <th>610</th>\n",
              "    </tr>\n",
              "    <tr>\n",
              "      <th>movieId</th>\n",
              "      <th></th>\n",
              "      <th></th>\n",
              "      <th></th>\n",
              "      <th></th>\n",
              "      <th></th>\n",
              "      <th></th>\n",
              "      <th></th>\n",
              "      <th></th>\n",
              "      <th></th>\n",
              "      <th></th>\n",
              "      <th></th>\n",
              "      <th></th>\n",
              "      <th></th>\n",
              "      <th></th>\n",
              "      <th></th>\n",
              "      <th></th>\n",
              "      <th></th>\n",
              "      <th></th>\n",
              "      <th></th>\n",
              "      <th></th>\n",
              "      <th></th>\n",
              "      <th></th>\n",
              "      <th></th>\n",
              "      <th></th>\n",
              "      <th></th>\n",
              "      <th></th>\n",
              "      <th></th>\n",
              "      <th></th>\n",
              "      <th></th>\n",
              "      <th></th>\n",
              "      <th></th>\n",
              "      <th></th>\n",
              "      <th></th>\n",
              "      <th></th>\n",
              "      <th></th>\n",
              "      <th></th>\n",
              "      <th></th>\n",
              "      <th></th>\n",
              "      <th></th>\n",
              "      <th></th>\n",
              "      <th></th>\n",
              "      <th></th>\n",
              "      <th></th>\n",
              "      <th></th>\n",
              "      <th></th>\n",
              "      <th></th>\n",
              "      <th></th>\n",
              "      <th></th>\n",
              "      <th></th>\n",
              "      <th></th>\n",
              "      <th></th>\n",
              "      <th></th>\n",
              "      <th></th>\n",
              "      <th></th>\n",
              "      <th></th>\n",
              "      <th></th>\n",
              "      <th></th>\n",
              "      <th></th>\n",
              "      <th></th>\n",
              "      <th></th>\n",
              "      <th></th>\n",
              "      <th></th>\n",
              "      <th></th>\n",
              "      <th></th>\n",
              "      <th></th>\n",
              "      <th></th>\n",
              "      <th></th>\n",
              "      <th></th>\n",
              "      <th></th>\n",
              "      <th></th>\n",
              "      <th></th>\n",
              "      <th></th>\n",
              "      <th></th>\n",
              "      <th></th>\n",
              "      <th></th>\n",
              "      <th></th>\n",
              "      <th></th>\n",
              "      <th></th>\n",
              "      <th></th>\n",
              "      <th></th>\n",
              "      <th></th>\n",
              "    </tr>\n",
              "  </thead>\n",
              "  <tbody>\n",
              "    <tr>\n",
              "      <th>1</th>\n",
              "      <td>4.0</td>\n",
              "      <td>NaN</td>\n",
              "      <td>NaN</td>\n",
              "      <td>NaN</td>\n",
              "      <td>4.0</td>\n",
              "      <td>NaN</td>\n",
              "      <td>4.5</td>\n",
              "      <td>NaN</td>\n",
              "      <td>NaN</td>\n",
              "      <td>NaN</td>\n",
              "      <td>NaN</td>\n",
              "      <td>NaN</td>\n",
              "      <td>NaN</td>\n",
              "      <td>NaN</td>\n",
              "      <td>2.5</td>\n",
              "      <td>NaN</td>\n",
              "      <td>4.5</td>\n",
              "      <td>3.5</td>\n",
              "      <td>4.0</td>\n",
              "      <td>NaN</td>\n",
              "      <td>3.5</td>\n",
              "      <td>NaN</td>\n",
              "      <td>NaN</td>\n",
              "      <td>NaN</td>\n",
              "      <td>NaN</td>\n",
              "      <td>NaN</td>\n",
              "      <td>3.0</td>\n",
              "      <td>NaN</td>\n",
              "      <td>NaN</td>\n",
              "      <td>NaN</td>\n",
              "      <td>5.0</td>\n",
              "      <td>3.0</td>\n",
              "      <td>3.0</td>\n",
              "      <td>NaN</td>\n",
              "      <td>NaN</td>\n",
              "      <td>NaN</td>\n",
              "      <td>NaN</td>\n",
              "      <td>NaN</td>\n",
              "      <td>NaN</td>\n",
              "      <td>5.0</td>\n",
              "      <td>...</td>\n",
              "      <td>NaN</td>\n",
              "      <td>4.0</td>\n",
              "      <td>5.0</td>\n",
              "      <td>NaN</td>\n",
              "      <td>NaN</td>\n",
              "      <td>NaN</td>\n",
              "      <td>NaN</td>\n",
              "      <td>NaN</td>\n",
              "      <td>4.0</td>\n",
              "      <td>3.0</td>\n",
              "      <td>NaN</td>\n",
              "      <td>NaN</td>\n",
              "      <td>NaN</td>\n",
              "      <td>5.0</td>\n",
              "      <td>NaN</td>\n",
              "      <td>NaN</td>\n",
              "      <td>5.0</td>\n",
              "      <td>NaN</td>\n",
              "      <td>NaN</td>\n",
              "      <td>4.0</td>\n",
              "      <td>NaN</td>\n",
              "      <td>NaN</td>\n",
              "      <td>NaN</td>\n",
              "      <td>NaN</td>\n",
              "      <td>NaN</td>\n",
              "      <td>4.0</td>\n",
              "      <td>4.0</td>\n",
              "      <td>NaN</td>\n",
              "      <td>3.0</td>\n",
              "      <td>2.5</td>\n",
              "      <td>4.0</td>\n",
              "      <td>NaN</td>\n",
              "      <td>4.0</td>\n",
              "      <td>3.0</td>\n",
              "      <td>4.0</td>\n",
              "      <td>2.5</td>\n",
              "      <td>4.0</td>\n",
              "      <td>2.5</td>\n",
              "      <td>3.0</td>\n",
              "      <td>5.0</td>\n",
              "    </tr>\n",
              "    <tr>\n",
              "      <th>2</th>\n",
              "      <td>NaN</td>\n",
              "      <td>NaN</td>\n",
              "      <td>NaN</td>\n",
              "      <td>NaN</td>\n",
              "      <td>NaN</td>\n",
              "      <td>4.0</td>\n",
              "      <td>NaN</td>\n",
              "      <td>4.0</td>\n",
              "      <td>NaN</td>\n",
              "      <td>NaN</td>\n",
              "      <td>NaN</td>\n",
              "      <td>NaN</td>\n",
              "      <td>NaN</td>\n",
              "      <td>NaN</td>\n",
              "      <td>NaN</td>\n",
              "      <td>NaN</td>\n",
              "      <td>NaN</td>\n",
              "      <td>3.0</td>\n",
              "      <td>3.0</td>\n",
              "      <td>3.0</td>\n",
              "      <td>3.5</td>\n",
              "      <td>NaN</td>\n",
              "      <td>NaN</td>\n",
              "      <td>NaN</td>\n",
              "      <td>NaN</td>\n",
              "      <td>NaN</td>\n",
              "      <td>4.0</td>\n",
              "      <td>NaN</td>\n",
              "      <td>NaN</td>\n",
              "      <td>NaN</td>\n",
              "      <td>NaN</td>\n",
              "      <td>NaN</td>\n",
              "      <td>NaN</td>\n",
              "      <td>NaN</td>\n",
              "      <td>NaN</td>\n",
              "      <td>NaN</td>\n",
              "      <td>NaN</td>\n",
              "      <td>NaN</td>\n",
              "      <td>NaN</td>\n",
              "      <td>NaN</td>\n",
              "      <td>...</td>\n",
              "      <td>NaN</td>\n",
              "      <td>NaN</td>\n",
              "      <td>4.5</td>\n",
              "      <td>NaN</td>\n",
              "      <td>NaN</td>\n",
              "      <td>NaN</td>\n",
              "      <td>NaN</td>\n",
              "      <td>NaN</td>\n",
              "      <td>NaN</td>\n",
              "      <td>NaN</td>\n",
              "      <td>NaN</td>\n",
              "      <td>NaN</td>\n",
              "      <td>NaN</td>\n",
              "      <td>NaN</td>\n",
              "      <td>NaN</td>\n",
              "      <td>4.0</td>\n",
              "      <td>NaN</td>\n",
              "      <td>NaN</td>\n",
              "      <td>NaN</td>\n",
              "      <td>2.5</td>\n",
              "      <td>NaN</td>\n",
              "      <td>4.0</td>\n",
              "      <td>NaN</td>\n",
              "      <td>4.0</td>\n",
              "      <td>NaN</td>\n",
              "      <td>NaN</td>\n",
              "      <td>NaN</td>\n",
              "      <td>NaN</td>\n",
              "      <td>2.5</td>\n",
              "      <td>4.0</td>\n",
              "      <td>NaN</td>\n",
              "      <td>4.0</td>\n",
              "      <td>NaN</td>\n",
              "      <td>5.0</td>\n",
              "      <td>3.5</td>\n",
              "      <td>NaN</td>\n",
              "      <td>NaN</td>\n",
              "      <td>2.0</td>\n",
              "      <td>NaN</td>\n",
              "      <td>NaN</td>\n",
              "    </tr>\n",
              "    <tr>\n",
              "      <th>3</th>\n",
              "      <td>4.0</td>\n",
              "      <td>NaN</td>\n",
              "      <td>NaN</td>\n",
              "      <td>NaN</td>\n",
              "      <td>NaN</td>\n",
              "      <td>5.0</td>\n",
              "      <td>NaN</td>\n",
              "      <td>NaN</td>\n",
              "      <td>NaN</td>\n",
              "      <td>NaN</td>\n",
              "      <td>NaN</td>\n",
              "      <td>NaN</td>\n",
              "      <td>NaN</td>\n",
              "      <td>NaN</td>\n",
              "      <td>NaN</td>\n",
              "      <td>NaN</td>\n",
              "      <td>NaN</td>\n",
              "      <td>NaN</td>\n",
              "      <td>3.0</td>\n",
              "      <td>NaN</td>\n",
              "      <td>NaN</td>\n",
              "      <td>NaN</td>\n",
              "      <td>NaN</td>\n",
              "      <td>NaN</td>\n",
              "      <td>NaN</td>\n",
              "      <td>NaN</td>\n",
              "      <td>NaN</td>\n",
              "      <td>NaN</td>\n",
              "      <td>NaN</td>\n",
              "      <td>NaN</td>\n",
              "      <td>NaN</td>\n",
              "      <td>3.0</td>\n",
              "      <td>NaN</td>\n",
              "      <td>NaN</td>\n",
              "      <td>NaN</td>\n",
              "      <td>NaN</td>\n",
              "      <td>NaN</td>\n",
              "      <td>NaN</td>\n",
              "      <td>NaN</td>\n",
              "      <td>NaN</td>\n",
              "      <td>...</td>\n",
              "      <td>NaN</td>\n",
              "      <td>NaN</td>\n",
              "      <td>NaN</td>\n",
              "      <td>NaN</td>\n",
              "      <td>NaN</td>\n",
              "      <td>NaN</td>\n",
              "      <td>NaN</td>\n",
              "      <td>NaN</td>\n",
              "      <td>NaN</td>\n",
              "      <td>NaN</td>\n",
              "      <td>NaN</td>\n",
              "      <td>NaN</td>\n",
              "      <td>NaN</td>\n",
              "      <td>NaN</td>\n",
              "      <td>NaN</td>\n",
              "      <td>NaN</td>\n",
              "      <td>NaN</td>\n",
              "      <td>3.0</td>\n",
              "      <td>NaN</td>\n",
              "      <td>3.0</td>\n",
              "      <td>NaN</td>\n",
              "      <td>NaN</td>\n",
              "      <td>NaN</td>\n",
              "      <td>4.0</td>\n",
              "      <td>NaN</td>\n",
              "      <td>NaN</td>\n",
              "      <td>NaN</td>\n",
              "      <td>NaN</td>\n",
              "      <td>1.5</td>\n",
              "      <td>NaN</td>\n",
              "      <td>NaN</td>\n",
              "      <td>NaN</td>\n",
              "      <td>NaN</td>\n",
              "      <td>NaN</td>\n",
              "      <td>NaN</td>\n",
              "      <td>NaN</td>\n",
              "      <td>NaN</td>\n",
              "      <td>2.0</td>\n",
              "      <td>NaN</td>\n",
              "      <td>NaN</td>\n",
              "    </tr>\n",
              "    <tr>\n",
              "      <th>4</th>\n",
              "      <td>NaN</td>\n",
              "      <td>NaN</td>\n",
              "      <td>NaN</td>\n",
              "      <td>NaN</td>\n",
              "      <td>NaN</td>\n",
              "      <td>3.0</td>\n",
              "      <td>NaN</td>\n",
              "      <td>NaN</td>\n",
              "      <td>NaN</td>\n",
              "      <td>NaN</td>\n",
              "      <td>NaN</td>\n",
              "      <td>NaN</td>\n",
              "      <td>NaN</td>\n",
              "      <td>3.0</td>\n",
              "      <td>NaN</td>\n",
              "      <td>NaN</td>\n",
              "      <td>NaN</td>\n",
              "      <td>NaN</td>\n",
              "      <td>NaN</td>\n",
              "      <td>NaN</td>\n",
              "      <td>NaN</td>\n",
              "      <td>NaN</td>\n",
              "      <td>NaN</td>\n",
              "      <td>NaN</td>\n",
              "      <td>NaN</td>\n",
              "      <td>NaN</td>\n",
              "      <td>NaN</td>\n",
              "      <td>NaN</td>\n",
              "      <td>NaN</td>\n",
              "      <td>NaN</td>\n",
              "      <td>NaN</td>\n",
              "      <td>NaN</td>\n",
              "      <td>NaN</td>\n",
              "      <td>NaN</td>\n",
              "      <td>NaN</td>\n",
              "      <td>NaN</td>\n",
              "      <td>NaN</td>\n",
              "      <td>NaN</td>\n",
              "      <td>NaN</td>\n",
              "      <td>NaN</td>\n",
              "      <td>...</td>\n",
              "      <td>NaN</td>\n",
              "      <td>NaN</td>\n",
              "      <td>NaN</td>\n",
              "      <td>NaN</td>\n",
              "      <td>NaN</td>\n",
              "      <td>NaN</td>\n",
              "      <td>NaN</td>\n",
              "      <td>NaN</td>\n",
              "      <td>NaN</td>\n",
              "      <td>NaN</td>\n",
              "      <td>NaN</td>\n",
              "      <td>NaN</td>\n",
              "      <td>NaN</td>\n",
              "      <td>NaN</td>\n",
              "      <td>NaN</td>\n",
              "      <td>NaN</td>\n",
              "      <td>NaN</td>\n",
              "      <td>NaN</td>\n",
              "      <td>NaN</td>\n",
              "      <td>NaN</td>\n",
              "      <td>NaN</td>\n",
              "      <td>NaN</td>\n",
              "      <td>NaN</td>\n",
              "      <td>NaN</td>\n",
              "      <td>NaN</td>\n",
              "      <td>NaN</td>\n",
              "      <td>NaN</td>\n",
              "      <td>NaN</td>\n",
              "      <td>NaN</td>\n",
              "      <td>1.5</td>\n",
              "      <td>NaN</td>\n",
              "      <td>NaN</td>\n",
              "      <td>NaN</td>\n",
              "      <td>NaN</td>\n",
              "      <td>NaN</td>\n",
              "      <td>NaN</td>\n",
              "      <td>NaN</td>\n",
              "      <td>NaN</td>\n",
              "      <td>NaN</td>\n",
              "      <td>NaN</td>\n",
              "    </tr>\n",
              "    <tr>\n",
              "      <th>5</th>\n",
              "      <td>NaN</td>\n",
              "      <td>NaN</td>\n",
              "      <td>NaN</td>\n",
              "      <td>NaN</td>\n",
              "      <td>NaN</td>\n",
              "      <td>5.0</td>\n",
              "      <td>NaN</td>\n",
              "      <td>NaN</td>\n",
              "      <td>NaN</td>\n",
              "      <td>NaN</td>\n",
              "      <td>NaN</td>\n",
              "      <td>NaN</td>\n",
              "      <td>NaN</td>\n",
              "      <td>NaN</td>\n",
              "      <td>NaN</td>\n",
              "      <td>NaN</td>\n",
              "      <td>NaN</td>\n",
              "      <td>NaN</td>\n",
              "      <td>NaN</td>\n",
              "      <td>NaN</td>\n",
              "      <td>NaN</td>\n",
              "      <td>NaN</td>\n",
              "      <td>NaN</td>\n",
              "      <td>NaN</td>\n",
              "      <td>NaN</td>\n",
              "      <td>NaN</td>\n",
              "      <td>NaN</td>\n",
              "      <td>NaN</td>\n",
              "      <td>NaN</td>\n",
              "      <td>NaN</td>\n",
              "      <td>3.0</td>\n",
              "      <td>NaN</td>\n",
              "      <td>NaN</td>\n",
              "      <td>NaN</td>\n",
              "      <td>NaN</td>\n",
              "      <td>NaN</td>\n",
              "      <td>NaN</td>\n",
              "      <td>NaN</td>\n",
              "      <td>NaN</td>\n",
              "      <td>NaN</td>\n",
              "      <td>...</td>\n",
              "      <td>NaN</td>\n",
              "      <td>NaN</td>\n",
              "      <td>NaN</td>\n",
              "      <td>NaN</td>\n",
              "      <td>NaN</td>\n",
              "      <td>NaN</td>\n",
              "      <td>NaN</td>\n",
              "      <td>NaN</td>\n",
              "      <td>NaN</td>\n",
              "      <td>NaN</td>\n",
              "      <td>NaN</td>\n",
              "      <td>NaN</td>\n",
              "      <td>NaN</td>\n",
              "      <td>NaN</td>\n",
              "      <td>NaN</td>\n",
              "      <td>NaN</td>\n",
              "      <td>NaN</td>\n",
              "      <td>NaN</td>\n",
              "      <td>NaN</td>\n",
              "      <td>2.0</td>\n",
              "      <td>NaN</td>\n",
              "      <td>NaN</td>\n",
              "      <td>NaN</td>\n",
              "      <td>NaN</td>\n",
              "      <td>NaN</td>\n",
              "      <td>NaN</td>\n",
              "      <td>NaN</td>\n",
              "      <td>NaN</td>\n",
              "      <td>NaN</td>\n",
              "      <td>2.5</td>\n",
              "      <td>NaN</td>\n",
              "      <td>NaN</td>\n",
              "      <td>NaN</td>\n",
              "      <td>3.0</td>\n",
              "      <td>NaN</td>\n",
              "      <td>NaN</td>\n",
              "      <td>NaN</td>\n",
              "      <td>NaN</td>\n",
              "      <td>NaN</td>\n",
              "      <td>NaN</td>\n",
              "    </tr>\n",
              "    <tr>\n",
              "      <th>6</th>\n",
              "      <td>4.0</td>\n",
              "      <td>NaN</td>\n",
              "      <td>NaN</td>\n",
              "      <td>NaN</td>\n",
              "      <td>NaN</td>\n",
              "      <td>4.0</td>\n",
              "      <td>NaN</td>\n",
              "      <td>NaN</td>\n",
              "      <td>NaN</td>\n",
              "      <td>NaN</td>\n",
              "      <td>5.0</td>\n",
              "      <td>NaN</td>\n",
              "      <td>NaN</td>\n",
              "      <td>NaN</td>\n",
              "      <td>NaN</td>\n",
              "      <td>NaN</td>\n",
              "      <td>NaN</td>\n",
              "      <td>4.0</td>\n",
              "      <td>NaN</td>\n",
              "      <td>NaN</td>\n",
              "      <td>NaN</td>\n",
              "      <td>NaN</td>\n",
              "      <td>4.0</td>\n",
              "      <td>4.5</td>\n",
              "      <td>NaN</td>\n",
              "      <td>NaN</td>\n",
              "      <td>NaN</td>\n",
              "      <td>3.5</td>\n",
              "      <td>NaN</td>\n",
              "      <td>NaN</td>\n",
              "      <td>NaN</td>\n",
              "      <td>3.0</td>\n",
              "      <td>NaN</td>\n",
              "      <td>NaN</td>\n",
              "      <td>NaN</td>\n",
              "      <td>NaN</td>\n",
              "      <td>NaN</td>\n",
              "      <td>NaN</td>\n",
              "      <td>NaN</td>\n",
              "      <td>NaN</td>\n",
              "      <td>...</td>\n",
              "      <td>NaN</td>\n",
              "      <td>NaN</td>\n",
              "      <td>4.5</td>\n",
              "      <td>NaN</td>\n",
              "      <td>NaN</td>\n",
              "      <td>NaN</td>\n",
              "      <td>4.0</td>\n",
              "      <td>NaN</td>\n",
              "      <td>NaN</td>\n",
              "      <td>4.0</td>\n",
              "      <td>NaN</td>\n",
              "      <td>NaN</td>\n",
              "      <td>NaN</td>\n",
              "      <td>NaN</td>\n",
              "      <td>NaN</td>\n",
              "      <td>NaN</td>\n",
              "      <td>NaN</td>\n",
              "      <td>5.0</td>\n",
              "      <td>NaN</td>\n",
              "      <td>3.5</td>\n",
              "      <td>NaN</td>\n",
              "      <td>3.0</td>\n",
              "      <td>NaN</td>\n",
              "      <td>NaN</td>\n",
              "      <td>NaN</td>\n",
              "      <td>NaN</td>\n",
              "      <td>3.0</td>\n",
              "      <td>NaN</td>\n",
              "      <td>4.5</td>\n",
              "      <td>NaN</td>\n",
              "      <td>NaN</td>\n",
              "      <td>3.0</td>\n",
              "      <td>4.0</td>\n",
              "      <td>3.0</td>\n",
              "      <td>NaN</td>\n",
              "      <td>NaN</td>\n",
              "      <td>NaN</td>\n",
              "      <td>NaN</td>\n",
              "      <td>NaN</td>\n",
              "      <td>5.0</td>\n",
              "    </tr>\n",
              "    <tr>\n",
              "      <th>7</th>\n",
              "      <td>NaN</td>\n",
              "      <td>NaN</td>\n",
              "      <td>NaN</td>\n",
              "      <td>NaN</td>\n",
              "      <td>NaN</td>\n",
              "      <td>4.0</td>\n",
              "      <td>NaN</td>\n",
              "      <td>NaN</td>\n",
              "      <td>NaN</td>\n",
              "      <td>NaN</td>\n",
              "      <td>NaN</td>\n",
              "      <td>NaN</td>\n",
              "      <td>NaN</td>\n",
              "      <td>3.0</td>\n",
              "      <td>NaN</td>\n",
              "      <td>NaN</td>\n",
              "      <td>NaN</td>\n",
              "      <td>NaN</td>\n",
              "      <td>2.0</td>\n",
              "      <td>NaN</td>\n",
              "      <td>NaN</td>\n",
              "      <td>NaN</td>\n",
              "      <td>NaN</td>\n",
              "      <td>NaN</td>\n",
              "      <td>NaN</td>\n",
              "      <td>NaN</td>\n",
              "      <td>NaN</td>\n",
              "      <td>NaN</td>\n",
              "      <td>NaN</td>\n",
              "      <td>NaN</td>\n",
              "      <td>4.0</td>\n",
              "      <td>4.0</td>\n",
              "      <td>1.0</td>\n",
              "      <td>NaN</td>\n",
              "      <td>NaN</td>\n",
              "      <td>NaN</td>\n",
              "      <td>NaN</td>\n",
              "      <td>NaN</td>\n",
              "      <td>NaN</td>\n",
              "      <td>NaN</td>\n",
              "      <td>...</td>\n",
              "      <td>NaN</td>\n",
              "      <td>NaN</td>\n",
              "      <td>NaN</td>\n",
              "      <td>NaN</td>\n",
              "      <td>NaN</td>\n",
              "      <td>NaN</td>\n",
              "      <td>NaN</td>\n",
              "      <td>NaN</td>\n",
              "      <td>NaN</td>\n",
              "      <td>NaN</td>\n",
              "      <td>NaN</td>\n",
              "      <td>NaN</td>\n",
              "      <td>NaN</td>\n",
              "      <td>NaN</td>\n",
              "      <td>NaN</td>\n",
              "      <td>NaN</td>\n",
              "      <td>NaN</td>\n",
              "      <td>NaN</td>\n",
              "      <td>NaN</td>\n",
              "      <td>NaN</td>\n",
              "      <td>NaN</td>\n",
              "      <td>NaN</td>\n",
              "      <td>NaN</td>\n",
              "      <td>NaN</td>\n",
              "      <td>NaN</td>\n",
              "      <td>NaN</td>\n",
              "      <td>1.0</td>\n",
              "      <td>NaN</td>\n",
              "      <td>2.5</td>\n",
              "      <td>3.5</td>\n",
              "      <td>NaN</td>\n",
              "      <td>NaN</td>\n",
              "      <td>NaN</td>\n",
              "      <td>NaN</td>\n",
              "      <td>NaN</td>\n",
              "      <td>2.5</td>\n",
              "      <td>NaN</td>\n",
              "      <td>NaN</td>\n",
              "      <td>NaN</td>\n",
              "      <td>NaN</td>\n",
              "    </tr>\n",
              "    <tr>\n",
              "      <th>8</th>\n",
              "      <td>NaN</td>\n",
              "      <td>NaN</td>\n",
              "      <td>NaN</td>\n",
              "      <td>NaN</td>\n",
              "      <td>NaN</td>\n",
              "      <td>3.0</td>\n",
              "      <td>NaN</td>\n",
              "      <td>NaN</td>\n",
              "      <td>NaN</td>\n",
              "      <td>NaN</td>\n",
              "      <td>NaN</td>\n",
              "      <td>NaN</td>\n",
              "      <td>NaN</td>\n",
              "      <td>NaN</td>\n",
              "      <td>NaN</td>\n",
              "      <td>NaN</td>\n",
              "      <td>NaN</td>\n",
              "      <td>NaN</td>\n",
              "      <td>NaN</td>\n",
              "      <td>1.0</td>\n",
              "      <td>NaN</td>\n",
              "      <td>NaN</td>\n",
              "      <td>NaN</td>\n",
              "      <td>NaN</td>\n",
              "      <td>NaN</td>\n",
              "      <td>NaN</td>\n",
              "      <td>NaN</td>\n",
              "      <td>NaN</td>\n",
              "      <td>NaN</td>\n",
              "      <td>NaN</td>\n",
              "      <td>NaN</td>\n",
              "      <td>NaN</td>\n",
              "      <td>NaN</td>\n",
              "      <td>NaN</td>\n",
              "      <td>NaN</td>\n",
              "      <td>NaN</td>\n",
              "      <td>NaN</td>\n",
              "      <td>NaN</td>\n",
              "      <td>NaN</td>\n",
              "      <td>NaN</td>\n",
              "      <td>...</td>\n",
              "      <td>NaN</td>\n",
              "      <td>NaN</td>\n",
              "      <td>NaN</td>\n",
              "      <td>NaN</td>\n",
              "      <td>NaN</td>\n",
              "      <td>NaN</td>\n",
              "      <td>NaN</td>\n",
              "      <td>NaN</td>\n",
              "      <td>NaN</td>\n",
              "      <td>NaN</td>\n",
              "      <td>NaN</td>\n",
              "      <td>NaN</td>\n",
              "      <td>NaN</td>\n",
              "      <td>NaN</td>\n",
              "      <td>NaN</td>\n",
              "      <td>NaN</td>\n",
              "      <td>NaN</td>\n",
              "      <td>NaN</td>\n",
              "      <td>NaN</td>\n",
              "      <td>NaN</td>\n",
              "      <td>NaN</td>\n",
              "      <td>NaN</td>\n",
              "      <td>NaN</td>\n",
              "      <td>NaN</td>\n",
              "      <td>NaN</td>\n",
              "      <td>NaN</td>\n",
              "      <td>NaN</td>\n",
              "      <td>NaN</td>\n",
              "      <td>NaN</td>\n",
              "      <td>NaN</td>\n",
              "      <td>NaN</td>\n",
              "      <td>NaN</td>\n",
              "      <td>NaN</td>\n",
              "      <td>NaN</td>\n",
              "      <td>NaN</td>\n",
              "      <td>NaN</td>\n",
              "      <td>NaN</td>\n",
              "      <td>NaN</td>\n",
              "      <td>NaN</td>\n",
              "      <td>NaN</td>\n",
              "    </tr>\n",
              "    <tr>\n",
              "      <th>9</th>\n",
              "      <td>NaN</td>\n",
              "      <td>NaN</td>\n",
              "      <td>NaN</td>\n",
              "      <td>NaN</td>\n",
              "      <td>NaN</td>\n",
              "      <td>NaN</td>\n",
              "      <td>NaN</td>\n",
              "      <td>NaN</td>\n",
              "      <td>NaN</td>\n",
              "      <td>NaN</td>\n",
              "      <td>NaN</td>\n",
              "      <td>NaN</td>\n",
              "      <td>NaN</td>\n",
              "      <td>NaN</td>\n",
              "      <td>NaN</td>\n",
              "      <td>NaN</td>\n",
              "      <td>NaN</td>\n",
              "      <td>NaN</td>\n",
              "      <td>NaN</td>\n",
              "      <td>NaN</td>\n",
              "      <td>NaN</td>\n",
              "      <td>NaN</td>\n",
              "      <td>NaN</td>\n",
              "      <td>NaN</td>\n",
              "      <td>NaN</td>\n",
              "      <td>NaN</td>\n",
              "      <td>NaN</td>\n",
              "      <td>NaN</td>\n",
              "      <td>NaN</td>\n",
              "      <td>NaN</td>\n",
              "      <td>NaN</td>\n",
              "      <td>NaN</td>\n",
              "      <td>NaN</td>\n",
              "      <td>NaN</td>\n",
              "      <td>NaN</td>\n",
              "      <td>NaN</td>\n",
              "      <td>NaN</td>\n",
              "      <td>NaN</td>\n",
              "      <td>NaN</td>\n",
              "      <td>NaN</td>\n",
              "      <td>...</td>\n",
              "      <td>NaN</td>\n",
              "      <td>NaN</td>\n",
              "      <td>NaN</td>\n",
              "      <td>NaN</td>\n",
              "      <td>NaN</td>\n",
              "      <td>NaN</td>\n",
              "      <td>NaN</td>\n",
              "      <td>NaN</td>\n",
              "      <td>NaN</td>\n",
              "      <td>NaN</td>\n",
              "      <td>NaN</td>\n",
              "      <td>NaN</td>\n",
              "      <td>NaN</td>\n",
              "      <td>NaN</td>\n",
              "      <td>NaN</td>\n",
              "      <td>NaN</td>\n",
              "      <td>NaN</td>\n",
              "      <td>NaN</td>\n",
              "      <td>NaN</td>\n",
              "      <td>NaN</td>\n",
              "      <td>NaN</td>\n",
              "      <td>NaN</td>\n",
              "      <td>NaN</td>\n",
              "      <td>NaN</td>\n",
              "      <td>NaN</td>\n",
              "      <td>NaN</td>\n",
              "      <td>NaN</td>\n",
              "      <td>NaN</td>\n",
              "      <td>1.5</td>\n",
              "      <td>NaN</td>\n",
              "      <td>NaN</td>\n",
              "      <td>NaN</td>\n",
              "      <td>NaN</td>\n",
              "      <td>NaN</td>\n",
              "      <td>NaN</td>\n",
              "      <td>NaN</td>\n",
              "      <td>NaN</td>\n",
              "      <td>NaN</td>\n",
              "      <td>NaN</td>\n",
              "      <td>NaN</td>\n",
              "    </tr>\n",
              "    <tr>\n",
              "      <th>10</th>\n",
              "      <td>NaN</td>\n",
              "      <td>NaN</td>\n",
              "      <td>NaN</td>\n",
              "      <td>NaN</td>\n",
              "      <td>NaN</td>\n",
              "      <td>3.0</td>\n",
              "      <td>NaN</td>\n",
              "      <td>2.0</td>\n",
              "      <td>NaN</td>\n",
              "      <td>NaN</td>\n",
              "      <td>3.0</td>\n",
              "      <td>NaN</td>\n",
              "      <td>NaN</td>\n",
              "      <td>NaN</td>\n",
              "      <td>NaN</td>\n",
              "      <td>NaN</td>\n",
              "      <td>NaN</td>\n",
              "      <td>NaN</td>\n",
              "      <td>2.0</td>\n",
              "      <td>NaN</td>\n",
              "      <td>5.0</td>\n",
              "      <td>NaN</td>\n",
              "      <td>NaN</td>\n",
              "      <td>NaN</td>\n",
              "      <td>NaN</td>\n",
              "      <td>3.0</td>\n",
              "      <td>NaN</td>\n",
              "      <td>NaN</td>\n",
              "      <td>NaN</td>\n",
              "      <td>NaN</td>\n",
              "      <td>4.0</td>\n",
              "      <td>NaN</td>\n",
              "      <td>NaN</td>\n",
              "      <td>5.0</td>\n",
              "      <td>NaN</td>\n",
              "      <td>NaN</td>\n",
              "      <td>NaN</td>\n",
              "      <td>NaN</td>\n",
              "      <td>NaN</td>\n",
              "      <td>NaN</td>\n",
              "      <td>...</td>\n",
              "      <td>NaN</td>\n",
              "      <td>NaN</td>\n",
              "      <td>4.5</td>\n",
              "      <td>NaN</td>\n",
              "      <td>NaN</td>\n",
              "      <td>NaN</td>\n",
              "      <td>NaN</td>\n",
              "      <td>NaN</td>\n",
              "      <td>NaN</td>\n",
              "      <td>3.5</td>\n",
              "      <td>NaN</td>\n",
              "      <td>NaN</td>\n",
              "      <td>NaN</td>\n",
              "      <td>5.0</td>\n",
              "      <td>NaN</td>\n",
              "      <td>NaN</td>\n",
              "      <td>NaN</td>\n",
              "      <td>3.0</td>\n",
              "      <td>NaN</td>\n",
              "      <td>3.5</td>\n",
              "      <td>NaN</td>\n",
              "      <td>3.0</td>\n",
              "      <td>NaN</td>\n",
              "      <td>NaN</td>\n",
              "      <td>NaN</td>\n",
              "      <td>NaN</td>\n",
              "      <td>3.0</td>\n",
              "      <td>NaN</td>\n",
              "      <td>3.5</td>\n",
              "      <td>NaN</td>\n",
              "      <td>NaN</td>\n",
              "      <td>3.0</td>\n",
              "      <td>NaN</td>\n",
              "      <td>NaN</td>\n",
              "      <td>NaN</td>\n",
              "      <td>NaN</td>\n",
              "      <td>NaN</td>\n",
              "      <td>4.0</td>\n",
              "      <td>4.0</td>\n",
              "      <td>NaN</td>\n",
              "    </tr>\n",
              "  </tbody>\n",
              "</table>\n",
              "<p>10 rows × 610 columns</p>\n",
              "</div>"
            ],
            "text/plain": [
              "userId   1    2    3    4    5    6    7    ...  604  605  606  607  608  609  610\n",
              "movieId                                     ...                                   \n",
              "1        4.0  NaN  NaN  NaN  4.0  NaN  4.5  ...  3.0  4.0  2.5  4.0  2.5  3.0  5.0\n",
              "2        NaN  NaN  NaN  NaN  NaN  4.0  NaN  ...  5.0  3.5  NaN  NaN  2.0  NaN  NaN\n",
              "3        4.0  NaN  NaN  NaN  NaN  5.0  NaN  ...  NaN  NaN  NaN  NaN  2.0  NaN  NaN\n",
              "4        NaN  NaN  NaN  NaN  NaN  3.0  NaN  ...  NaN  NaN  NaN  NaN  NaN  NaN  NaN\n",
              "5        NaN  NaN  NaN  NaN  NaN  5.0  NaN  ...  3.0  NaN  NaN  NaN  NaN  NaN  NaN\n",
              "6        4.0  NaN  NaN  NaN  NaN  4.0  NaN  ...  3.0  NaN  NaN  NaN  NaN  NaN  5.0\n",
              "7        NaN  NaN  NaN  NaN  NaN  4.0  NaN  ...  NaN  NaN  2.5  NaN  NaN  NaN  NaN\n",
              "8        NaN  NaN  NaN  NaN  NaN  3.0  NaN  ...  NaN  NaN  NaN  NaN  NaN  NaN  NaN\n",
              "9        NaN  NaN  NaN  NaN  NaN  NaN  NaN  ...  NaN  NaN  NaN  NaN  NaN  NaN  NaN\n",
              "10       NaN  NaN  NaN  NaN  NaN  3.0  NaN  ...  NaN  NaN  NaN  NaN  4.0  4.0  NaN\n",
              "\n",
              "[10 rows x 610 columns]"
            ]
          },
          "metadata": {},
          "execution_count": 10
        }
      ]
    },
    {
      "cell_type": "code",
      "metadata": {
        "colab": {
          "base_uri": "https://localhost:8080/"
        },
        "id": "3zeSO8ERorcx",
        "outputId": "84d268f5-dd45-450a-be93-47f5895f96e5"
      },
      "source": [
        "final_dataset.shape"
      ],
      "execution_count": null,
      "outputs": [
        {
          "output_type": "execute_result",
          "data": {
            "text/plain": [
              "(9724, 610)"
            ]
          },
          "metadata": {},
          "execution_count": 11
        }
      ]
    },
    {
      "cell_type": "markdown",
      "metadata": {
        "id": "23yV-BDDo0Sm"
      },
      "source": [
        "> ### There are many movies that weren't rated by users, so, there are many NaN values so will be imputed.\n",
        "\n",
        "> As we know that not all users watch all the movies, we can expect a lot of missing values. We will have to fill those missing observations with 0s since we are going to perform linear algebra operations (calculating distances between vectors)."
      ]
    },
    {
      "cell_type": "code",
      "metadata": {
        "colab": {
          "base_uri": "https://localhost:8080/",
          "height": 284
        },
        "id": "5smAqCO788YC",
        "outputId": "4e34f38c-fbce-49f5-df28-b6d5ee46c8a7"
      },
      "source": [
        "final_dataset.fillna(0, inplace=True)\n",
        "final_dataset.head()"
      ],
      "execution_count": null,
      "outputs": [
        {
          "output_type": "execute_result",
          "data": {
            "text/html": [
              "<div>\n",
              "<style scoped>\n",
              "    .dataframe tbody tr th:only-of-type {\n",
              "        vertical-align: middle;\n",
              "    }\n",
              "\n",
              "    .dataframe tbody tr th {\n",
              "        vertical-align: top;\n",
              "    }\n",
              "\n",
              "    .dataframe thead th {\n",
              "        text-align: right;\n",
              "    }\n",
              "</style>\n",
              "<table border=\"1\" class=\"dataframe\">\n",
              "  <thead>\n",
              "    <tr style=\"text-align: right;\">\n",
              "      <th>userId</th>\n",
              "      <th>1</th>\n",
              "      <th>2</th>\n",
              "      <th>3</th>\n",
              "      <th>4</th>\n",
              "      <th>5</th>\n",
              "      <th>6</th>\n",
              "      <th>7</th>\n",
              "      <th>8</th>\n",
              "      <th>9</th>\n",
              "      <th>10</th>\n",
              "      <th>11</th>\n",
              "      <th>12</th>\n",
              "      <th>13</th>\n",
              "      <th>14</th>\n",
              "      <th>15</th>\n",
              "      <th>16</th>\n",
              "      <th>17</th>\n",
              "      <th>18</th>\n",
              "      <th>19</th>\n",
              "      <th>20</th>\n",
              "      <th>21</th>\n",
              "      <th>22</th>\n",
              "      <th>23</th>\n",
              "      <th>24</th>\n",
              "      <th>25</th>\n",
              "      <th>26</th>\n",
              "      <th>27</th>\n",
              "      <th>28</th>\n",
              "      <th>29</th>\n",
              "      <th>30</th>\n",
              "      <th>31</th>\n",
              "      <th>32</th>\n",
              "      <th>33</th>\n",
              "      <th>34</th>\n",
              "      <th>35</th>\n",
              "      <th>36</th>\n",
              "      <th>37</th>\n",
              "      <th>38</th>\n",
              "      <th>39</th>\n",
              "      <th>40</th>\n",
              "      <th>...</th>\n",
              "      <th>571</th>\n",
              "      <th>572</th>\n",
              "      <th>573</th>\n",
              "      <th>574</th>\n",
              "      <th>575</th>\n",
              "      <th>576</th>\n",
              "      <th>577</th>\n",
              "      <th>578</th>\n",
              "      <th>579</th>\n",
              "      <th>580</th>\n",
              "      <th>581</th>\n",
              "      <th>582</th>\n",
              "      <th>583</th>\n",
              "      <th>584</th>\n",
              "      <th>585</th>\n",
              "      <th>586</th>\n",
              "      <th>587</th>\n",
              "      <th>588</th>\n",
              "      <th>589</th>\n",
              "      <th>590</th>\n",
              "      <th>591</th>\n",
              "      <th>592</th>\n",
              "      <th>593</th>\n",
              "      <th>594</th>\n",
              "      <th>595</th>\n",
              "      <th>596</th>\n",
              "      <th>597</th>\n",
              "      <th>598</th>\n",
              "      <th>599</th>\n",
              "      <th>600</th>\n",
              "      <th>601</th>\n",
              "      <th>602</th>\n",
              "      <th>603</th>\n",
              "      <th>604</th>\n",
              "      <th>605</th>\n",
              "      <th>606</th>\n",
              "      <th>607</th>\n",
              "      <th>608</th>\n",
              "      <th>609</th>\n",
              "      <th>610</th>\n",
              "    </tr>\n",
              "    <tr>\n",
              "      <th>movieId</th>\n",
              "      <th></th>\n",
              "      <th></th>\n",
              "      <th></th>\n",
              "      <th></th>\n",
              "      <th></th>\n",
              "      <th></th>\n",
              "      <th></th>\n",
              "      <th></th>\n",
              "      <th></th>\n",
              "      <th></th>\n",
              "      <th></th>\n",
              "      <th></th>\n",
              "      <th></th>\n",
              "      <th></th>\n",
              "      <th></th>\n",
              "      <th></th>\n",
              "      <th></th>\n",
              "      <th></th>\n",
              "      <th></th>\n",
              "      <th></th>\n",
              "      <th></th>\n",
              "      <th></th>\n",
              "      <th></th>\n",
              "      <th></th>\n",
              "      <th></th>\n",
              "      <th></th>\n",
              "      <th></th>\n",
              "      <th></th>\n",
              "      <th></th>\n",
              "      <th></th>\n",
              "      <th></th>\n",
              "      <th></th>\n",
              "      <th></th>\n",
              "      <th></th>\n",
              "      <th></th>\n",
              "      <th></th>\n",
              "      <th></th>\n",
              "      <th></th>\n",
              "      <th></th>\n",
              "      <th></th>\n",
              "      <th></th>\n",
              "      <th></th>\n",
              "      <th></th>\n",
              "      <th></th>\n",
              "      <th></th>\n",
              "      <th></th>\n",
              "      <th></th>\n",
              "      <th></th>\n",
              "      <th></th>\n",
              "      <th></th>\n",
              "      <th></th>\n",
              "      <th></th>\n",
              "      <th></th>\n",
              "      <th></th>\n",
              "      <th></th>\n",
              "      <th></th>\n",
              "      <th></th>\n",
              "      <th></th>\n",
              "      <th></th>\n",
              "      <th></th>\n",
              "      <th></th>\n",
              "      <th></th>\n",
              "      <th></th>\n",
              "      <th></th>\n",
              "      <th></th>\n",
              "      <th></th>\n",
              "      <th></th>\n",
              "      <th></th>\n",
              "      <th></th>\n",
              "      <th></th>\n",
              "      <th></th>\n",
              "      <th></th>\n",
              "      <th></th>\n",
              "      <th></th>\n",
              "      <th></th>\n",
              "      <th></th>\n",
              "      <th></th>\n",
              "      <th></th>\n",
              "      <th></th>\n",
              "      <th></th>\n",
              "      <th></th>\n",
              "    </tr>\n",
              "  </thead>\n",
              "  <tbody>\n",
              "    <tr>\n",
              "      <th>1</th>\n",
              "      <td>4.0</td>\n",
              "      <td>0.0</td>\n",
              "      <td>0.0</td>\n",
              "      <td>0.0</td>\n",
              "      <td>4.0</td>\n",
              "      <td>0.0</td>\n",
              "      <td>4.5</td>\n",
              "      <td>0.0</td>\n",
              "      <td>0.0</td>\n",
              "      <td>0.0</td>\n",
              "      <td>0.0</td>\n",
              "      <td>0.0</td>\n",
              "      <td>0.0</td>\n",
              "      <td>0.0</td>\n",
              "      <td>2.5</td>\n",
              "      <td>0.0</td>\n",
              "      <td>4.5</td>\n",
              "      <td>3.5</td>\n",
              "      <td>4.0</td>\n",
              "      <td>0.0</td>\n",
              "      <td>3.5</td>\n",
              "      <td>0.0</td>\n",
              "      <td>0.0</td>\n",
              "      <td>0.0</td>\n",
              "      <td>0.0</td>\n",
              "      <td>0.0</td>\n",
              "      <td>3.0</td>\n",
              "      <td>0.0</td>\n",
              "      <td>0.0</td>\n",
              "      <td>0.0</td>\n",
              "      <td>5.0</td>\n",
              "      <td>3.0</td>\n",
              "      <td>3.0</td>\n",
              "      <td>0.0</td>\n",
              "      <td>0.0</td>\n",
              "      <td>0.0</td>\n",
              "      <td>0.0</td>\n",
              "      <td>0.0</td>\n",
              "      <td>0.0</td>\n",
              "      <td>5.0</td>\n",
              "      <td>...</td>\n",
              "      <td>0.0</td>\n",
              "      <td>4.0</td>\n",
              "      <td>5.0</td>\n",
              "      <td>0.0</td>\n",
              "      <td>0.0</td>\n",
              "      <td>0.0</td>\n",
              "      <td>0.0</td>\n",
              "      <td>0.0</td>\n",
              "      <td>4.0</td>\n",
              "      <td>3.0</td>\n",
              "      <td>0.0</td>\n",
              "      <td>0.0</td>\n",
              "      <td>0.0</td>\n",
              "      <td>5.0</td>\n",
              "      <td>0.0</td>\n",
              "      <td>0.0</td>\n",
              "      <td>5.0</td>\n",
              "      <td>0.0</td>\n",
              "      <td>0.0</td>\n",
              "      <td>4.0</td>\n",
              "      <td>0.0</td>\n",
              "      <td>0.0</td>\n",
              "      <td>0.0</td>\n",
              "      <td>0.0</td>\n",
              "      <td>0.0</td>\n",
              "      <td>4.0</td>\n",
              "      <td>4.0</td>\n",
              "      <td>0.0</td>\n",
              "      <td>3.0</td>\n",
              "      <td>2.5</td>\n",
              "      <td>4.0</td>\n",
              "      <td>0.0</td>\n",
              "      <td>4.0</td>\n",
              "      <td>3.0</td>\n",
              "      <td>4.0</td>\n",
              "      <td>2.5</td>\n",
              "      <td>4.0</td>\n",
              "      <td>2.5</td>\n",
              "      <td>3.0</td>\n",
              "      <td>5.0</td>\n",
              "    </tr>\n",
              "    <tr>\n",
              "      <th>2</th>\n",
              "      <td>0.0</td>\n",
              "      <td>0.0</td>\n",
              "      <td>0.0</td>\n",
              "      <td>0.0</td>\n",
              "      <td>0.0</td>\n",
              "      <td>4.0</td>\n",
              "      <td>0.0</td>\n",
              "      <td>4.0</td>\n",
              "      <td>0.0</td>\n",
              "      <td>0.0</td>\n",
              "      <td>0.0</td>\n",
              "      <td>0.0</td>\n",
              "      <td>0.0</td>\n",
              "      <td>0.0</td>\n",
              "      <td>0.0</td>\n",
              "      <td>0.0</td>\n",
              "      <td>0.0</td>\n",
              "      <td>3.0</td>\n",
              "      <td>3.0</td>\n",
              "      <td>3.0</td>\n",
              "      <td>3.5</td>\n",
              "      <td>0.0</td>\n",
              "      <td>0.0</td>\n",
              "      <td>0.0</td>\n",
              "      <td>0.0</td>\n",
              "      <td>0.0</td>\n",
              "      <td>4.0</td>\n",
              "      <td>0.0</td>\n",
              "      <td>0.0</td>\n",
              "      <td>0.0</td>\n",
              "      <td>0.0</td>\n",
              "      <td>0.0</td>\n",
              "      <td>0.0</td>\n",
              "      <td>0.0</td>\n",
              "      <td>0.0</td>\n",
              "      <td>0.0</td>\n",
              "      <td>0.0</td>\n",
              "      <td>0.0</td>\n",
              "      <td>0.0</td>\n",
              "      <td>0.0</td>\n",
              "      <td>...</td>\n",
              "      <td>0.0</td>\n",
              "      <td>0.0</td>\n",
              "      <td>4.5</td>\n",
              "      <td>0.0</td>\n",
              "      <td>0.0</td>\n",
              "      <td>0.0</td>\n",
              "      <td>0.0</td>\n",
              "      <td>0.0</td>\n",
              "      <td>0.0</td>\n",
              "      <td>0.0</td>\n",
              "      <td>0.0</td>\n",
              "      <td>0.0</td>\n",
              "      <td>0.0</td>\n",
              "      <td>0.0</td>\n",
              "      <td>0.0</td>\n",
              "      <td>4.0</td>\n",
              "      <td>0.0</td>\n",
              "      <td>0.0</td>\n",
              "      <td>0.0</td>\n",
              "      <td>2.5</td>\n",
              "      <td>0.0</td>\n",
              "      <td>4.0</td>\n",
              "      <td>0.0</td>\n",
              "      <td>4.0</td>\n",
              "      <td>0.0</td>\n",
              "      <td>0.0</td>\n",
              "      <td>0.0</td>\n",
              "      <td>0.0</td>\n",
              "      <td>2.5</td>\n",
              "      <td>4.0</td>\n",
              "      <td>0.0</td>\n",
              "      <td>4.0</td>\n",
              "      <td>0.0</td>\n",
              "      <td>5.0</td>\n",
              "      <td>3.5</td>\n",
              "      <td>0.0</td>\n",
              "      <td>0.0</td>\n",
              "      <td>2.0</td>\n",
              "      <td>0.0</td>\n",
              "      <td>0.0</td>\n",
              "    </tr>\n",
              "    <tr>\n",
              "      <th>3</th>\n",
              "      <td>4.0</td>\n",
              "      <td>0.0</td>\n",
              "      <td>0.0</td>\n",
              "      <td>0.0</td>\n",
              "      <td>0.0</td>\n",
              "      <td>5.0</td>\n",
              "      <td>0.0</td>\n",
              "      <td>0.0</td>\n",
              "      <td>0.0</td>\n",
              "      <td>0.0</td>\n",
              "      <td>0.0</td>\n",
              "      <td>0.0</td>\n",
              "      <td>0.0</td>\n",
              "      <td>0.0</td>\n",
              "      <td>0.0</td>\n",
              "      <td>0.0</td>\n",
              "      <td>0.0</td>\n",
              "      <td>0.0</td>\n",
              "      <td>3.0</td>\n",
              "      <td>0.0</td>\n",
              "      <td>0.0</td>\n",
              "      <td>0.0</td>\n",
              "      <td>0.0</td>\n",
              "      <td>0.0</td>\n",
              "      <td>0.0</td>\n",
              "      <td>0.0</td>\n",
              "      <td>0.0</td>\n",
              "      <td>0.0</td>\n",
              "      <td>0.0</td>\n",
              "      <td>0.0</td>\n",
              "      <td>0.0</td>\n",
              "      <td>3.0</td>\n",
              "      <td>0.0</td>\n",
              "      <td>0.0</td>\n",
              "      <td>0.0</td>\n",
              "      <td>0.0</td>\n",
              "      <td>0.0</td>\n",
              "      <td>0.0</td>\n",
              "      <td>0.0</td>\n",
              "      <td>0.0</td>\n",
              "      <td>...</td>\n",
              "      <td>0.0</td>\n",
              "      <td>0.0</td>\n",
              "      <td>0.0</td>\n",
              "      <td>0.0</td>\n",
              "      <td>0.0</td>\n",
              "      <td>0.0</td>\n",
              "      <td>0.0</td>\n",
              "      <td>0.0</td>\n",
              "      <td>0.0</td>\n",
              "      <td>0.0</td>\n",
              "      <td>0.0</td>\n",
              "      <td>0.0</td>\n",
              "      <td>0.0</td>\n",
              "      <td>0.0</td>\n",
              "      <td>0.0</td>\n",
              "      <td>0.0</td>\n",
              "      <td>0.0</td>\n",
              "      <td>3.0</td>\n",
              "      <td>0.0</td>\n",
              "      <td>3.0</td>\n",
              "      <td>0.0</td>\n",
              "      <td>0.0</td>\n",
              "      <td>0.0</td>\n",
              "      <td>4.0</td>\n",
              "      <td>0.0</td>\n",
              "      <td>0.0</td>\n",
              "      <td>0.0</td>\n",
              "      <td>0.0</td>\n",
              "      <td>1.5</td>\n",
              "      <td>0.0</td>\n",
              "      <td>0.0</td>\n",
              "      <td>0.0</td>\n",
              "      <td>0.0</td>\n",
              "      <td>0.0</td>\n",
              "      <td>0.0</td>\n",
              "      <td>0.0</td>\n",
              "      <td>0.0</td>\n",
              "      <td>2.0</td>\n",
              "      <td>0.0</td>\n",
              "      <td>0.0</td>\n",
              "    </tr>\n",
              "    <tr>\n",
              "      <th>4</th>\n",
              "      <td>0.0</td>\n",
              "      <td>0.0</td>\n",
              "      <td>0.0</td>\n",
              "      <td>0.0</td>\n",
              "      <td>0.0</td>\n",
              "      <td>3.0</td>\n",
              "      <td>0.0</td>\n",
              "      <td>0.0</td>\n",
              "      <td>0.0</td>\n",
              "      <td>0.0</td>\n",
              "      <td>0.0</td>\n",
              "      <td>0.0</td>\n",
              "      <td>0.0</td>\n",
              "      <td>3.0</td>\n",
              "      <td>0.0</td>\n",
              "      <td>0.0</td>\n",
              "      <td>0.0</td>\n",
              "      <td>0.0</td>\n",
              "      <td>0.0</td>\n",
              "      <td>0.0</td>\n",
              "      <td>0.0</td>\n",
              "      <td>0.0</td>\n",
              "      <td>0.0</td>\n",
              "      <td>0.0</td>\n",
              "      <td>0.0</td>\n",
              "      <td>0.0</td>\n",
              "      <td>0.0</td>\n",
              "      <td>0.0</td>\n",
              "      <td>0.0</td>\n",
              "      <td>0.0</td>\n",
              "      <td>0.0</td>\n",
              "      <td>0.0</td>\n",
              "      <td>0.0</td>\n",
              "      <td>0.0</td>\n",
              "      <td>0.0</td>\n",
              "      <td>0.0</td>\n",
              "      <td>0.0</td>\n",
              "      <td>0.0</td>\n",
              "      <td>0.0</td>\n",
              "      <td>0.0</td>\n",
              "      <td>...</td>\n",
              "      <td>0.0</td>\n",
              "      <td>0.0</td>\n",
              "      <td>0.0</td>\n",
              "      <td>0.0</td>\n",
              "      <td>0.0</td>\n",
              "      <td>0.0</td>\n",
              "      <td>0.0</td>\n",
              "      <td>0.0</td>\n",
              "      <td>0.0</td>\n",
              "      <td>0.0</td>\n",
              "      <td>0.0</td>\n",
              "      <td>0.0</td>\n",
              "      <td>0.0</td>\n",
              "      <td>0.0</td>\n",
              "      <td>0.0</td>\n",
              "      <td>0.0</td>\n",
              "      <td>0.0</td>\n",
              "      <td>0.0</td>\n",
              "      <td>0.0</td>\n",
              "      <td>0.0</td>\n",
              "      <td>0.0</td>\n",
              "      <td>0.0</td>\n",
              "      <td>0.0</td>\n",
              "      <td>0.0</td>\n",
              "      <td>0.0</td>\n",
              "      <td>0.0</td>\n",
              "      <td>0.0</td>\n",
              "      <td>0.0</td>\n",
              "      <td>0.0</td>\n",
              "      <td>1.5</td>\n",
              "      <td>0.0</td>\n",
              "      <td>0.0</td>\n",
              "      <td>0.0</td>\n",
              "      <td>0.0</td>\n",
              "      <td>0.0</td>\n",
              "      <td>0.0</td>\n",
              "      <td>0.0</td>\n",
              "      <td>0.0</td>\n",
              "      <td>0.0</td>\n",
              "      <td>0.0</td>\n",
              "    </tr>\n",
              "    <tr>\n",
              "      <th>5</th>\n",
              "      <td>0.0</td>\n",
              "      <td>0.0</td>\n",
              "      <td>0.0</td>\n",
              "      <td>0.0</td>\n",
              "      <td>0.0</td>\n",
              "      <td>5.0</td>\n",
              "      <td>0.0</td>\n",
              "      <td>0.0</td>\n",
              "      <td>0.0</td>\n",
              "      <td>0.0</td>\n",
              "      <td>0.0</td>\n",
              "      <td>0.0</td>\n",
              "      <td>0.0</td>\n",
              "      <td>0.0</td>\n",
              "      <td>0.0</td>\n",
              "      <td>0.0</td>\n",
              "      <td>0.0</td>\n",
              "      <td>0.0</td>\n",
              "      <td>0.0</td>\n",
              "      <td>0.0</td>\n",
              "      <td>0.0</td>\n",
              "      <td>0.0</td>\n",
              "      <td>0.0</td>\n",
              "      <td>0.0</td>\n",
              "      <td>0.0</td>\n",
              "      <td>0.0</td>\n",
              "      <td>0.0</td>\n",
              "      <td>0.0</td>\n",
              "      <td>0.0</td>\n",
              "      <td>0.0</td>\n",
              "      <td>3.0</td>\n",
              "      <td>0.0</td>\n",
              "      <td>0.0</td>\n",
              "      <td>0.0</td>\n",
              "      <td>0.0</td>\n",
              "      <td>0.0</td>\n",
              "      <td>0.0</td>\n",
              "      <td>0.0</td>\n",
              "      <td>0.0</td>\n",
              "      <td>0.0</td>\n",
              "      <td>...</td>\n",
              "      <td>0.0</td>\n",
              "      <td>0.0</td>\n",
              "      <td>0.0</td>\n",
              "      <td>0.0</td>\n",
              "      <td>0.0</td>\n",
              "      <td>0.0</td>\n",
              "      <td>0.0</td>\n",
              "      <td>0.0</td>\n",
              "      <td>0.0</td>\n",
              "      <td>0.0</td>\n",
              "      <td>0.0</td>\n",
              "      <td>0.0</td>\n",
              "      <td>0.0</td>\n",
              "      <td>0.0</td>\n",
              "      <td>0.0</td>\n",
              "      <td>0.0</td>\n",
              "      <td>0.0</td>\n",
              "      <td>0.0</td>\n",
              "      <td>0.0</td>\n",
              "      <td>2.0</td>\n",
              "      <td>0.0</td>\n",
              "      <td>0.0</td>\n",
              "      <td>0.0</td>\n",
              "      <td>0.0</td>\n",
              "      <td>0.0</td>\n",
              "      <td>0.0</td>\n",
              "      <td>0.0</td>\n",
              "      <td>0.0</td>\n",
              "      <td>0.0</td>\n",
              "      <td>2.5</td>\n",
              "      <td>0.0</td>\n",
              "      <td>0.0</td>\n",
              "      <td>0.0</td>\n",
              "      <td>3.0</td>\n",
              "      <td>0.0</td>\n",
              "      <td>0.0</td>\n",
              "      <td>0.0</td>\n",
              "      <td>0.0</td>\n",
              "      <td>0.0</td>\n",
              "      <td>0.0</td>\n",
              "    </tr>\n",
              "  </tbody>\n",
              "</table>\n",
              "<p>5 rows × 610 columns</p>\n",
              "</div>"
            ],
            "text/plain": [
              "userId   1    2    3    4    5    6    7    ...  604  605  606  607  608  609  610\n",
              "movieId                                     ...                                   \n",
              "1        4.0  0.0  0.0  0.0  4.0  0.0  4.5  ...  3.0  4.0  2.5  4.0  2.5  3.0  5.0\n",
              "2        0.0  0.0  0.0  0.0  0.0  4.0  0.0  ...  5.0  3.5  0.0  0.0  2.0  0.0  0.0\n",
              "3        4.0  0.0  0.0  0.0  0.0  5.0  0.0  ...  0.0  0.0  0.0  0.0  2.0  0.0  0.0\n",
              "4        0.0  0.0  0.0  0.0  0.0  3.0  0.0  ...  0.0  0.0  0.0  0.0  0.0  0.0  0.0\n",
              "5        0.0  0.0  0.0  0.0  0.0  5.0  0.0  ...  3.0  0.0  0.0  0.0  0.0  0.0  0.0\n",
              "\n",
              "[5 rows x 610 columns]"
            ]
          },
          "metadata": {},
          "execution_count": 12
        }
      ]
    },
    {
      "cell_type": "markdown",
      "metadata": {
        "id": "7Wvt0LkYpmuE"
      },
      "source": [
        "> ### To make the data valuable and credible for good recommendation, we will put limits for the number of votes for a movie to be well rated and the number of votes for a user to trust his rating."
      ]
    },
    {
      "cell_type": "code",
      "metadata": {
        "colab": {
          "base_uri": "https://localhost:8080/"
        },
        "id": "HPnQnXYu_4OV",
        "outputId": "837040a7-0921-4fe7-9f47-765ee54c4101"
      },
      "source": [
        "# count number of votes for each movie\n",
        "ratings_df.groupby('movieId')['rating'].agg('count')"
      ],
      "execution_count": null,
      "outputs": [
        {
          "output_type": "execute_result",
          "data": {
            "text/plain": [
              "movieId\n",
              "1         215\n",
              "2         110\n",
              "3          52\n",
              "4           7\n",
              "5          49\n",
              "         ... \n",
              "193581      1\n",
              "193583      1\n",
              "193585      1\n",
              "193587      1\n",
              "193609      1\n",
              "Name: rating, Length: 9724, dtype: int64"
            ]
          },
          "metadata": {},
          "execution_count": 13
        }
      ]
    },
    {
      "cell_type": "code",
      "metadata": {
        "colab": {
          "base_uri": "https://localhost:8080/"
        },
        "id": "ZoxaVDmyBKZ8",
        "outputId": "da3dbede-9793-404a-a702-c4f8e5b38264"
      },
      "source": [
        "# count number of movies rated by a user\n",
        "ratings_df.groupby('userId')['rating'].agg('count')"
      ],
      "execution_count": null,
      "outputs": [
        {
          "output_type": "execute_result",
          "data": {
            "text/plain": [
              "userId\n",
              "1       232\n",
              "2        29\n",
              "3        39\n",
              "4       216\n",
              "5        44\n",
              "       ... \n",
              "606    1115\n",
              "607     187\n",
              "608     831\n",
              "609      37\n",
              "610    1302\n",
              "Name: rating, Length: 610, dtype: int64"
            ]
          },
          "metadata": {},
          "execution_count": 14
        }
      ]
    },
    {
      "cell_type": "code",
      "metadata": {
        "id": "O6MZiHG99MNT"
      },
      "source": [
        "users_per_movie_count = ratings_df.groupby('movieId')['rating'].agg('count')\n",
        "votes_per_user_count = ratings_df.groupby('userId')['rating'].agg('count')"
      ],
      "execution_count": null,
      "outputs": []
    },
    {
      "cell_type": "markdown",
      "metadata": {
        "id": "W4wjtnQ1q9pm"
      },
      "source": [
        "# Visualize the number of votes for each movie"
      ]
    },
    {
      "cell_type": "code",
      "metadata": {
        "colab": {
          "base_uri": "https://localhost:8080/",
          "height": 469
        },
        "id": "dRtMFIuIA79I",
        "outputId": "7d3805b5-e550-45d0-8de4-916e90369b42"
      },
      "source": [
        "plt.figure(figsize=(15,7))\n",
        "plt.scatter(users_per_movie_count.index, users_per_movie_count.values, color='darkblue', alpha=0.7)\n",
        "plt.xlabel('MovieId')\n",
        "plt.ylabel('No. of users voted')\n",
        "plt.xticks(rotation=45)\n",
        "plt.show()"
      ],
      "execution_count": null,
      "outputs": [
        {
          "output_type": "display_data",
          "data": {
            "image/png": "[encoded data removed]",
            "text/plain": [
              "<Figure size 1080x504 with 1 Axes>"
            ]
          },
          "metadata": {}
        }
      ]
    },
    {
      "cell_type": "markdown",
      "metadata": {
        "id": "A0IFrS21r6_H"
      },
      "source": [
        "> ### We will put a threshold for the number of votes on a movie to be accepted after getting **10** votes."
      ]
    },
    {
      "cell_type": "code",
      "metadata": {
        "id": "cWT7naCfGGSZ"
      },
      "source": [
        "N_VOTES_THRESHOLD = 10\n",
        "final_dataset = final_dataset.loc[users_per_movie_count[users_per_movie_count >= N_VOTES_THRESHOLD].index, :]"
      ],
      "execution_count": null,
      "outputs": []
    },
    {
      "cell_type": "markdown",
      "metadata": {
        "id": "ttstiHyys5hR"
      },
      "source": [
        "# Visualize the number of movies rated by each user"
      ]
    },
    {
      "cell_type": "code",
      "metadata": {
        "colab": {
          "base_uri": "https://localhost:8080/",
          "height": 445
        },
        "id": "X5fLOrVUHZB4",
        "outputId": "47926674-ae07-4b42-be53-658391e3b5e6"
      },
      "source": [
        "plt.figure(figsize=(15,7))\n",
        "plt.scatter(votes_per_user_count.index, votes_per_user_count.values, color='darkblue', alpha=0.7)\n",
        "plt.xlabel('UserId')\n",
        "plt.ylabel('No. of votes by user')\n",
        "plt.show()"
      ],
      "execution_count": null,
      "outputs": [
        {
          "output_type": "display_data",
          "data": {
            "image/png": "[encoded data removed]",
            "text/plain": [
              "<Figure size 1080x504 with 1 Axes>"
            ]
          },
          "metadata": {}
        }
      ]
    },
    {
      "cell_type": "markdown",
      "metadata": {
        "id": "-H2Gn_oitC9Y"
      },
      "source": [
        "> ### We will put a threshold for the number of movies rated by a user for his rating to be accepted after getting **25** votes."
      ]
    },
    {
      "cell_type": "code",
      "metadata": {
        "id": "wJhH-RWRHZn5"
      },
      "source": [
        "N_RATES_THRESHOLD = 25\n",
        "final_dataset = final_dataset.loc[:, votes_per_user_count[votes_per_user_count >= N_RATES_THRESHOLD].index]"
      ],
      "execution_count": null,
      "outputs": []
    },
    {
      "cell_type": "code",
      "metadata": {
        "colab": {
          "base_uri": "https://localhost:8080/",
          "height": 284
        },
        "id": "3V_hlTwVJMvQ",
        "outputId": "1b9097d4-c859-43d8-cf21-4f55af834ef0"
      },
      "source": [
        "final_dataset.head()"
      ],
      "execution_count": null,
      "outputs": [
        {
          "output_type": "execute_result",
          "data": {
            "text/html": [
              "<div>\n",
              "<style scoped>\n",
              "    .dataframe tbody tr th:only-of-type {\n",
              "        vertical-align: middle;\n",
              "    }\n",
              "\n",
              "    .dataframe tbody tr th {\n",
              "        vertical-align: top;\n",
              "    }\n",
              "\n",
              "    .dataframe thead th {\n",
              "        text-align: right;\n",
              "    }\n",
              "</style>\n",
              "<table border=\"1\" class=\"dataframe\">\n",
              "  <thead>\n",
              "    <tr style=\"text-align: right;\">\n",
              "      <th>userId</th>\n",
              "      <th>1</th>\n",
              "      <th>2</th>\n",
              "      <th>3</th>\n",
              "      <th>4</th>\n",
              "      <th>5</th>\n",
              "      <th>6</th>\n",
              "      <th>7</th>\n",
              "      <th>8</th>\n",
              "      <th>9</th>\n",
              "      <th>10</th>\n",
              "      <th>11</th>\n",
              "      <th>12</th>\n",
              "      <th>13</th>\n",
              "      <th>14</th>\n",
              "      <th>15</th>\n",
              "      <th>16</th>\n",
              "      <th>17</th>\n",
              "      <th>18</th>\n",
              "      <th>19</th>\n",
              "      <th>20</th>\n",
              "      <th>21</th>\n",
              "      <th>22</th>\n",
              "      <th>23</th>\n",
              "      <th>24</th>\n",
              "      <th>25</th>\n",
              "      <th>27</th>\n",
              "      <th>28</th>\n",
              "      <th>29</th>\n",
              "      <th>30</th>\n",
              "      <th>31</th>\n",
              "      <th>32</th>\n",
              "      <th>33</th>\n",
              "      <th>34</th>\n",
              "      <th>36</th>\n",
              "      <th>38</th>\n",
              "      <th>39</th>\n",
              "      <th>40</th>\n",
              "      <th>41</th>\n",
              "      <th>42</th>\n",
              "      <th>43</th>\n",
              "      <th>...</th>\n",
              "      <th>565</th>\n",
              "      <th>566</th>\n",
              "      <th>567</th>\n",
              "      <th>570</th>\n",
              "      <th>571</th>\n",
              "      <th>572</th>\n",
              "      <th>573</th>\n",
              "      <th>575</th>\n",
              "      <th>577</th>\n",
              "      <th>578</th>\n",
              "      <th>579</th>\n",
              "      <th>580</th>\n",
              "      <th>581</th>\n",
              "      <th>582</th>\n",
              "      <th>583</th>\n",
              "      <th>584</th>\n",
              "      <th>585</th>\n",
              "      <th>586</th>\n",
              "      <th>587</th>\n",
              "      <th>588</th>\n",
              "      <th>589</th>\n",
              "      <th>590</th>\n",
              "      <th>591</th>\n",
              "      <th>592</th>\n",
              "      <th>593</th>\n",
              "      <th>594</th>\n",
              "      <th>596</th>\n",
              "      <th>597</th>\n",
              "      <th>599</th>\n",
              "      <th>600</th>\n",
              "      <th>601</th>\n",
              "      <th>602</th>\n",
              "      <th>603</th>\n",
              "      <th>604</th>\n",
              "      <th>605</th>\n",
              "      <th>606</th>\n",
              "      <th>607</th>\n",
              "      <th>608</th>\n",
              "      <th>609</th>\n",
              "      <th>610</th>\n",
              "    </tr>\n",
              "    <tr>\n",
              "      <th>movieId</th>\n",
              "      <th></th>\n",
              "      <th></th>\n",
              "      <th></th>\n",
              "      <th></th>\n",
              "      <th></th>\n",
              "      <th></th>\n",
              "      <th></th>\n",
              "      <th></th>\n",
              "      <th></th>\n",
              "      <th></th>\n",
              "      <th></th>\n",
              "      <th></th>\n",
              "      <th></th>\n",
              "      <th></th>\n",
              "      <th></th>\n",
              "      <th></th>\n",
              "      <th></th>\n",
              "      <th></th>\n",
              "      <th></th>\n",
              "      <th></th>\n",
              "      <th></th>\n",
              "      <th></th>\n",
              "      <th></th>\n",
              "      <th></th>\n",
              "      <th></th>\n",
              "      <th></th>\n",
              "      <th></th>\n",
              "      <th></th>\n",
              "      <th></th>\n",
              "      <th></th>\n",
              "      <th></th>\n",
              "      <th></th>\n",
              "      <th></th>\n",
              "      <th></th>\n",
              "      <th></th>\n",
              "      <th></th>\n",
              "      <th></th>\n",
              "      <th></th>\n",
              "      <th></th>\n",
              "      <th></th>\n",
              "      <th></th>\n",
              "      <th></th>\n",
              "      <th></th>\n",
              "      <th></th>\n",
              "      <th></th>\n",
              "      <th></th>\n",
              "      <th></th>\n",
              "      <th></th>\n",
              "      <th></th>\n",
              "      <th></th>\n",
              "      <th></th>\n",
              "      <th></th>\n",
              "      <th></th>\n",
              "      <th></th>\n",
              "      <th></th>\n",
              "      <th></th>\n",
              "      <th></th>\n",
              "      <th></th>\n",
              "      <th></th>\n",
              "      <th></th>\n",
              "      <th></th>\n",
              "      <th></th>\n",
              "      <th></th>\n",
              "      <th></th>\n",
              "      <th></th>\n",
              "      <th></th>\n",
              "      <th></th>\n",
              "      <th></th>\n",
              "      <th></th>\n",
              "      <th></th>\n",
              "      <th></th>\n",
              "      <th></th>\n",
              "      <th></th>\n",
              "      <th></th>\n",
              "      <th></th>\n",
              "      <th></th>\n",
              "      <th></th>\n",
              "      <th></th>\n",
              "      <th></th>\n",
              "      <th></th>\n",
              "      <th></th>\n",
              "    </tr>\n",
              "  </thead>\n",
              "  <tbody>\n",
              "    <tr>\n",
              "      <th>1</th>\n",
              "      <td>4.0</td>\n",
              "      <td>0.0</td>\n",
              "      <td>0.0</td>\n",
              "      <td>0.0</td>\n",
              "      <td>4.0</td>\n",
              "      <td>0.0</td>\n",
              "      <td>4.5</td>\n",
              "      <td>0.0</td>\n",
              "      <td>0.0</td>\n",
              "      <td>0.0</td>\n",
              "      <td>0.0</td>\n",
              "      <td>0.0</td>\n",
              "      <td>0.0</td>\n",
              "      <td>0.0</td>\n",
              "      <td>2.5</td>\n",
              "      <td>0.0</td>\n",
              "      <td>4.5</td>\n",
              "      <td>3.5</td>\n",
              "      <td>4.0</td>\n",
              "      <td>0.0</td>\n",
              "      <td>3.5</td>\n",
              "      <td>0.0</td>\n",
              "      <td>0.0</td>\n",
              "      <td>0.0</td>\n",
              "      <td>0.0</td>\n",
              "      <td>3.0</td>\n",
              "      <td>0.0</td>\n",
              "      <td>0.0</td>\n",
              "      <td>0.0</td>\n",
              "      <td>5.0</td>\n",
              "      <td>3.0</td>\n",
              "      <td>3.0</td>\n",
              "      <td>0.0</td>\n",
              "      <td>0.0</td>\n",
              "      <td>0.0</td>\n",
              "      <td>0.0</td>\n",
              "      <td>5.0</td>\n",
              "      <td>0.0</td>\n",
              "      <td>0.0</td>\n",
              "      <td>5.0</td>\n",
              "      <td>...</td>\n",
              "      <td>0.0</td>\n",
              "      <td>0.0</td>\n",
              "      <td>3.5</td>\n",
              "      <td>4.0</td>\n",
              "      <td>0.0</td>\n",
              "      <td>4.0</td>\n",
              "      <td>5.0</td>\n",
              "      <td>0.0</td>\n",
              "      <td>0.0</td>\n",
              "      <td>0.0</td>\n",
              "      <td>4.0</td>\n",
              "      <td>3.0</td>\n",
              "      <td>0.0</td>\n",
              "      <td>0.0</td>\n",
              "      <td>0.0</td>\n",
              "      <td>5.0</td>\n",
              "      <td>0.0</td>\n",
              "      <td>0.0</td>\n",
              "      <td>5.0</td>\n",
              "      <td>0.0</td>\n",
              "      <td>0.0</td>\n",
              "      <td>4.0</td>\n",
              "      <td>0.0</td>\n",
              "      <td>0.0</td>\n",
              "      <td>0.0</td>\n",
              "      <td>0.0</td>\n",
              "      <td>4.0</td>\n",
              "      <td>4.0</td>\n",
              "      <td>3.0</td>\n",
              "      <td>2.5</td>\n",
              "      <td>4.0</td>\n",
              "      <td>0.0</td>\n",
              "      <td>4.0</td>\n",
              "      <td>3.0</td>\n",
              "      <td>4.0</td>\n",
              "      <td>2.5</td>\n",
              "      <td>4.0</td>\n",
              "      <td>2.5</td>\n",
              "      <td>3.0</td>\n",
              "      <td>5.0</td>\n",
              "    </tr>\n",
              "    <tr>\n",
              "      <th>2</th>\n",
              "      <td>0.0</td>\n",
              "      <td>0.0</td>\n",
              "      <td>0.0</td>\n",
              "      <td>0.0</td>\n",
              "      <td>0.0</td>\n",
              "      <td>4.0</td>\n",
              "      <td>0.0</td>\n",
              "      <td>4.0</td>\n",
              "      <td>0.0</td>\n",
              "      <td>0.0</td>\n",
              "      <td>0.0</td>\n",
              "      <td>0.0</td>\n",
              "      <td>0.0</td>\n",
              "      <td>0.0</td>\n",
              "      <td>0.0</td>\n",
              "      <td>0.0</td>\n",
              "      <td>0.0</td>\n",
              "      <td>3.0</td>\n",
              "      <td>3.0</td>\n",
              "      <td>3.0</td>\n",
              "      <td>3.5</td>\n",
              "      <td>0.0</td>\n",
              "      <td>0.0</td>\n",
              "      <td>0.0</td>\n",
              "      <td>0.0</td>\n",
              "      <td>4.0</td>\n",
              "      <td>0.0</td>\n",
              "      <td>0.0</td>\n",
              "      <td>0.0</td>\n",
              "      <td>0.0</td>\n",
              "      <td>0.0</td>\n",
              "      <td>0.0</td>\n",
              "      <td>0.0</td>\n",
              "      <td>0.0</td>\n",
              "      <td>0.0</td>\n",
              "      <td>0.0</td>\n",
              "      <td>0.0</td>\n",
              "      <td>0.0</td>\n",
              "      <td>0.0</td>\n",
              "      <td>0.0</td>\n",
              "      <td>...</td>\n",
              "      <td>0.0</td>\n",
              "      <td>4.0</td>\n",
              "      <td>0.0</td>\n",
              "      <td>3.5</td>\n",
              "      <td>0.0</td>\n",
              "      <td>0.0</td>\n",
              "      <td>4.5</td>\n",
              "      <td>0.0</td>\n",
              "      <td>0.0</td>\n",
              "      <td>0.0</td>\n",
              "      <td>0.0</td>\n",
              "      <td>0.0</td>\n",
              "      <td>0.0</td>\n",
              "      <td>0.0</td>\n",
              "      <td>0.0</td>\n",
              "      <td>0.0</td>\n",
              "      <td>0.0</td>\n",
              "      <td>4.0</td>\n",
              "      <td>0.0</td>\n",
              "      <td>0.0</td>\n",
              "      <td>0.0</td>\n",
              "      <td>2.5</td>\n",
              "      <td>0.0</td>\n",
              "      <td>4.0</td>\n",
              "      <td>0.0</td>\n",
              "      <td>4.0</td>\n",
              "      <td>0.0</td>\n",
              "      <td>0.0</td>\n",
              "      <td>2.5</td>\n",
              "      <td>4.0</td>\n",
              "      <td>0.0</td>\n",
              "      <td>4.0</td>\n",
              "      <td>0.0</td>\n",
              "      <td>5.0</td>\n",
              "      <td>3.5</td>\n",
              "      <td>0.0</td>\n",
              "      <td>0.0</td>\n",
              "      <td>2.0</td>\n",
              "      <td>0.0</td>\n",
              "      <td>0.0</td>\n",
              "    </tr>\n",
              "    <tr>\n",
              "      <th>3</th>\n",
              "      <td>4.0</td>\n",
              "      <td>0.0</td>\n",
              "      <td>0.0</td>\n",
              "      <td>0.0</td>\n",
              "      <td>0.0</td>\n",
              "      <td>5.0</td>\n",
              "      <td>0.0</td>\n",
              "      <td>0.0</td>\n",
              "      <td>0.0</td>\n",
              "      <td>0.0</td>\n",
              "      <td>0.0</td>\n",
              "      <td>0.0</td>\n",
              "      <td>0.0</td>\n",
              "      <td>0.0</td>\n",
              "      <td>0.0</td>\n",
              "      <td>0.0</td>\n",
              "      <td>0.0</td>\n",
              "      <td>0.0</td>\n",
              "      <td>3.0</td>\n",
              "      <td>0.0</td>\n",
              "      <td>0.0</td>\n",
              "      <td>0.0</td>\n",
              "      <td>0.0</td>\n",
              "      <td>0.0</td>\n",
              "      <td>0.0</td>\n",
              "      <td>0.0</td>\n",
              "      <td>0.0</td>\n",
              "      <td>0.0</td>\n",
              "      <td>0.0</td>\n",
              "      <td>0.0</td>\n",
              "      <td>3.0</td>\n",
              "      <td>0.0</td>\n",
              "      <td>0.0</td>\n",
              "      <td>0.0</td>\n",
              "      <td>0.0</td>\n",
              "      <td>0.0</td>\n",
              "      <td>0.0</td>\n",
              "      <td>0.0</td>\n",
              "      <td>4.0</td>\n",
              "      <td>5.0</td>\n",
              "      <td>...</td>\n",
              "      <td>0.0</td>\n",
              "      <td>0.0</td>\n",
              "      <td>0.0</td>\n",
              "      <td>0.0</td>\n",
              "      <td>0.0</td>\n",
              "      <td>0.0</td>\n",
              "      <td>0.0</td>\n",
              "      <td>0.0</td>\n",
              "      <td>0.0</td>\n",
              "      <td>0.0</td>\n",
              "      <td>0.0</td>\n",
              "      <td>0.0</td>\n",
              "      <td>0.0</td>\n",
              "      <td>0.0</td>\n",
              "      <td>0.0</td>\n",
              "      <td>0.0</td>\n",
              "      <td>0.0</td>\n",
              "      <td>0.0</td>\n",
              "      <td>0.0</td>\n",
              "      <td>3.0</td>\n",
              "      <td>0.0</td>\n",
              "      <td>3.0</td>\n",
              "      <td>0.0</td>\n",
              "      <td>0.0</td>\n",
              "      <td>0.0</td>\n",
              "      <td>4.0</td>\n",
              "      <td>0.0</td>\n",
              "      <td>0.0</td>\n",
              "      <td>1.5</td>\n",
              "      <td>0.0</td>\n",
              "      <td>0.0</td>\n",
              "      <td>0.0</td>\n",
              "      <td>0.0</td>\n",
              "      <td>0.0</td>\n",
              "      <td>0.0</td>\n",
              "      <td>0.0</td>\n",
              "      <td>0.0</td>\n",
              "      <td>2.0</td>\n",
              "      <td>0.0</td>\n",
              "      <td>0.0</td>\n",
              "    </tr>\n",
              "    <tr>\n",
              "      <th>5</th>\n",
              "      <td>0.0</td>\n",
              "      <td>0.0</td>\n",
              "      <td>0.0</td>\n",
              "      <td>0.0</td>\n",
              "      <td>0.0</td>\n",
              "      <td>5.0</td>\n",
              "      <td>0.0</td>\n",
              "      <td>0.0</td>\n",
              "      <td>0.0</td>\n",
              "      <td>0.0</td>\n",
              "      <td>0.0</td>\n",
              "      <td>0.0</td>\n",
              "      <td>0.0</td>\n",
              "      <td>0.0</td>\n",
              "      <td>0.0</td>\n",
              "      <td>0.0</td>\n",
              "      <td>0.0</td>\n",
              "      <td>0.0</td>\n",
              "      <td>0.0</td>\n",
              "      <td>0.0</td>\n",
              "      <td>0.0</td>\n",
              "      <td>0.0</td>\n",
              "      <td>0.0</td>\n",
              "      <td>0.0</td>\n",
              "      <td>0.0</td>\n",
              "      <td>0.0</td>\n",
              "      <td>0.0</td>\n",
              "      <td>0.0</td>\n",
              "      <td>0.0</td>\n",
              "      <td>3.0</td>\n",
              "      <td>0.0</td>\n",
              "      <td>0.0</td>\n",
              "      <td>0.0</td>\n",
              "      <td>0.0</td>\n",
              "      <td>0.0</td>\n",
              "      <td>0.0</td>\n",
              "      <td>0.0</td>\n",
              "      <td>0.0</td>\n",
              "      <td>0.0</td>\n",
              "      <td>5.0</td>\n",
              "      <td>...</td>\n",
              "      <td>0.0</td>\n",
              "      <td>0.0</td>\n",
              "      <td>0.0</td>\n",
              "      <td>0.0</td>\n",
              "      <td>0.0</td>\n",
              "      <td>0.0</td>\n",
              "      <td>0.0</td>\n",
              "      <td>0.0</td>\n",
              "      <td>0.0</td>\n",
              "      <td>0.0</td>\n",
              "      <td>0.0</td>\n",
              "      <td>0.0</td>\n",
              "      <td>0.0</td>\n",
              "      <td>0.0</td>\n",
              "      <td>0.0</td>\n",
              "      <td>0.0</td>\n",
              "      <td>0.0</td>\n",
              "      <td>0.0</td>\n",
              "      <td>0.0</td>\n",
              "      <td>0.0</td>\n",
              "      <td>0.0</td>\n",
              "      <td>2.0</td>\n",
              "      <td>0.0</td>\n",
              "      <td>0.0</td>\n",
              "      <td>0.0</td>\n",
              "      <td>0.0</td>\n",
              "      <td>0.0</td>\n",
              "      <td>0.0</td>\n",
              "      <td>0.0</td>\n",
              "      <td>2.5</td>\n",
              "      <td>0.0</td>\n",
              "      <td>0.0</td>\n",
              "      <td>0.0</td>\n",
              "      <td>3.0</td>\n",
              "      <td>0.0</td>\n",
              "      <td>0.0</td>\n",
              "      <td>0.0</td>\n",
              "      <td>0.0</td>\n",
              "      <td>0.0</td>\n",
              "      <td>0.0</td>\n",
              "    </tr>\n",
              "    <tr>\n",
              "      <th>6</th>\n",
              "      <td>4.0</td>\n",
              "      <td>0.0</td>\n",
              "      <td>0.0</td>\n",
              "      <td>0.0</td>\n",
              "      <td>0.0</td>\n",
              "      <td>4.0</td>\n",
              "      <td>0.0</td>\n",
              "      <td>0.0</td>\n",
              "      <td>0.0</td>\n",
              "      <td>0.0</td>\n",
              "      <td>5.0</td>\n",
              "      <td>0.0</td>\n",
              "      <td>0.0</td>\n",
              "      <td>0.0</td>\n",
              "      <td>0.0</td>\n",
              "      <td>0.0</td>\n",
              "      <td>0.0</td>\n",
              "      <td>4.0</td>\n",
              "      <td>0.0</td>\n",
              "      <td>0.0</td>\n",
              "      <td>0.0</td>\n",
              "      <td>0.0</td>\n",
              "      <td>4.0</td>\n",
              "      <td>4.5</td>\n",
              "      <td>0.0</td>\n",
              "      <td>0.0</td>\n",
              "      <td>3.5</td>\n",
              "      <td>0.0</td>\n",
              "      <td>0.0</td>\n",
              "      <td>0.0</td>\n",
              "      <td>3.0</td>\n",
              "      <td>0.0</td>\n",
              "      <td>0.0</td>\n",
              "      <td>0.0</td>\n",
              "      <td>0.0</td>\n",
              "      <td>0.0</td>\n",
              "      <td>0.0</td>\n",
              "      <td>0.0</td>\n",
              "      <td>0.0</td>\n",
              "      <td>0.0</td>\n",
              "      <td>...</td>\n",
              "      <td>0.0</td>\n",
              "      <td>0.0</td>\n",
              "      <td>0.0</td>\n",
              "      <td>0.0</td>\n",
              "      <td>0.0</td>\n",
              "      <td>0.0</td>\n",
              "      <td>4.5</td>\n",
              "      <td>0.0</td>\n",
              "      <td>4.0</td>\n",
              "      <td>0.0</td>\n",
              "      <td>0.0</td>\n",
              "      <td>4.0</td>\n",
              "      <td>0.0</td>\n",
              "      <td>0.0</td>\n",
              "      <td>0.0</td>\n",
              "      <td>0.0</td>\n",
              "      <td>0.0</td>\n",
              "      <td>0.0</td>\n",
              "      <td>0.0</td>\n",
              "      <td>5.0</td>\n",
              "      <td>0.0</td>\n",
              "      <td>3.5</td>\n",
              "      <td>0.0</td>\n",
              "      <td>3.0</td>\n",
              "      <td>0.0</td>\n",
              "      <td>0.0</td>\n",
              "      <td>0.0</td>\n",
              "      <td>3.0</td>\n",
              "      <td>4.5</td>\n",
              "      <td>0.0</td>\n",
              "      <td>0.0</td>\n",
              "      <td>3.0</td>\n",
              "      <td>4.0</td>\n",
              "      <td>3.0</td>\n",
              "      <td>0.0</td>\n",
              "      <td>0.0</td>\n",
              "      <td>0.0</td>\n",
              "      <td>0.0</td>\n",
              "      <td>0.0</td>\n",
              "      <td>5.0</td>\n",
              "    </tr>\n",
              "  </tbody>\n",
              "</table>\n",
              "<p>5 rows × 547 columns</p>\n",
              "</div>"
            ],
            "text/plain": [
              "userId   1    2    3    4    5    6    7    ...  604  605  606  607  608  609  610\n",
              "movieId                                     ...                                   \n",
              "1        4.0  0.0  0.0  0.0  4.0  0.0  4.5  ...  3.0  4.0  2.5  4.0  2.5  3.0  5.0\n",
              "2        0.0  0.0  0.0  0.0  0.0  4.0  0.0  ...  5.0  3.5  0.0  0.0  2.0  0.0  0.0\n",
              "3        4.0  0.0  0.0  0.0  0.0  5.0  0.0  ...  0.0  0.0  0.0  0.0  2.0  0.0  0.0\n",
              "5        0.0  0.0  0.0  0.0  0.0  5.0  0.0  ...  3.0  0.0  0.0  0.0  0.0  0.0  0.0\n",
              "6        4.0  0.0  0.0  0.0  0.0  4.0  0.0  ...  3.0  0.0  0.0  0.0  0.0  0.0  5.0\n",
              "\n",
              "[5 rows x 547 columns]"
            ]
          },
          "metadata": {},
          "execution_count": 20
        }
      ]
    },
    {
      "cell_type": "markdown",
      "metadata": {
        "id": "pvQb4n_EuDPR"
      },
      "source": [
        "> ### The dataset contains many unvoted movies by many users as discussed above, so we will convert the dataset to a compressed sparse matrix to remove sparsity and simplify computations."
      ]
    },
    {
      "cell_type": "code",
      "metadata": {
        "id": "OwVvxIoCJObJ"
      },
      "source": [
        "clean_dataset = csr_matrix(final_dataset.values)\n",
        "# reset the default index instead of the MultiIndex\n",
        "final_dataset.reset_index(inplace=True)"
      ],
      "execution_count": null,
      "outputs": []
    },
    {
      "cell_type": "code",
      "metadata": {
        "colab": {
          "base_uri": "https://localhost:8080/"
        },
        "id": "MZ4MkA_qMOW9",
        "outputId": "78999c1e-d120-4db4-8295-1d896b043676"
      },
      "source": [
        "print(clean_dataset)"
      ],
      "execution_count": null,
      "outputs": [
        {
          "output_type": "stream",
          "name": "stdout",
          "text": [
            "  (0, 0)\t4.0\n",
            "  (0, 4)\t4.0\n",
            "  (0, 6)\t4.5\n",
            "  (0, 14)\t2.5\n",
            "  (0, 16)\t4.5\n",
            "  (0, 17)\t3.5\n",
            "  (0, 18)\t4.0\n",
            "  (0, 20)\t3.5\n",
            "  (0, 25)\t3.0\n",
            "  (0, 29)\t5.0\n",
            "  (0, 30)\t3.0\n",
            "  (0, 31)\t3.0\n",
            "  (0, 36)\t5.0\n",
            "  (0, 39)\t5.0\n",
            "  (0, 40)\t3.0\n",
            "  (0, 41)\t4.0\n",
            "  (0, 42)\t5.0\n",
            "  (0, 45)\t3.0\n",
            "  (0, 48)\t3.0\n",
            "  (0, 51)\t5.0\n",
            "  (0, 56)\t5.0\n",
            "  (0, 57)\t4.0\n",
            "  (0, 59)\t4.0\n",
            "  (0, 61)\t2.5\n",
            "  (0, 64)\t5.0\n",
            "  :\t:\n",
            "  (2266, 537)\t4.5\n",
            "  (2267, 55)\t3.5\n",
            "  (2267, 89)\t3.0\n",
            "  (2267, 138)\t0.5\n",
            "  (2267, 187)\t4.5\n",
            "  (2267, 223)\t4.5\n",
            "  (2267, 343)\t0.5\n",
            "  (2267, 373)\t4.5\n",
            "  (2267, 462)\t2.0\n",
            "  (2267, 463)\t4.0\n",
            "  (2267, 509)\t2.0\n",
            "  (2267, 524)\t5.0\n",
            "  (2267, 533)\t3.5\n",
            "  (2268, 24)\t5.0\n",
            "  (2268, 55)\t4.0\n",
            "  (2268, 89)\t5.0\n",
            "  (2268, 208)\t2.5\n",
            "  (2268, 222)\t4.5\n",
            "  (2268, 223)\t5.0\n",
            "  (2268, 272)\t5.0\n",
            "  (2268, 295)\t4.0\n",
            "  (2268, 302)\t1.0\n",
            "  (2268, 343)\t3.0\n",
            "  (2268, 462)\t3.5\n",
            "  (2268, 524)\t4.0\n"
          ]
        }
      ]
    },
    {
      "cell_type": "markdown",
      "metadata": {
        "id": "jaD8P7xRgr91"
      },
      "source": [
        "# **Making the movie recommendation system model**"
      ]
    },
    {
      "cell_type": "markdown",
      "metadata": {
        "id": "15u1jmdzg9WB"
      },
      "source": [
        "## - One of the algorithms that is a very basic common approach for implementing the recommendation system is **Nearest Neighbor algorithm**.\n",
        "\n",
        "* ## I used NearestNeighbors algorithm from Sklearn library which is Unsupervised learner for implementing neighbor searches.\n",
        "* ## As a metric for measuring distances, I used `Cosine Similarity` which is the measure of calculating the difference of angle between two vectors.\n",
        "* ## As a searching algorithm, I used the `Brute Force` algorithm.\n",
        " * The simplest version of the kNN algorithm is the 'Brute\n",
        "Force' implementation and consists of three stages. The\n",
        "first stage is to calculate all of the `distances' from each\n",
        "query point to every reference point in the training set. The\n",
        "second stage is to sort these distances and select the k\n",
        "objects that are the closest from which the third and final\n",
        "stage of classification can be performed.\n",
        " * More formally,\n",
        "KNN finds the K closest (or most similar) points to a\n",
        "query point among N points in a d- dimensional attribute\n",
        "(or feature) space."
      ]
    },
    {
      "cell_type": "markdown",
      "metadata": {
        "id": "8HjamFU0gmjv"
      },
      "source": [
        "# **`It works as follows:`**\n",
        "\n",
        "### - Movie Recommendation using the KNN model with Input as Movie Name and Number of movies you want to get recommended. Reshaping model in such a way that each movie has n-dimensional rating space where n is total number of users who could rate.\n",
        "### - We will train the KNN model in order to find the closely matching similar movies to the movie we give as input and we recommend the top movies which would more closely align to the movie we have given.\n",
        "### - KNN algorithm is used to determine the corresponding similar movie or a user based on `cosine similarity`. K value is defined and desired number of nearest neighboring movies/users are returned."
      ]
    },
    {
      "cell_type": "code",
      "metadata": {
        "colab": {
          "base_uri": "https://localhost:8080/"
        },
        "id": "U_fsOiG5Mcn-",
        "outputId": "536a401f-b380-42c4-dd92-82004b753095"
      },
      "source": [
        "model = NearestNeighbors(metric='cosine', algorithm='brute')\n",
        "model.fit(clean_dataset)"
      ],
      "execution_count": null,
      "outputs": [
        {
          "output_type": "execute_result",
          "data": {
            "text/plain": [
              "NearestNeighbors(algorithm='brute', leaf_size=30, metric='cosine',\n",
              "                 metric_params=None, n_jobs=None, n_neighbors=5, p=2,\n",
              "                 radius=1.0)"
            ]
          },
          "metadata": {},
          "execution_count": 23
        }
      ]
    },
    {
      "cell_type": "markdown",
      "metadata": {
        "id": "9A5xr6NhPmKM"
      },
      "source": [
        "# **Define Recommendation Functions**"
      ]
    },
    {
      "cell_type": "code",
      "metadata": {
        "id": "HZ-DskWuLuL9"
      },
      "source": [
        "def suggest_movie_titles(movie_name, n_top_movies):\n",
        "    \"\"\"\n",
        "    Suggest specific number of possible movies when misspelling occurs.\n",
        "\n",
        "    Parameters\n",
        "    ----------\n",
        "    movie_name: str\n",
        "        Represents the name of the movie to be used in the function.\n",
        "\n",
        "    n_top_movies: int\n",
        "        Represents the number of movies to be suggest.\n",
        "\n",
        "    Returns\n",
        "    -------\n",
        "    df: data frame\n",
        "        Describes suggested movie titles to try entering again.\n",
        "    \"\"\"\n",
        "    temp = ''\n",
        "    movies_list = movies_df.title.tolist()\n",
        "    case_insensitive_movies_list = [i.lower() for i in movies_list]\n",
        "    possible_movies = case_insensitive_movies_list.copy()\n",
        "    for i in movie_name:\n",
        "      out = []\n",
        "      temp += i\n",
        "      for j in possible_movies:\n",
        "        if temp in j:\n",
        "          out.append(j)\n",
        "      if len(out) == 0:\n",
        "          temp_output = possible_movies[:n_top_movies]\n",
        "          indices = [case_insensitive_movies_list.index(i) for i in temp_output if i in temp_output]\n",
        "          output = [movies_list[i] for i in indices]\n",
        "          return pd.DataFrame(output, index=range(1,n_top_movies+1), columns=['Suggested to try again'])\n",
        "      out.sort()\n",
        "      possible_movies = out.copy()\n",
        "    temp_output = possible_movies[:n_top_movies]\n",
        "    indices = [case_insensitive_movies_list.index(i) for i in temp_output if i in temp_output]\n",
        "    output = [movies_list[i] for i in indices]\n",
        "    return pd.DataFrame(output, index=range(1,n_top_movies+1), columns=['Suggested to try again'])"
      ],
      "execution_count": null,
      "outputs": []
    },
    {
      "cell_type": "code",
      "metadata": {
        "id": "VJzdWUuqPcaL"
      },
      "source": [
        "def get_movies_recommendation(movie_name, n_top_movies):\n",
        "    \"\"\"\n",
        "    Recommend specific number of top movies based on movie name.\n",
        "\n",
        "    Parameters\n",
        "    ----------\n",
        "    movie_name: str\n",
        "        Represents the name of the movie to be used in the function.\n",
        "        It must be found in the database to recommend other movies.\n",
        "\n",
        "    n_top_movies: int\n",
        "        Represents the number of movies to be recommended.\n",
        "\n",
        "    Returns\n",
        "    -------\n",
        "    alert, df: data frame\n",
        "        Describes top recommended movies.\n",
        "        alert: when movie_name is not found in database and df: otherwise.\n",
        "    \"\"\"\n",
        "    movie_list = movies_df[movies_df['title'].str.contains(movie_name)]\n",
        "    #alert = \"No movies found. Please enter another movie title\"\n",
        "    if len(movie_list):        \n",
        "        movie_idx = movie_list.iloc[0]['movieId']\n",
        "        rates = final_dataset[final_dataset['movieId'] == movie_idx]\n",
        "        if len(rates):\n",
        "          movie_idx = rates.index[0]\n",
        "        else:\n",
        "          return suggest_movie_titles(movie_name, n_top_movies)\n",
        "\n",
        "        distances , indices = model.kneighbors(clean_dataset[movie_idx], n_neighbors=n_top_movies+1)\n",
        "        rec_movie_indices = sorted(list(zip(indices.squeeze().tolist(), distances.squeeze().tolist())), key=lambda x: x[1])[:0:-1]\n",
        "        recommend_frame = []\n",
        "        for val in rec_movie_indices:\n",
        "            movie_idx = final_dataset.iloc[val[0]]['movieId']\n",
        "            idx = movies_df[movies_df['movieId'] == movie_idx].index\n",
        "            recommend_frame.append({'Movie Title':movies_df.iloc[idx]['title'].values[0]})\n",
        "        df = pd.DataFrame(recommend_frame, index=range(1,n_top_movies+1))\n",
        "        return df\n",
        "    else:\n",
        "        return suggest_movie_titles(movie_name, n_top_movies)"
      ],
      "execution_count": null,
      "outputs": []
    },
    {
      "cell_type": "markdown",
      "metadata": {
        "id": "9R7eL_yKdK2U"
      },
      "source": [
        "# Call the function to get recommendations"
      ]
    },
    {
      "cell_type": "code",
      "metadata": {
        "colab": {
          "base_uri": "https://localhost:8080/",
          "height": 204
        },
        "id": "AOT2KH3kh7dj",
        "outputId": "22e8ee56-9080-4f1e-f405-67537e93e0eb"
      },
      "source": [
        "get_movies_recommendation('Evil Dead', 5)"
      ],
      "execution_count": null,
      "outputs": [
        {
          "output_type": "execute_result",
          "data": {
            "text/html": [
              "<div>\n",
              "<style scoped>\n",
              "    .dataframe tbody tr th:only-of-type {\n",
              "        vertical-align: middle;\n",
              "    }\n",
              "\n",
              "    .dataframe tbody tr th {\n",
              "        vertical-align: top;\n",
              "    }\n",
              "\n",
              "    .dataframe thead th {\n",
              "        text-align: right;\n",
              "    }\n",
              "</style>\n",
              "<table border=\"1\" class=\"dataframe\">\n",
              "  <thead>\n",
              "    <tr style=\"text-align: right;\">\n",
              "      <th></th>\n",
              "      <th>Movie Title</th>\n",
              "    </tr>\n",
              "  </thead>\n",
              "  <tbody>\n",
              "    <tr>\n",
              "      <th>1</th>\n",
              "      <td>Escape from New York (1981)</td>\n",
              "    </tr>\n",
              "    <tr>\n",
              "      <th>2</th>\n",
              "      <td>Re-Animator (1985)</td>\n",
              "    </tr>\n",
              "    <tr>\n",
              "      <th>3</th>\n",
              "      <td>Bubba Ho-tep (2002)</td>\n",
              "    </tr>\n",
              "    <tr>\n",
              "      <th>4</th>\n",
              "      <td>Evil Dead, The (1981)</td>\n",
              "    </tr>\n",
              "    <tr>\n",
              "      <th>5</th>\n",
              "      <td>Army of Darkness (1993)</td>\n",
              "    </tr>\n",
              "  </tbody>\n",
              "</table>\n",
              "</div>"
            ],
            "text/plain": [
              "                   Movie Title\n",
              "1  Escape from New York (1981)\n",
              "2           Re-Animator (1985)\n",
              "3          Bubba Ho-tep (2002)\n",
              "4        Evil Dead, The (1981)\n",
              "5      Army of Darkness (1993)"
            ]
          },
          "metadata": {},
          "execution_count": 26
        }
      ]
    },
    {
      "cell_type": "code",
      "metadata": {
        "colab": {
          "base_uri": "https://localhost:8080/",
          "height": 204
        },
        "id": "xSvaIOiH06ef",
        "outputId": "db3d8673-0480-4e8d-8e71-9c5d0410ab5d"
      },
      "source": [
        "get_movies_recommendation('Manhattan', 5)"
      ],
      "execution_count": null,
      "outputs": [
        {
          "output_type": "execute_result",
          "data": {
            "text/html": [
              "<div>\n",
              "<style scoped>\n",
              "    .dataframe tbody tr th:only-of-type {\n",
              "        vertical-align: middle;\n",
              "    }\n",
              "\n",
              "    .dataframe tbody tr th {\n",
              "        vertical-align: top;\n",
              "    }\n",
              "\n",
              "    .dataframe thead th {\n",
              "        text-align: right;\n",
              "    }\n",
              "</style>\n",
              "<table border=\"1\" class=\"dataframe\">\n",
              "  <thead>\n",
              "    <tr style=\"text-align: right;\">\n",
              "      <th></th>\n",
              "      <th>Movie Title</th>\n",
              "    </tr>\n",
              "  </thead>\n",
              "  <tbody>\n",
              "    <tr>\n",
              "      <th>1</th>\n",
              "      <td>Bullets Over Broadway (1994)</td>\n",
              "    </tr>\n",
              "    <tr>\n",
              "      <th>2</th>\n",
              "      <td>Everyone Says I Love You (1996)</td>\n",
              "    </tr>\n",
              "    <tr>\n",
              "      <th>3</th>\n",
              "      <td>Notorious (1946)</td>\n",
              "    </tr>\n",
              "    <tr>\n",
              "      <th>4</th>\n",
              "      <td>Manhattan (1979)</td>\n",
              "    </tr>\n",
              "    <tr>\n",
              "      <th>5</th>\n",
              "      <td>Crimes and Misdemeanors (1989)</td>\n",
              "    </tr>\n",
              "  </tbody>\n",
              "</table>\n",
              "</div>"
            ],
            "text/plain": [
              "                       Movie Title\n",
              "1     Bullets Over Broadway (1994)\n",
              "2  Everyone Says I Love You (1996)\n",
              "3                 Notorious (1946)\n",
              "4                 Manhattan (1979)\n",
              "5   Crimes and Misdemeanors (1989)"
            ]
          },
          "metadata": {},
          "execution_count": 27
        }
      ]
    },
    {
      "cell_type": "code",
      "metadata": {
        "colab": {
          "base_uri": "https://localhost:8080/",
          "height": 204
        },
        "id": "kiTQMqGQ_22g",
        "outputId": "978b9c04-dee7-4c03-e44b-fec9ef5ceb02"
      },
      "source": [
        "get_movies_recommendation('Iron Man', 5)"
      ],
      "execution_count": null,
      "outputs": [
        {
          "output_type": "execute_result",
          "data": {
            "text/html": [
              "<div>\n",
              "<style scoped>\n",
              "    .dataframe tbody tr th:only-of-type {\n",
              "        vertical-align: middle;\n",
              "    }\n",
              "\n",
              "    .dataframe tbody tr th {\n",
              "        vertical-align: top;\n",
              "    }\n",
              "\n",
              "    .dataframe thead th {\n",
              "        text-align: right;\n",
              "    }\n",
              "</style>\n",
              "<table border=\"1\" class=\"dataframe\">\n",
              "  <thead>\n",
              "    <tr style=\"text-align: right;\">\n",
              "      <th></th>\n",
              "      <th>Movie Title</th>\n",
              "    </tr>\n",
              "  </thead>\n",
              "  <tbody>\n",
              "    <tr>\n",
              "      <th>1</th>\n",
              "      <td>Avatar (2009)</td>\n",
              "    </tr>\n",
              "    <tr>\n",
              "      <th>2</th>\n",
              "      <td>Iron Man 2 (2010)</td>\n",
              "    </tr>\n",
              "    <tr>\n",
              "      <th>3</th>\n",
              "      <td>Avengers, The (2012)</td>\n",
              "    </tr>\n",
              "    <tr>\n",
              "      <th>4</th>\n",
              "      <td>WALL·E (2008)</td>\n",
              "    </tr>\n",
              "    <tr>\n",
              "      <th>5</th>\n",
              "      <td>Dark Knight, The (2008)</td>\n",
              "    </tr>\n",
              "  </tbody>\n",
              "</table>\n",
              "</div>"
            ],
            "text/plain": [
              "               Movie Title\n",
              "1            Avatar (2009)\n",
              "2        Iron Man 2 (2010)\n",
              "3     Avengers, The (2012)\n",
              "4            WALL·E (2008)\n",
              "5  Dark Knight, The (2008)"
            ]
          },
          "metadata": {},
          "execution_count": 28
        }
      ]
    },
    {
      "cell_type": "markdown",
      "metadata": {
        "id": "T5rrb-zEdV8q"
      },
      "source": [
        "> ### Misspell movie title"
      ]
    },
    {
      "cell_type": "code",
      "metadata": {
        "colab": {
          "base_uri": "https://localhost:8080/",
          "height": 204
        },
        "id": "1L2TF2hvJX43",
        "outputId": "241820fd-a334-457a-d466-b0fe4a0ac45f"
      },
      "source": [
        "get_movies_recommendation('irons mans', 5)"
      ],
      "execution_count": null,
      "outputs": [
        {
          "output_type": "execute_result",
          "data": {
            "text/html": [
              "<div>\n",
              "<style scoped>\n",
              "    .dataframe tbody tr th:only-of-type {\n",
              "        vertical-align: middle;\n",
              "    }\n",
              "\n",
              "    .dataframe tbody tr th {\n",
              "        vertical-align: top;\n",
              "    }\n",
              "\n",
              "    .dataframe thead th {\n",
              "        text-align: right;\n",
              "    }\n",
              "</style>\n",
              "<table border=\"1\" class=\"dataframe\">\n",
              "  <thead>\n",
              "    <tr style=\"text-align: right;\">\n",
              "      <th></th>\n",
              "      <th>Suggested to try again</th>\n",
              "    </tr>\n",
              "  </thead>\n",
              "  <tbody>\n",
              "    <tr>\n",
              "      <th>1</th>\n",
              "      <td>3-Iron (Bin-jip) (2004)</td>\n",
              "    </tr>\n",
              "    <tr>\n",
              "      <th>2</th>\n",
              "      <td>Aces: Iron Eagle III (1992)</td>\n",
              "    </tr>\n",
              "    <tr>\n",
              "      <th>3</th>\n",
              "      <td>Generation Iron 2</td>\n",
              "    </tr>\n",
              "    <tr>\n",
              "      <th>4</th>\n",
              "      <td>Gridiron Gang (2006)</td>\n",
              "    </tr>\n",
              "    <tr>\n",
              "      <th>5</th>\n",
              "      <td>Invincible Iron Man, The (2007)</td>\n",
              "    </tr>\n",
              "  </tbody>\n",
              "</table>\n",
              "</div>"
            ],
            "text/plain": [
              "            Suggested to try again\n",
              "1          3-Iron (Bin-jip) (2004)\n",
              "2      Aces: Iron Eagle III (1992)\n",
              "3                Generation Iron 2\n",
              "4             Gridiron Gang (2006)\n",
              "5  Invincible Iron Man, The (2007)"
            ]
          },
          "metadata": {},
          "execution_count": 29
        }
      ]
    },
    {
      "cell_type": "markdown",
      "metadata": {
        "id": "ZhMB_r-gLM-L"
      },
      "source": [
        "### Recommendations are quiet good and it's working well but we can also test the performance or the quality of the recommendation by splitting the data at first then using a metric such as MSE or RMSE."
      ]
    },
    {
      "cell_type": "markdown",
      "metadata": {
        "id": "lFIQvW3o6roI"
      },
      "source": [
        "---"
      ]
    },
    {
      "cell_type": "markdown",
      "metadata": {
        "id": "_TapkSiv6vvG"
      },
      "source": [
        "<center>\n",
        "<h1><b>(2) ... Estimate the rating of a movie based on a user behaviour ...</b></h1>\n",
        "</center>"
      ]
    },
    {
      "cell_type": "markdown",
      "metadata": {
        "id": "J_B8cXJr6roK"
      },
      "source": [
        "# This follows what is called **User-based Collaborative Filtering**\n",
        "\n",
        "> It's a technique that can filter out items that a user might like on the basis of reactions by similar users. It works by searching a large group of people and finding a smaller set of users with tastes similar to a particular user. <br><br> The basic idea here is to find users that have similar past preference patterns as the user ‘A’ has had and then recommending him or her items liked by those similar users which ‘A’ has not encountered yet."
      ]
    },
    {
      "cell_type": "markdown",
      "metadata": {
        "id": "prqb3rHMur7o"
      },
      "source": [
        "# Construct Dataset"
      ]
    },
    {
      "cell_type": "code",
      "metadata": {
        "id": "eRqwhwEoK9ie"
      },
      "source": [
        "df = pd.merge(ratings_df, movies_df, on='movieId').drop(['timestamp', 'genres'], axis=1)"
      ],
      "execution_count": null,
      "outputs": []
    },
    {
      "cell_type": "markdown",
      "metadata": {
        "id": "bDWGbTpYuwcg"
      },
      "source": [
        "# Explore Data"
      ]
    },
    {
      "cell_type": "code",
      "metadata": {
        "colab": {
          "base_uri": "https://localhost:8080/"
        },
        "id": "SO1RIyPmFqSe",
        "outputId": "9afcbdf9-2e1e-4ded-bda1-31f778739f99"
      },
      "source": [
        "df.shape"
      ],
      "execution_count": null,
      "outputs": [
        {
          "output_type": "execute_result",
          "data": {
            "text/plain": [
              "(100836, 4)"
            ]
          },
          "metadata": {},
          "execution_count": 31
        }
      ]
    },
    {
      "cell_type": "code",
      "metadata": {
        "colab": {
          "base_uri": "https://localhost:8080/",
          "height": 204
        },
        "id": "5U0iBEXRH-8W",
        "outputId": "76b970d0-3eaf-4e61-8ae6-5e02a848be17"
      },
      "source": [
        "df.head()"
      ],
      "execution_count": null,
      "outputs": [
        {
          "output_type": "execute_result",
          "data": {
            "text/html": [
              "<div>\n",
              "<style scoped>\n",
              "    .dataframe tbody tr th:only-of-type {\n",
              "        vertical-align: middle;\n",
              "    }\n",
              "\n",
              "    .dataframe tbody tr th {\n",
              "        vertical-align: top;\n",
              "    }\n",
              "\n",
              "    .dataframe thead th {\n",
              "        text-align: right;\n",
              "    }\n",
              "</style>\n",
              "<table border=\"1\" class=\"dataframe\">\n",
              "  <thead>\n",
              "    <tr style=\"text-align: right;\">\n",
              "      <th></th>\n",
              "      <th>userId</th>\n",
              "      <th>movieId</th>\n",
              "      <th>rating</th>\n",
              "      <th>title</th>\n",
              "    </tr>\n",
              "  </thead>\n",
              "  <tbody>\n",
              "    <tr>\n",
              "      <th>0</th>\n",
              "      <td>1</td>\n",
              "      <td>1</td>\n",
              "      <td>4.0</td>\n",
              "      <td>Toy Story (1995)</td>\n",
              "    </tr>\n",
              "    <tr>\n",
              "      <th>1</th>\n",
              "      <td>5</td>\n",
              "      <td>1</td>\n",
              "      <td>4.0</td>\n",
              "      <td>Toy Story (1995)</td>\n",
              "    </tr>\n",
              "    <tr>\n",
              "      <th>2</th>\n",
              "      <td>7</td>\n",
              "      <td>1</td>\n",
              "      <td>4.5</td>\n",
              "      <td>Toy Story (1995)</td>\n",
              "    </tr>\n",
              "    <tr>\n",
              "      <th>3</th>\n",
              "      <td>15</td>\n",
              "      <td>1</td>\n",
              "      <td>2.5</td>\n",
              "      <td>Toy Story (1995)</td>\n",
              "    </tr>\n",
              "    <tr>\n",
              "      <th>4</th>\n",
              "      <td>17</td>\n",
              "      <td>1</td>\n",
              "      <td>4.5</td>\n",
              "      <td>Toy Story (1995)</td>\n",
              "    </tr>\n",
              "  </tbody>\n",
              "</table>\n",
              "</div>"
            ],
            "text/plain": [
              "   userId  movieId  rating             title\n",
              "0       1        1     4.0  Toy Story (1995)\n",
              "1       5        1     4.0  Toy Story (1995)\n",
              "2       7        1     4.5  Toy Story (1995)\n",
              "3      15        1     2.5  Toy Story (1995)\n",
              "4      17        1     4.5  Toy Story (1995)"
            ]
          },
          "metadata": {},
          "execution_count": 32
        }
      ]
    },
    {
      "cell_type": "markdown",
      "metadata": {
        "id": "skiXfkBolYG-"
      },
      "source": [
        "# Filter Data"
      ]
    },
    {
      "cell_type": "markdown",
      "metadata": {
        "id": "jTNB574Uvlkd"
      },
      "source": [
        "> We need to filter our movies as we did before, based on the number of ratings on a movie."
      ]
    },
    {
      "cell_type": "code",
      "metadata": {
        "colab": {
          "base_uri": "https://localhost:8080/"
        },
        "id": "b-euIXSBOMeV",
        "outputId": "b577f0b6-6b54-497e-d506-3e6bf9115a24"
      },
      "source": [
        "# measure number of reviews before transformation as a check\n",
        "len(df[df['movieId'] == 10])"
      ],
      "execution_count": null,
      "outputs": [
        {
          "output_type": "execute_result",
          "data": {
            "text/plain": [
              "132"
            ]
          },
          "metadata": {},
          "execution_count": 33
        }
      ]
    },
    {
      "cell_type": "code",
      "metadata": {
        "id": "xR27HSOWK_7r"
      },
      "source": [
        "# apply count function on each rating for each movie\n",
        "df['movie_reviews'] = df.groupby(['movieId'])['rating'].transform('count')"
      ],
      "execution_count": null,
      "outputs": []
    },
    {
      "cell_type": "code",
      "metadata": {
        "colab": {
          "base_uri": "https://localhost:8080/",
          "height": 204
        },
        "id": "ysI_sTYcLguy",
        "outputId": "651e7049-2656-4653-933e-d7ab22db47b1"
      },
      "source": [
        "df.head()"
      ],
      "execution_count": null,
      "outputs": [
        {
          "output_type": "execute_result",
          "data": {
            "text/html": [
              "<div>\n",
              "<style scoped>\n",
              "    .dataframe tbody tr th:only-of-type {\n",
              "        vertical-align: middle;\n",
              "    }\n",
              "\n",
              "    .dataframe tbody tr th {\n",
              "        vertical-align: top;\n",
              "    }\n",
              "\n",
              "    .dataframe thead th {\n",
              "        text-align: right;\n",
              "    }\n",
              "</style>\n",
              "<table border=\"1\" class=\"dataframe\">\n",
              "  <thead>\n",
              "    <tr style=\"text-align: right;\">\n",
              "      <th></th>\n",
              "      <th>userId</th>\n",
              "      <th>movieId</th>\n",
              "      <th>rating</th>\n",
              "      <th>title</th>\n",
              "      <th>movie_reviews</th>\n",
              "    </tr>\n",
              "  </thead>\n",
              "  <tbody>\n",
              "    <tr>\n",
              "      <th>0</th>\n",
              "      <td>1</td>\n",
              "      <td>1</td>\n",
              "      <td>4.0</td>\n",
              "      <td>Toy Story (1995)</td>\n",
              "      <td>215</td>\n",
              "    </tr>\n",
              "    <tr>\n",
              "      <th>1</th>\n",
              "      <td>5</td>\n",
              "      <td>1</td>\n",
              "      <td>4.0</td>\n",
              "      <td>Toy Story (1995)</td>\n",
              "      <td>215</td>\n",
              "    </tr>\n",
              "    <tr>\n",
              "      <th>2</th>\n",
              "      <td>7</td>\n",
              "      <td>1</td>\n",
              "      <td>4.5</td>\n",
              "      <td>Toy Story (1995)</td>\n",
              "      <td>215</td>\n",
              "    </tr>\n",
              "    <tr>\n",
              "      <th>3</th>\n",
              "      <td>15</td>\n",
              "      <td>1</td>\n",
              "      <td>2.5</td>\n",
              "      <td>Toy Story (1995)</td>\n",
              "      <td>215</td>\n",
              "    </tr>\n",
              "    <tr>\n",
              "      <th>4</th>\n",
              "      <td>17</td>\n",
              "      <td>1</td>\n",
              "      <td>4.5</td>\n",
              "      <td>Toy Story (1995)</td>\n",
              "      <td>215</td>\n",
              "    </tr>\n",
              "  </tbody>\n",
              "</table>\n",
              "</div>"
            ],
            "text/plain": [
              "   userId  movieId  rating             title  movie_reviews\n",
              "0       1        1     4.0  Toy Story (1995)            215\n",
              "1       5        1     4.0  Toy Story (1995)            215\n",
              "2       7        1     4.5  Toy Story (1995)            215\n",
              "3      15        1     2.5  Toy Story (1995)            215\n",
              "4      17        1     4.5  Toy Story (1995)            215"
            ]
          },
          "metadata": {},
          "execution_count": 35
        }
      ]
    },
    {
      "cell_type": "code",
      "metadata": {
        "colab": {
          "base_uri": "https://localhost:8080/"
        },
        "id": "p57NmohKPCSz",
        "outputId": "24ac0e3f-55e0-455b-f180-e9e2f409fa5c"
      },
      "source": [
        "df.loc[df['movieId'] == 10, 'movie_reviews'] # 132 reviews when movieId=10, as expected"
      ],
      "execution_count": null,
      "outputs": [
        {
          "output_type": "execute_result",
          "data": {
            "text/plain": [
              "27378    132\n",
              "27379    132\n",
              "27380    132\n",
              "27381    132\n",
              "27382    132\n",
              "        ... \n",
              "27505    132\n",
              "27506    132\n",
              "27507    132\n",
              "27508    132\n",
              "27509    132\n",
              "Name: movie_reviews, Length: 132, dtype: int64"
            ]
          },
          "metadata": {},
          "execution_count": 36
        }
      ]
    },
    {
      "cell_type": "markdown",
      "metadata": {
        "id": "WbpbjGPVw-vn"
      },
      "source": [
        "# Visualize Data to choose threshold value"
      ]
    },
    {
      "cell_type": "code",
      "metadata": {
        "colab": {
          "base_uri": "https://localhost:8080/",
          "height": 449
        },
        "id": "IdChWvpYSKp2",
        "outputId": "022d2762-6ea7-4526-943a-3e8321768d35"
      },
      "source": [
        "plt.figure(figsize=(15,7))\n",
        "plt.scatter(df.movieId, df.movie_reviews, color='darkblue', alpha=0.5, s=10)\n",
        "plt.xlabel('movieId')\n",
        "plt.ylabel('No. of reviews')\n",
        "plt.xlim([25000, 125000])\n",
        "plt.ylim([0, 100])\n",
        "plt.show()"
      ],
      "execution_count": null,
      "outputs": [
        {
          "output_type": "display_data",
          "data": {
            "image/png": "[encoded data removed]",
            "text/plain": [
              "<Figure size 1080x504 with 1 Axes>"
            ]
          },
          "metadata": {}
        }
      ]
    },
    {
      "cell_type": "markdown",
      "metadata": {
        "id": "LiLjigKCxHCn"
      },
      "source": [
        "> So, we will put a threshold of **10 reviews** on a movie to be accepted."
      ]
    },
    {
      "cell_type": "code",
      "metadata": {
        "id": "RbSrnx_VLpZ4",
        "colab": {
          "base_uri": "https://localhost:8080/",
          "height": 204
        },
        "outputId": "e7588c07-aabf-4f92-9a9f-307c4b50ad9e"
      },
      "source": [
        "N_REVIEWS_THRESHOLD = 10\n",
        "final_df = df[df.movie_reviews >= N_REVIEWS_THRESHOLD].drop(['title', 'movie_reviews'], axis=1)\n",
        "final_df.head()"
      ],
      "execution_count": null,
      "outputs": [
        {
          "output_type": "execute_result",
          "data": {
            "text/html": [
              "<div>\n",
              "<style scoped>\n",
              "    .dataframe tbody tr th:only-of-type {\n",
              "        vertical-align: middle;\n",
              "    }\n",
              "\n",
              "    .dataframe tbody tr th {\n",
              "        vertical-align: top;\n",
              "    }\n",
              "\n",
              "    .dataframe thead th {\n",
              "        text-align: right;\n",
              "    }\n",
              "</style>\n",
              "<table border=\"1\" class=\"dataframe\">\n",
              "  <thead>\n",
              "    <tr style=\"text-align: right;\">\n",
              "      <th></th>\n",
              "      <th>userId</th>\n",
              "      <th>movieId</th>\n",
              "      <th>rating</th>\n",
              "    </tr>\n",
              "  </thead>\n",
              "  <tbody>\n",
              "    <tr>\n",
              "      <th>0</th>\n",
              "      <td>1</td>\n",
              "      <td>1</td>\n",
              "      <td>4.0</td>\n",
              "    </tr>\n",
              "    <tr>\n",
              "      <th>1</th>\n",
              "      <td>5</td>\n",
              "      <td>1</td>\n",
              "      <td>4.0</td>\n",
              "    </tr>\n",
              "    <tr>\n",
              "      <th>2</th>\n",
              "      <td>7</td>\n",
              "      <td>1</td>\n",
              "      <td>4.5</td>\n",
              "    </tr>\n",
              "    <tr>\n",
              "      <th>3</th>\n",
              "      <td>15</td>\n",
              "      <td>1</td>\n",
              "      <td>2.5</td>\n",
              "    </tr>\n",
              "    <tr>\n",
              "      <th>4</th>\n",
              "      <td>17</td>\n",
              "      <td>1</td>\n",
              "      <td>4.5</td>\n",
              "    </tr>\n",
              "  </tbody>\n",
              "</table>\n",
              "</div>"
            ],
            "text/plain": [
              "   userId  movieId  rating\n",
              "0       1        1     4.0\n",
              "1       5        1     4.0\n",
              "2       7        1     4.5\n",
              "3      15        1     2.5\n",
              "4      17        1     4.5"
            ]
          },
          "metadata": {},
          "execution_count": 38
        }
      ]
    },
    {
      "cell_type": "markdown",
      "metadata": {
        "id": "kv_4uY2lyE1t"
      },
      "source": [
        "### Our movie rating prediction is based on a specific user, so, we will choose any userId to be used on the model for later. Let it be the **most voting user** with the most number of making reviews."
      ]
    },
    {
      "cell_type": "code",
      "metadata": {
        "id": "GngIg6l93nV0"
      },
      "source": [
        "users_grouped = final_df.groupby('userId')['rating'].agg('count')\n",
        "max_reviews_user = users_grouped.max()"
      ],
      "execution_count": null,
      "outputs": []
    },
    {
      "cell_type": "code",
      "metadata": {
        "id": "x5JXEBJG4SvC"
      },
      "source": [
        "# target user Id\n",
        "vip_user_id = users_grouped[final_df.groupby('userId')['rating'].agg('count') == max_reviews_user].index[0]"
      ],
      "execution_count": null,
      "outputs": []
    },
    {
      "cell_type": "code",
      "metadata": {
        "colab": {
          "base_uri": "https://localhost:8080/",
          "height": 204
        },
        "id": "xXKFkIzi4320",
        "outputId": "7f048d9e-6f94-4ecd-dd8f-a1fac9a1cf37"
      },
      "source": [
        "# show user preferences\n",
        "final_df[final_df.userId == vip_user_id].head()"
      ],
      "execution_count": null,
      "outputs": [
        {
          "output_type": "execute_result",
          "data": {
            "text/html": [
              "<div>\n",
              "<style scoped>\n",
              "    .dataframe tbody tr th:only-of-type {\n",
              "        vertical-align: middle;\n",
              "    }\n",
              "\n",
              "    .dataframe tbody tr th {\n",
              "        vertical-align: top;\n",
              "    }\n",
              "\n",
              "    .dataframe thead th {\n",
              "        text-align: right;\n",
              "    }\n",
              "</style>\n",
              "<table border=\"1\" class=\"dataframe\">\n",
              "  <thead>\n",
              "    <tr style=\"text-align: right;\">\n",
              "      <th></th>\n",
              "      <th>userId</th>\n",
              "      <th>movieId</th>\n",
              "      <th>rating</th>\n",
              "    </tr>\n",
              "  </thead>\n",
              "  <tbody>\n",
              "    <tr>\n",
              "      <th>146</th>\n",
              "      <td>414</td>\n",
              "      <td>1</td>\n",
              "      <td>4.0</td>\n",
              "    </tr>\n",
              "    <tr>\n",
              "      <th>251</th>\n",
              "      <td>414</td>\n",
              "      <td>3</td>\n",
              "      <td>4.0</td>\n",
              "    </tr>\n",
              "    <tr>\n",
              "      <th>336</th>\n",
              "      <td>414</td>\n",
              "      <td>6</td>\n",
              "      <td>3.0</td>\n",
              "    </tr>\n",
              "    <tr>\n",
              "      <th>511</th>\n",
              "      <td>414</td>\n",
              "      <td>47</td>\n",
              "      <td>4.0</td>\n",
              "    </tr>\n",
              "    <tr>\n",
              "      <th>717</th>\n",
              "      <td>414</td>\n",
              "      <td>50</td>\n",
              "      <td>5.0</td>\n",
              "    </tr>\n",
              "  </tbody>\n",
              "</table>\n",
              "</div>"
            ],
            "text/plain": [
              "     userId  movieId  rating\n",
              "146     414        1     4.0\n",
              "251     414        3     4.0\n",
              "336     414        6     3.0\n",
              "511     414       47     4.0\n",
              "717     414       50     5.0"
            ]
          },
          "metadata": {},
          "execution_count": 41
        }
      ]
    },
    {
      "cell_type": "markdown",
      "metadata": {
        "id": "7276QhEGyFRS"
      },
      "source": [
        "# **Making the movie rating prediction system model**"
      ]
    },
    {
      "cell_type": "markdown",
      "metadata": {
        "id": "_aGuuNdiziEJ"
      },
      "source": [
        "## - For this system, we will use **Surprise**.\n",
        "\n",
        "* ### Surprise is a Python scikit for building and analyzing recommender systems that deal with explicit rating data.\n",
        "\n",
        "## - From Surprise, we will use **NMF** as a predicting algorithm.\n",
        "\n",
        "* ### NMF is a collaborative filtering algorithm based on Non-negative Matrix Factorization."
      ]
    },
    {
      "cell_type": "code",
      "metadata": {
        "colab": {
          "base_uri": "https://localhost:8080/"
        },
        "id": "4JsMjRA45P6y",
        "outputId": "e126a67b-7e4d-465b-f25f-ecd563567d92"
      },
      "source": [
        "!pip install surprise"
      ],
      "execution_count": null,
      "outputs": [
        {
          "output_type": "stream",
          "name": "stdout",
          "text": [
            "Requirement already satisfied: surprise in /usr/local/lib/python3.7/dist-packages (0.1)\n",
            "Requirement already satisfied: scikit-surprise in /usr/local/lib/python3.7/dist-packages (from surprise) (1.1.1)\n",
            "Requirement already satisfied: joblib>=0.11 in /usr/local/lib/python3.7/dist-packages (from scikit-surprise->surprise) (1.0.1)\n",
            "Requirement already satisfied: numpy>=1.11.2 in /usr/local/lib/python3.7/dist-packages (from scikit-surprise->surprise) (1.19.5)\n",
            "Requirement already satisfied: scipy>=1.0.0 in /usr/local/lib/python3.7/dist-packages (from scikit-surprise->surprise) (1.4.1)\n",
            "Requirement already satisfied: six>=1.10.0 in /usr/local/lib/python3.7/dist-packages (from scikit-surprise->surprise) (1.15.0)\n"
          ]
        }
      ]
    },
    {
      "cell_type": "code",
      "metadata": {
        "id": "f5hKN4gJ5vOp"
      },
      "source": [
        "from surprise import NMF\n",
        "from surprise import Reader\n",
        "from surprise import Dataset"
      ],
      "execution_count": null,
      "outputs": []
    },
    {
      "cell_type": "markdown",
      "metadata": {
        "id": "dGQb0RL4vwet"
      },
      "source": [
        "## - From Surprise, we will also use:\n",
        "\n",
        "* ### **`Reader`** : A class surprise use to parse a file containing ratings.\n",
        " * It takes **rating_scale**  as input which is the raing scale in the dataset that is (1,5) by default.\n",
        "* ### **`Dataset`** : The dataset module defines the Dataset class and other subclasses which are used for managing datasets from which we will use a class method called load_from_df which takes two inputs:\n",
        "\n",
        " * **df(Dataframe)**: The dataframe containing the ratings. It must have three columns, corresponding to the user (raw) ids, the item (raw) ids, and the ratings, in this order.\n",
        "  * **reader(Reader)**: A reader to read the file. Only the rating_scale field needs to be specified.\n",
        "        \n"
      ]
    },
    {
      "cell_type": "code",
      "metadata": {
        "id": "DEdkdsEh7ueI"
      },
      "source": [
        "reader = Reader(rating_scale=(1, 5))\n",
        "data = Dataset.load_from_df(final_df, reader)"
      ],
      "execution_count": null,
      "outputs": []
    },
    {
      "cell_type": "code",
      "metadata": {
        "colab": {
          "base_uri": "https://localhost:8080/"
        },
        "id": "SY-L3oLk9PAW",
        "outputId": "43ce91c3-4140-4cec-89fe-327402f5555c"
      },
      "source": [
        "data.raw_ratings[:5]"
      ],
      "execution_count": null,
      "outputs": [
        {
          "output_type": "execute_result",
          "data": {
            "text/plain": [
              "[(1, 1, 4.0, None),\n",
              " (5, 1, 4.0, None),\n",
              " (7, 1, 4.5, None),\n",
              " (15, 1, 2.5, None),\n",
              " (17, 1, 4.5, None)]"
            ]
          },
          "metadata": {},
          "execution_count": 45
        }
      ]
    },
    {
      "cell_type": "markdown",
      "metadata": {
        "id": "IrmOQ6WGBCYx"
      },
      "source": [
        "# Show the implementation steps"
      ]
    },
    {
      "cell_type": "markdown",
      "metadata": {
        "id": "wc2GQ7YMBzt0"
      },
      "source": [
        "> ### 1) First, we should gather the movies that the user had not seen before so that the prediction is logical."
      ]
    },
    {
      "cell_type": "code",
      "metadata": {
        "id": "tUjKwAmcAdOt"
      },
      "source": [
        "UNIQUE_MOVIE_IDS_TOTAL = np.unique(final_df.movieId)\n",
        "UNIQUE_MOVIE_IDS_USER = np.unique(final_df.loc[final_df.userId == vip_user_id, 'movieId'])\n",
        "UNSEEN_MOVIE_IDS = np.setdiff1d(UNIQUE_MOVIE_IDS_TOTAL, UNIQUE_MOVIE_IDS_USER)"
      ],
      "execution_count": null,
      "outputs": []
    },
    {
      "cell_type": "code",
      "metadata": {
        "colab": {
          "base_uri": "https://localhost:8080/"
        },
        "id": "pPFQTyR99W26",
        "outputId": "eb9d64ed-ef7e-4346-fc2e-e388584eb5a0"
      },
      "source": [
        "UNSEEN_MOVIE_IDS.shape"
      ],
      "execution_count": null,
      "outputs": [
        {
          "output_type": "execute_result",
          "data": {
            "text/plain": [
              "(635,)"
            ]
          },
          "metadata": {},
          "execution_count": 47
        }
      ]
    },
    {
      "cell_type": "markdown",
      "metadata": {
        "id": "DuMc7QcOCbdY"
      },
      "source": [
        "> ### 2) Second, NMF algorithm depends on the number of factors so it should be chosen wisely not to affect our model. To choose an optimal number of latent factors in non-negative matrix factorization, we will use **cross-validation** for getting the minimum error which will be **RMSE**."
      ]
    },
    {
      "cell_type": "markdown",
      "metadata": {
        "id": "qMKRrp_WFL1V"
      },
      "source": [
        "##### - To explain, let matrix R mxn represents the ratings on movies assigned by each user, also called the utility matrix. Specifically, the value r(ij) = 5 represents the rating of user i assigned to movie j. However, the individual's preference is determined by k factors. For example, the user's age, sex, income, education, etc. are likely to affect the user's behavior. <br>- Accordingly, the individual's rating of a movie (r(ij) is determined by some weighted combinations of the hidden factors. In practice, customer's behavior can be characterized by a k-dimensional vector. The vector's components, also called the latent factors, represent the weight of each factor."
      ]
    },
    {
      "cell_type": "markdown",
      "metadata": {
        "id": "QKE6gKE6INWG"
      },
      "source": [
        "# Implement cross validation to get optimum number of factors"
      ]
    },
    {
      "cell_type": "markdown",
      "metadata": {
        "id": "mVt2JhoAHsvU"
      },
      "source": [
        "\n",
        "\n",
        "```\n",
        "rmse_values = []\n",
        "n_factors_range = range(2, 21, 2)\n",
        "\n",
        "for n in n_factors_range:\n",
        "  algo = NMF(n_factors=n, random_state=0)\n",
        "  loss = cross_validate(algo, data, measures=['RMSE'], cv=5, verbose=False)[\"test_rmse\"].mean() \n",
        "  rmse_values.append(loss)\n",
        "\n",
        "plt.figure(figsize=(12,8))\n",
        "plt.plot(n_factors_range, rmse_values)\n",
        "plt.xlabel('number of factors')\n",
        "plt.ylabel('RMSE')\n",
        "plt.xticks(n_factors_range)\n",
        "plt.show()\n",
        "\n",
        "best_n_factors = n_factors_range[rmse_values.index(min(rmse_values))]\n",
        "```\n",
        "\n"
      ]
    },
    {
      "cell_type": "markdown",
      "metadata": {
        "id": "SSTYkiXFHYjg"
      },
      "source": [
        "<center>\n",
        "<p> After running the above code, we get this result which shows that 18 is the best number of factors getting minimum rmse error.</p>\n",
        "\n",
        "![errors_vs_factors.png](data:image/png;base64,iVBORw0KGgoAAAANSUhEUgAAAtoAAAHjCAYAAAAdc7jLAAAABHNCSVQICAgIfAhkiAAAAAlwSFlzAAALEgAACxIB0t1+/AAAADh0RVh0U29mdHdhcmUAbWF0cGxvdGxpYiB2ZXJzaW9uMy4yLjIsIGh0dHA6Ly9tYXRwbG90bGliLm9yZy+WH4yJAAAgAElEQVR4nOzdeXxU9b3/8ffnZCUEIpMgEREVFCFYQQwiBCFAVGzrUrVqrda1LcVqba9VtO2trbUXt7pU0VqVuhT1Vqu37aW9/oICCiIgu1xQRPQCokBYEkgw4Xx/fwwmjCxhycx3MvN6Ph5UTs7JnPd8jPXt4TvnmHPOCQAAAECLCnwHAAAAAFIRRRsAAACIA4o2AAAAEAcUbQAAACAOKNoAAABAHFC0AQAAgDigaAMAAABxkOk7QDytXr064ecsKirSunXrEn7eZMU8mjCLWMwjFvNowixiMY8mzCIW84jlax6dO3fe4z6uaAMAAABxQNEGAAAA4oCiDQAAAMQBRRsAAACIA4o2AAAAEAcUbQAAACAOKNoAAABAHFC0AQAAgDigaAMAAABxQNEGAAAA4oCiDQAAAMQBRRsAAACIg8xEnGTcuHGaM2eOCgoKdO+99+6yf9WqVRo3bpw+/PBDXXzxxTr77LMb91177bXKzc1VEATKyMjQ2LFjExEZAAAAOCgJKdrl5eUaOXKkHn744d3uz8/P15VXXqlZs2btdv8vf/lLtW/fPp4RAQAAgBaVkKUjJSUlys/P3+P+goICHXPMMcrIyEhEHAAAACDuEnJF+2DdcccdkqTTTjtNFRUVntMAAAAAzUv6on377bcrEolo06ZN+s1vfqPOnTurpKRkt8dWVlaqsrJSkjR27FgVFRUlMqpcQ4NsU1XCz5vMMjMzmccOzCIW84jFPJowi1jMowmziMU8YiXjPJK+aEciEUnR5SX9+/fXsmXL9li0KyoqYq54r1u3LiEZv7B97E3KapOn8Ee3JfS8yayoqCjhfx+SFbOIxTxiMY8mzCIW82jCLGIxj1i+5tG5c+c97kvq2/vV1dWptra28fcLFixQ165dPafaMzv+JNUvmiO3do3vKAAAAPAsIVe077//fi1evFjV1dUaNWqULrzwQjU0NEiSTj/9dG3cuFFjxoxRbW2tzEwTJ07U7373O1VXV+uee+6RJG3fvl2DBw9W3759ExH5gNig4XJ/myA3/TXZOZf4jgMAAACPElK0b7jhhr3uP+SQQ/Too4/u8vW8vDzdfffd8YrV4izSUdl9+uvz6ZPkzrpYFiT1HxgAAAAgjmiCLazN8K9JVWulJQt8RwEAAIBHFO0WljNgiJTXVm5ape8oAAAA8Iii3cIsO0d28lC5OW/JbanxHQcAAACeULTjwAZXSA31crOm+o4CAAAATyja8dC1u9TlKLlpk3wnAQAAgCcU7TgwM1nZCGnF+3KrPvIdBwAAAB5QtOPEBpRLGZl8KBIAACBNUbTjxNoVSH36y82YLLfj4TwAAABIHxTtOArKKqTqTdLC2b6jAAAAIMEo2vHUu59UEFHI8hEAAIC0Q9GOI8vIkA0cJi2cLbdpg+84AAAASCCKdpxZ2QgpDOVmvO47CgAAABKIoh1nVtxF6t5TbtokOed8xwEAAECCULQTwMoqpE/+T1q+1HcUAAAAJAhFOwGsdLCUncM9tQEAANIIRTsBrE2e7KRBcrPekNu2zXccAAAAJABFO0Gs7DSprlZuznTfUQAAAJAAFO1E6dFb6ljM8hEAAIA0QdFOEDOTDRohLV0ot3aN7zgAAACIM4p2Atmg4ZKZ3PTXfEcBAABAnFG0E8giHaVefeWmT5ILQ99xAAAAEEcU7QSzwRVS1VppyQLfUQAAABBHFO0Es74DpLy2fCgSAAAgxVG0E8yysmUDhsrNeUtuS43vOAAAAIgTirYHVlYhNdTLzZrqOwoAAADihKLtQ9fuUpej5KZN8p0EAAAAcULR9sDMZGUjpBXvy636yHccAAAAxAFF2xMbUC5lZPKhSAAAgBRF0fbE2hVIffrLzZgs19DgOw4AAABaGEXbo6CsQqreJC2c7TsKAAAAWhhF26fe/aSCiEKWjwAAAKQcirZHlpEhGzhMWjhbbtMG33EAAADQgijanlnZCCkM5Wa87jsKAAAAWhBF2zMr7iJ17yn3ZqWcc77jAAAAoIVQtJOAlVVIa1ZKy5f6jgIAAIAWQtFOAlY6WMrO4Z7aAAAAKYSinQSsTZ7spDK5WW/IbdvmOw4AAABaAEU7SVhZhVRXKzdnuu8oAAAAaAEU7WTRo7fUsZjlIwAAACmCop0kzEw2aIS0dKHc2jW+4wAAAOAgUbSTiA0aLpnJTX/NdxQAAAAcJIp2ErFIR6lXX7npk+TC0HccAAAAHASKdpKxwRVS1VppyQLfUQAAAHAQKNpJxvoOkPLa8qFIAACAVo6inWQsK1s2YKjcnLfkttT4jgMAAIADRNFOQlZWITXUy82a6jsKAAAADhBFOxl17S51OUruTZaPAAAAtFYU7SRkZrKyEdJHy+RWrvAdBwAAAAeAop2kbEC5lJEpN22S7ygAAAA4ABTtJGXtCqQ+/eXenizXUO87DgAAAPYTRTuJBWUVUvUmacFs31EAAACwnyjayax3P6kgonA6y0cAAABaG4p2ErOMDNnAYdLC2XKbNviOAwAAgP1A0U5yVjZCCkO5Ga/7jgIAAID9QNFOclbcRereU+7NSjnnfMcBAADAPqJotwJWViGtWSktX+o7CgAAAPYRRbsVsP6DpewcuWk8KRIAAKC1oGi3ApabJzupTG7WG3LbtvmOAwAAgH1A0W4lrKxCqquVmzPddxQAAADsA4p2a9Gjt9SxmOUjAAAArQRFu5UwM9mgEdLShXJr1/iOAwAAgGZQtFsRGzRcMpPjSZEAAABJj6Ldiliko9Srr9z0SXLhdt9xAAAAsBcU7VbGBldIVeukJQt8RwEAAMBeZCbiJOPGjdOcOXNUUFCge++9d5f9q1at0rhx4/Thhx/q4osv1tlnn924b968eRo/frzCMNSIESN07rnnJiJy0rK+A+Ty2spNmyQrOdF3HAAAAOxBQq5ol5eX69Zbb93j/vz8fF155ZU666yzYr4ehqGeeOIJ3Xrrrbrvvvs0bdo0rVy5Mt5xk5plZcsGDJWb85bclhrfcQAAALAHCSnaJSUlys/P3+P+goICHXPMMcrIyIj5+rJly1RcXKxOnTopMzNTgwYN0qxZs+IdN+lZWYXUUC83a6rvKAAAANiDpF6jXVVVpcLCwsbtwsJCVVVVeUyUJLp2l7ocJfcm99QGAABIVglZo50olZWVqqyMls+xY8eqqKgo4RkyMzMTct6tp5+j6icfUMGWTco6snvcz3egEjWP1oBZxGIesZhHE2YRi3k0YRaxmEesZJxHUhftSCSi9evXN26vX79ekUhkj8dXVFSooqKicXvdunVxzbc7RUVFCTmvO76/lJGpDf94UcFFV8f9fAcqUfNoDZhFLOYRi3k0YRaxmEcTZhGLecTyNY/OnTvvcV9SLx3p3r27PvnkE3322WdqaGjQ9OnTVVpa6jtWUrB27aU+J8u9PVmuod53HAAAAHxJQq5o33///Vq8eLGqq6s1atQoXXjhhWpoaJAknX766dq4caPGjBmj2tpamZkmTpyo3/3ud8rLy9NVV12lO+64Q2EYatiwYTriiCMSEblVCMpGKJwzXVowW+o30HccAAAA7CQhRfuGG27Y6/5DDjlEjz766G739evXT/369YtHrNavdz+pIKJw+iRlULQBAACSSlIvHcHeWUaGbOAwaeFsuU0bfMcBAADATijarZyVjZDCUG7G676jAAAAYCcU7VbOirtI3XvKvVkp55zvOAAAANiBop0CrKxCWrNSWr7UdxQAAADsQNFOAdZ/sJSdIzeNJ0UCAAAkC4p2CrDcPNlJZXKz3pDbVuc7DgAAAETRThlWViHV1crNect3FAAAAIiinTp69JY6FrN8BAAAIElQtFOEmckGjZCWLpRbu8Z3HAAAgLRH0U4hNmi4ZCY3fZLvKAAAAGmPop1CLNJR6tVXbvokuXC77zgAAABpjaKdYmxwhVS1TlqywHcUAACAtEbRTjHWd4CUly83jeUjAAAAPlG0U4xlZcsGDJGb85bclhrfcQAAANIWRTsFWdlpUkO93KypvqMAAACkLYp2KuraTepylNyb3FMbAADAF4p2CjKz6JMiP1omt3KF7zgAAABpiaKdomxAuZSRyYciAQAAPKFopyhr117qc7LcjNflGup9xwEAAEg7FO0UFpSNkGo2Swtm+44CAACQdijaqax3P6kgonAaH4oEAABINIp2CrOMDNnAYdKid+Q2VvmOAwAAkFYo2inOykZIYSg343XfUQAAANIKRTvFWXEXqXtPuWmT5JzzHQcAACBtULTTgJVVSGtWSsuX+o4CAACQNijaacD6D5ayc+T4UCQAAEDCULTTgOXmyU4qk5v1hty2Ot9xAAAA0gJFO01YWYVUVys35y3fUQAAANICRTtd9OgtdSxm+QgAAECCULTThJlFr2ovXSi3do3vOAAAACmPop1GbOAwyUxu+iTfUQAAAFIeRTuNWKSjVNJXbvokuXC77zgAAAApjaKdZqysQqpaJy1Z4DsKAABASqNopxnrO0DKy5ebxvIRAACAeKJopxnLypYNGCI35y25LTW+4wAAAKQsinYasrLTpIZ6uZlTfUcBAABIWRTtdNS1m9TlKO6pDQAAEEcU7TTUeE/tj5bJrVzhOw4AAEBKominKRtQLmVk8qFIAACAOKFopylr117qc7LcjNflGup9xwEAAEg5FO00FpSNkGo2Swtm+44CAACQcija6ax3P6kgopAPRQIAALQ4inYas4wM2cBh0qJ35DZW+Y4DAACQUijaac7KRkhhKDfjdd9RAAAAUgpFO81ZcRfpmF5y0ybJOec7DgAAQMqgaEM2aIS0ZqW0fKnvKAAAACmDog1Z/8FSdg5PigQAAGhBFG3IcvNkJ5XJzXpDblud7zgAAAApgaINSZINrpDqauXmvOU7CgAAQEqgaCPq2N5Sx2KWjwAAALQQijYkSWYmK6uQli6UW7vGdxwAAIBWj6KNRjZwmGQmN32S7ygAAACtHkUbjSzSUSrpKzd9kly43XccAACAVo2ijRhWViFVrZOWLPAdBQAAoFWjaCOG9R0g5eXLvcmHIgEAAA4GRRsxLCtbNmCI3NwZcltqfMcBAABotSja2IWVnSY11MvNnOo7CgAAQKtF0cauunaTuhzFPbUBAAAOAkUbu2i8p/ZHy+RWrvAdBwAAoFWiaGO3bEC5lJEpN417agMAABwIijZ2y9q1l/qcLDfjdbmGet9xAAAAWh2KNvYoGFwh1WyWFsz2HQUAAKDVoWhjz0pOlAoiCvlQJAAAwH6jaGOPLCNDNmiYtOgduY1VvuMAAAC0KpmJOMm4ceM0Z84cFRQU6N57791lv3NO48eP19y5c5WTk6PRo0erW7dukqSLLrpIXbt2lSQVFRXp5ptvTkRk7GCDKuT++ZLcjNdlI8/3HQcAAKDVSEjRLi8v18iRI/Xwww/vdv/cuXO1Zs0aPfjgg3r//ff1+OOP67e//a0kKTs7W3fffXciYmI3rPhw6ZhectMq5c44T2bmOxIAAECrkJClIyUlJcrPz9/j/tmzZ2vIkCEyM/Xo0UNbtmzRhg0bEhEN+8AGjZDWrJKWL/UdBQAAoNVIijXaVVVVKioqatwuLCxUVVV0TXB9fb3GjBmjn/3sZ5o5c6aviGnN+g+WsnN4UiQAAMB+SMjSkYMxbtw4RSIRffrpp/r1r3+trl27qri4eLfHVlZWqrIyWgbHjh0bU94TJTMz08t5421T2QhtmzFZhaNvluW22efvS9V5HAhmEYt5xGIeTZhFLObRhFnEYh6xknEeSVG0I5GI1q1b17i9fv16RSKRxn2S1KlTJ5WUlGjFihV7LNoVFRWqqKho3N75NROlqKjIy3njzZUOlnt9ota++ncFg4bv8/el6jwOBLOIxTxiMY8mzCIW82jCLGIxj1i+5tG5c+c97kuKpSOlpaWaOnWqnHN67733lJeXpw4dOqimpkb19dGnEm7evFlLly5Vly5dPKdNU8f2ljoWy03nkewAAAD7IiFXtO+//34tXrxY1dXVGjVqlC688EI1NDRIkk4//XSdeOKJmjNnjq6//nplZ2dr9OjRkqRVq1bpscceUxAECsNQ5557LkXbEzOTlVXIvfKs3No1so67/1MFAAAARCWkaN9www173W9muuaaa3b5+nHHHbfb+27DDxs4TO6//iw3fZLsnG/7jgMAAJDUkmLpCFoHi3SUSvrKTZ8kF273HQcAACCpUbSxX6ysQqpaJy1Z4DsKAABAUqNoY79Y3wFSXr7cm9xTGwAAYG8o2tgvlpUtGzBUbu4MuS01vuMAAAAkLYo29puVVUgN9XIzp/qOAgAAkLQo2th/XbtJXY7mkewAAAB7QdHGfoveU3uE9NEyuZUf+o4DAACQlCjaOCA2oFzKyJSbxpMiAQAAdoeijQNi7dpLfU6WmzFZrqHedxwAAICkQ9HGAQsGV0g1m6UFs3xHAQAASDoUbRy4khOlgohClo8AAADsgqKNA2YZGbJBw6SF78htrPIdBwAAIKlQtHFQbFCF5EK5Ga/7jgIAAJBUKNo4KFZ8uHRML7lplXLO+Y4DAACQNCjaOGg2aIS0ZpW0fKnvKAAAAEmDoo2DZv0HS9k5PCkSAABgJxRtHDTLzZOdVCY36w25bXW+4wAAACQFijZahA2ukOpq5d6Z7jsKAABAUqBoo2Uc21vqWCw3nXtqAwAASBRttBAzk5VVSEsXyq1d4zsOAACAdxRttBgbOFwy46o2AACAKNpoQRYpkkr6yk2fJBdu9x0HAADAK4o2WpSVnSZVrZOWLPAdBQAAwCuKNlqU9T1ZysuXe5N7agMAgPRG0UaLsqxs2YChcnNnyG2p8R0HAADAG4o2WpyVVUgN9XIzp/qOAgAA4A1FGy2vazepy9E8kh0AAKQ1ijZaXPSe2iOkj5apfsUy33EAAAC8oGgjLmxAuZTTRjV/+r2cc77jAAAAJBxFG3Fh7drLLrhcn8+fxRISAACQlijaiBsbMlJZvU+U+88n5Tas9x0HAAAgoSjaiBsLArW/9hZpe73CZ8exhAQAAKQVijbiKvOwLrJzLpUWzOJ2fwAAIK1QtBF3VnGWdHQPuecek9u8wXccAACAhKBoI+4syFBwxfXStlq5CY/5jgMAAJAQzRbtJ598Mmb7tddei9m+5557WjYRUpJ17ir7+sVy70yTmzPddxwAAIC4a7ZoT5kyJWb7mWeeidleuHBhyyZCyrIzzpO6dlP450fltlT7jgMAABBXzRZt7hSBlmKZmQouv17aUi33wuO+4wAAAMRVs0XbzBKRA2nCunaTnXmB3Fuvyy2c7TsOAABA3GQ2d8D27du1aNGixu0wDHfZBvaHffVCuXemK3xmnILbfi/La+s7EgAAQItrtmgXFBTokUceadzOz8+P2W7fvn18kiFlWVaWgiuuVzj2ZrmX/iS77FrfkQAAAFpcs0X74YcfTkQOpBnrdpzstHPkXn1ZrnSwrFcf35EAAABa1AHdR3v16tWaOXOm1q5d29J5kEbsnEukQzsrfPohubpa33EAAABaVLNF+6mnntLUqU2Pzp4yZYp+8pOf6A9/+INuuOEGzZ07N64BkbosO0fB5ddJ6z6Ve+VZ33EAAABaVLNFe9asWSopKWncfu6553TllVfqiSee0He/+129+OKLcQ2I1GY9esuGfU3utX/ILVvsOw4AAECLabZoV1dXq6ioSJL08ccfq7q6WsOHD5ckDRkyRKtXr45vQqQ8O+87UqSjwj/9Xu7zbb7jAAAAtIhmi3ZeXp42btwoSVqyZIm6d++urKwsSVJDQ0N80yEtWG4bBd/5ofTpKrm/P+87DgAAQItotmgPHDhQDzzwgCZOnKhXXnlFgwcPbty3bNkyderUKa4BkR6spK9s8Gly//Oy3Ifv+44DAABw0Jot2pdccolKSkq0YMECVVRUqKKionHfihUrYraBg2HfvFIqOEThUw/KNdT7jgMAAHBQmr2PdmZmpr75zW/udt9Xv/rVFg+E9GV5+QouvVbhQ7fLTfyL7OxLfEcCAAA4YM0W7SlTpjT7IkOHDm2RMID16S8bMFRu4l/k+g2UdTnadyQAAIAD0mzRHjdunIqLi3XIIYfIObfLfjOjaKNF2cXflVs8T+H4BxXceo8sI8N3JAAAgP3WbNE+88wzNWPGDOXm5mro0KHq379/411HgHiw/PYKvj1K4aN3yr36suzMC3xHAgAA2G/Nfhjyiiuu0Lhx43TGGWfo7bff1rXXXqtHH31US5YsSUQ+pCk7qUzqN0jub8/JfbLSdxwAAID91mzRlqQgCNSvXz/9+Mc/1v3336/8/HzddtttWrRoUbzzIY0Fl3xfysmN3oUk3O47DgAAwH5pdunIF7Zu3app06ZpypQp2rx5s84//3wdddRRcYyGdGcFHWQXXSP35H1yr/23rOJs35EAAAD2WbNFe/bs2Zo6daqWLFmi0tJSXXrpperZs2cisgGyU8rlZr0h9/LTcif0lx16mO9IAAAA+6TZon333Xerc+fOOvXUU5Wdna358+dr/vz5McdcdNFFcQuI9GZmCi4drfC2Hyp8+iEFP7ldFuzTiicAAACvmi3aQ4YMkZmpuro6EXmAXVikSHbBlXLPPCz3xquyoSN9RwIAAGhWs0X72muv3eO+jz76SC+99FKLBgJ2x049XW72m3Ivjpc7/iRZYUffkQAAAPaq2T+D37Ztm55//nmNHTtWTz31lLZu3apPP/1Ud999t37xi1+offv2iciJNGdmCi67VgpDhc8+vNuHJwEAACSTZq9oP/HEE/rwww/Vp08fzZs3Tx9//LFWr16toUOH6vvf/z5FGwljHYtl510u9/xjcm+9Lhs03HckAACAPWq2aM+fP1933XWXCgoKdOaZZ2r06NG67bbb1KtXr0TkA2LYsK/KzX5D7oU/ypX0lR0S8R0JAABgt5pdOlJXV6eCggJJUmFhoXJzcynZ8MaCQMHl10v19Qr//ChLSAAAQNJq9or29u3bd3kC5Je3jz/++GZPNG7cOM2ZM0cFBQW69957d9nvnNP48eM1d+5c5eTkaPTo0erWrZskafLkyfrrX/8qSTrvvPNUXl7e7PmQuqz4cNnZ35J76Sm52dNk/Qf7jgQAALCLZot2QUGBHnnkkcbt/Pz8mG0z00MPPdTsicrLyzVy5Eg9/PDDu90/d+5crVmzRg8++KDef/99Pf744/rtb3+rmpoavfjiixo7dqwkacyYMSotLVV+fn6z50TqstPOlZs9Te65P8j1/IqsXYHvSAAAADGaLdp7Ksb7q6SkRJ999tke98+ePbvxnt09evTQli1btGHDBr377rs64YQTGov1CSecoHnz5mnwYK5ipjPLyFBwxfUKf/MTuef/KPvujb4jAQAAxEiaR+xVVVWpqKiocbuwsFBVVVWqqqpSYWFh49cjkYiqqqp8RESSsS5Hyb52odzMqXLzZviOAwAAEKPZK9qtSWVlpSorKyVJY8eOjSnuiZKZmenlvMkq3vNwl35fVQtmKpzwmCIDhypo2y5u5zpY/GzEYh6xmEcTZhGLeTRhFrGYR6xknEfSFO1IJKJ169Y1bq9fv16RSESRSESLFy9u/HpVVZVKSkp2+xoVFRWqqKho3N759RKlqKjIy3mTVSLm4S4drfC3N2rdI3cruOL6uJ7rYPCzEYt5xGIeTZhFLObRhFnEYh6xfM2jc+fOe9yXNEtHSktLNXXqVDnn9N577ykvL08dOnRQ3759NX/+fNXU1Kimpkbz589X3759fcdFErEjj5GdcZ7ctEq5d+f6jgMAACApgVe077//fi1evFjV1dUaNWqULrzwQjU0NEiSTj/9dJ144omaM2eOrr/+emVnZ2v06NGSonc5Of/883XLLbdIki644ALuOIJd2FkXy82dofDphxT86vey3DzfkQAAQJpLWNG+4YYb9rrfzHTNNdfsdt/w4cM1fDiP28aeWVZ29C4kd94s99LTsm+P8h0JAACkuaRZOgIcLOveUzbiLLnJE+WWLmr+GwAAAOKIoo2UYudeKnUsVvjUg3LbtvmOAwAA0hhFGynFcnIVfOeH0to1cv/1rO84AAAgjVG0kXKs5wmyoSPlKv8m98ES33EAAECaomgjJdn5V0gdChU+9Xu5+nrfcQAAQBqiaCMlWZs8BZddK33yf3L/eMF3HAAAkIYo2khZdvxJskEj5P71otzHH/iOAwAA0gxFGynNLrxaalegcPyDcjsekAQAAJAIFG2kNGubr+DbP5BWfij3r5d8xwEAAGmEoo2UZyeeIut/qtw/XpBb9bHvOAAAIE1QtJEW7Fvfk9rkKfzTA3Lbt/uOAwAA0gBFG2nB2hVEy/aK9+Uq/+Y7DgAASAMUbaQN63+q1HeA3H/9We7T1b7jAACAFEfRRtowMwXfHiVlZSl86kG5MPQdCQAApDCKNtKKHVIou/Aa6f3FclP+6TsOAABIYRRtpB0bNFzqfaLcS0/JrfvUdxwAAJCiKNpIO2YWfTy7TOHTD8k55zsSAABIQRRtpCUrPFR2weXS/86Xe/P/+Y4DAABSEEUbacuGjJR6HC/3lyflNqz3HQcAAKQYijbSlgWBgst/KG1vUPjsOJaQAACAFkXRRlqzQzvLzr1MWjBLbuZU33EAAEAKoWgj7dmIr0vdjpN77jG5zRt8xwEAACmCoo20Z0GGgiuul7bVyk14zHccAACQIijagCQ77AjZ1y+We2ea3DvTfccBAAApgKIN7GBnnCd17aZwwqNyNZt9xwEAAK0cRRvYwTIzFVx+vbSlWu6FJ3zHAQAArRxFG9iJde0mO/MCuRmvyy2Y5TsOAABoxSjawJfYVy+UOndV+Mw4ua1bfMcBAACtFEUb+BLLyorehWTTBrmX/uQ7DgAAaKUo2sBu2NE9ZKefIzf1f+T+d77vOAAAoBWiaAN7YGdfIh3aWeHTD+eBtZYAACAASURBVMnV1fqOAwAAWhmKNrAHlp2j4PLrpHWfyr3yrO84AACglaFoA3thPXrLhn1N7rV/yL2/2HccAADQilC0gWbYed+RIh0VPvV7uc+3+Y4DAABaCYo20AzLbaPgOz+UPl0l97fnfMcBAACtBEUb2AdW0ld26ulyr74i9+H7vuMAAIBWgKIN7CO74EqpoIPCpx6Ua6j3HQcAACQ5ijawjyyvrYJLR0urPpKb+BffcQAAQJKjaAP7wfr0l51SLjfxL3IrP/QdBwAAJDGKNrCf7KJrpLx8heMflNu+3XccAACQpCjawH6y/PYKvj1K+vgDuVdf9h0HAAAkKYo2cADspDKp3yC5vz0n98n/+Y4DAACSEEUbOEDBJd+XcnKjD7IJWUICAABiUbSBA2QFHWQXXyN9sETutX/4jgMAAJIMRRs4CDagXPpKqdzLz8h99onvOAAAIIlQtIGDYGbRe2tnZCp8+iG5MPQdCQAAJAmKNnCQLFIk++ZV0tKFcm+86jsOAABIEhRtoAXY4NOkXn3kXhwvt36t7zgAACAJULSBFmBmCi67VgpDhc8+LOec70gAAMAzijbQQqxjsey8y6VFc+Tees13HAAA4BlFG2hBNuyr0jG95F54XG5jle84AADAI4o20IIsCBRcfr1UX6/wz4+whAQAgDRG0QZamBUfLjvnEmne23Kz3/QdBwAAeELRBuLAKs6RjjpW7rnH5Ko3+Y4DAAA8oGgDcWAZGQquuF7aukXu+T/6jgMAADygaANxYocfKfv6hXIzp8rNm+E7DgAASDCKNhBHNvICqctRCp99VGHNZt9xAABAAlG0gTiyzMzoEpLqjap+8kHuQgIAQBqhaANxZkceIxt5gepenxh9RDtlGwCAtJDpOwCQDuycS5SrULUTX5SqN0uXXyfLyPAdCwAAxBFFG0gACwK1u+bHqsvIkvv7c3JbaxR876ey7Bzf0QAAQJywdARIEDNTcPa3ZJeMkhbMUvjAbXJbt/iOBQAA4oSiDSRYMOyrsmv+TfpgqcK7b5XbtMF3JAAAEAcUbcCD4OQhCq77hfTZaoV33iy3do3vSAAAoIUlbI32vHnzNH78eIVhqBEjRujcc8+N2b927Vo98sgj2rx5s/Lz83XdddepsLBQknTRRRepa9eukqSioiLdfPPNiYoNxI31PlHBT25X+PvbFd55s4IbbpN1Odp3LAAA0EISUrTDMNQTTzyhn//85yosLNQtt9yi0tJSdenSpfGYZ555RkOGDFF5ebkWLVqkCRMm6LrrrpMkZWdn6+67705EVCChrHtPBTf9h8L7fqnwrlsVXPcL2bElvmMBAIAWkJClI8uWLVNxcbE6deqkzMxMDRo0SLNmzYo5ZuXKlTr++OMlSb1799bs2bMTEQ3wzjp3VTDmTqn9IQrv+3e5BbOa/yYAAJD0ElK0q6qqGpeBSFJhYaGqqqpijjnyyCM1c+ZMSdLMmTNVW1ur6upqSVJ9fb3GjBmjn/3sZ43HAKnECg9VcPNYqXNXhQ/fofCt131HAgAABylp7qN92WWX6cknn9TkyZPVq1cvRSIRBUH0vwPGjRunSCSiTz/9VL/+9a/VtWtXFRcX7/IalZWVqqyslCSNHTtWRUVFCX0PkpSZmenlvMmKeTRpdhZFRQr/4xFt+o8x+vzJ+9RGodqedVHiAiYYPxuxmEcTZhGLeTRhFrGYR6xknEdCinYkEtH69esbt9evX69IJLLLMTfeeKMkqa6uTm+//bbatm3buE+SOnXqpJKSEq1YsWK3RbuiokIVFRWN2+vWrWvx99KcoqIiL+dNVsyjyb7Owv3gVunxe1Tz5APasma17NxLZWYJSJhY/GzEYh5NmEUs5tGEWcRiHrF8zaNz58573JeQpSPdu3fXJ598os8++0wNDQ2aPn26SktLY47ZvHmzwjCUJL388ssaNmyYJKmmpkb19fWNxyxdujTmQ5RAqrGsLAXfv0l26ulyE/8i9+w4uXC771gAAGA/JeSKdkZGhq666irdcccdCsNQw4YN0xFHHKEXXnhB3bt3V2lpqRYvXqwJEybIzNSrVy9dffXVkqRVq1bpscceUxAECsNQ5557LkUbKc+CDOmya6V2BdGyvaVawdX/JsvK8h0NAADso4St0e7Xr5/69esX87WLLmpaf3rKKafolFNO2eX7jjvuON17771xzwckGzOTfeMyhfnt5f7zCYVbtygYfYssN893NAAAsA94MiSQ5ILTzpFdeYO0dKHCe34uV73JdyQAALAPKNpAKxAMGq5g9M+k1R8rvGuM3Pq1viMBAIBmULSBVsL69Ffw419LmzYqHHuT3OqPfUcCAAB7QdEGWhE7tkTBTb+VXKjwrlvkli/1HQkAAOwBRRtoZazL0QpuvlPKa6vwd7+Qe3eu70gAAGA3KNpAK2Qdi6Nlu+NhCn9/u8JZb/qOBAAAvoSiDbRSVtBBwU/vkLr1kPvj3Qpfn+g7EgAA2AlFG2jFLC9fwQ2/kk7oLzfhUYV/f17OOd+xAACAKNpAq2fZOQp+cIts4HC5v02Qe+4xuTD0HQsAgLSXsCdDAogfy8iQrrheatde7tVXpC3V0pU/kmXyyHYAAHyhaAMpwoJAuuBKKb9A7q9PyW2tUTBqjCwn13c0AADSEktHgBRiZgrOPF/2nR9K785TeN+/y22p9h0LAIC0RNEGUlBw6ukKRt0kfbQs+mCbDet9RwIAIO1QtIEUZf0GKfjRbVLVWoV33iy3ZpXvSAAApBWKNpDCrOcJCm78rfT5NoV3jZH76APfkQAASBsUbSDF2ZHdFdw0VsrOUXjPrXJLFviOBABAWqBoA2nAig+PPrK9Q5HCB26Tm/OW70gAAKQ8ijaQJqxDoYKbx0pduyt89E6Fb7zqOxIAACmNog2kEWvbTsFPbpd695V7+iGF/3yJR7YDABAnFG0gzVhOroJrfyY7eUj0wTYvjqdsAwAQBzwZEkhDlpklXf0TqW276CPbqzdLl18XfZQ7AABoERRtIE1ZEEjf+p7UrkDubxOij2z/3k9l2Tm+owEAkBJYOgKkMTNTcNbFsktGSQtmKbz/l3Jbt/iOBQBASqBoA1Aw7Kuy794oLX9P4d23ym3a4DsSAACtHkUbgCQp6H+qgut+IX22OvrI9rVrfEcCAKBVo2gDaGS9T1Twb7+Rtm6Jlu2VH/qOBABAq0XRBhDDuh2n4Kb/kCxQeNetcu8v9h0JAIBWiaINYBfWuauCMXdK7Q9ReN+/yy2Y5TsSAACtDkUbwG5Z4aHRR7Z37qrw4TsUvvW670gAALQqFG0Ae2TtChTc+Bupx/FyT96nsPK/fEcCAKDVoGgD2CvLzVNw/S+lfoPkXnhC4cvP8Mh2AAD2AUUbQLMsK0vB938qG3KG3MS/yD07Ti7c7jsWAABJjUewA9gnFmRIl46W8ttHy3ZNtYJr/k2WleU7GgAASYkr2gD2mZkp+MZlsouuluZMV/jgr+TqtvqOBQBAUqJoA9hvQcU5sqt+LL23SOE9P5er3uQ7EgAASYeiDeCABAOHKRj9M2n1xwrvGiO3fq3vSAAAJBWKNoADZn36K/jxr6VNGxWOvUlu9ce+IwEAkDQo2gAOih1bouCm30ouVHjXLXLLl/qOBABAUqBoAzho1uVoBTffKeW1Vfi7X8i9O9d3JAAAvKNoA2gR1rE4WrY7Hqbw97crnPWG70gAAHhF0QbQYqygg4Kf3iF16yH3x3sUvj7RdyQAALyhaANoUZaXr+CGX0kn9Jeb8KjCvz3HI9sBAGmJog2gxVl2joIf3CIbOFzu78/JPfeYXBj6jgUAQELxCHYAcWEZGdIV10vt2su9+oq0pVq68keyTB7ZDgBIDxRtAHFjQSD75lUK2xXIvfSU3NYaBaPGyHJyfUcDACDuWDoCIO6CkefLvvND6d15Cu/7d7kt1b4jAQAQdxRtAAkRnHq6glE3Sx99oPDOMdr+2Se+IwEAEFcUbQAJY/0GKvjRL6UN67Ru9IUK/3CX3NKF3JUEAJCSWKMNIKGs5wkK/v0B5b41SVsn/bfc7Delw46QDR0pGzhMlpfvOyIAAC2Cog0g4axjsdpd9SPVjbxAbtabclP+Kff8H+X++rTs5CGy8jNlRx7jOyYAAAeFog3AG8vOkZWNkMpGyH30QbRwvz1F7s3/Jx11bPQqd/8hspwc31EBANhvrNEGkBTsyO4KvvNDBXf/Sfat70nb6uSe+r3Cm65Q+Pwf5T5Z6TsiAAD7hSvaAJKK5bWVDf+63LCvSe+/Kzf5n9Ffk/4uHfcVBeVnSn1PkWXyf18AgOTGv6kAJCUzk3ocL+txvNzmDXJvVspN/R+Ff7hLKuggG3yabMgZskhH31EBANgtijaApGftO8i++k25kedJ785VOPmfchP/IjfxRemEUgVDz5R6nygLWA0HAEgeFG0ArYYFGdJXSpXxlVK59Z/JTf0fuTdeVTh/plTUSTZkpGxwhaxdge+oAABQtAG0TlZ4qOwbl8mddbHc3BnRddx/fUrub3+W9SuTlZ8pHdMrugQFAAAPKNoAWjXLzJL1P1Xqf6rc6o/lpvxL7q3X5GZOkQ4/Ujb0TNkp5bI2eb6jAgDSDAsaAaQM69xVwbe+F71F4Hd+KGVkyk14VOFPr1D4zDi5j5f7jggASCNc0QaQciwnV3bq6XKDT5NWvB99EM5br8lN/ZfU7bjoVe7+g2VZ2b6jAgBSGEUbQMoyM+noHrKje8h982q5tyZFl5aMv1/uP5+QlY2IPn3y0M6+owIAUhBFG0BasLb5sopz5EacLS1ZoHBK9CE47tVXpJK+0VsE9jlZlpHhOyoAIEVQtAGkFTOTevVRRq8+chur5N58VW7qqwof+Q/pkELZqadHf3Uo9B0VANDKUbQBpC07JCL7+sVyZ35TWjhL4ZR/yf3jebn/fkHqc7KC8jOlnn14EA4A4IAkrGjPmzdP48ePVxiGGjFihM4999yY/WvXrtUjjzyizZs3Kz8/X9ddd50KC6NXlCZPnqy//vWvkqTzzjtP5eXliYoNIA1YRobU9xRl9D1Fbu2a6DruaZUK586QDu0sG3qGbNAIWX5731EBAK1IQop2GIZ64okn9POf/1yFhYW65ZZbVFpaqi5dujQe88wzz2jIkCEqLy/XokWLNGHCBF133XWqqanRiy++qLFjx0qSxowZo9LSUuXn5yciOoA0Yx2LZRdcIXfOJXLvTI/eseQv4+VefjZ6p5KhZ0bvXMKDcAAAzUjIn4cuW7ZMxcXF6tSpkzIzMzVo0CDNmjUr5piVK1fq+OOPlyT17t1bs2fPlhS9En7CCScoPz9f+fn5OuGEEzRv3rxExAaQxiwrW8Ep5cq4+U4Fv3xANrhCbs4MhWNvUnj7DdFlJnW1vmMCAJJYQop2VVVV4zIQSSosLFRVVVXMMUceeaRmzpwpSZo5c6Zqa2tVXV29y/dGIpFdvhcA4sm6HK3g2z9QcM942bd/IDkn9+y46INw/vyo3KqPfEcEACShpPkw5GWXXaYnn3xSkydPVq9evRSJRBTs5weQKisrVVlZKUkaO3asioqK4hF1rzIzM72cN1kxjybMIlarnccFl8mdf6nqly5S7b/+qrpplXKTJyqrVx+1GfkN5Q4sP6AH4bTaecQBs4jFPJowi1jMI1YyziMhRTsSiWj9+vWN2+vXr1ckEtnlmBtvvFGSVFdXp7fffltt27ZVJBLR4sWLG4+rqqpSSUnJbs9TUVGhioqKxu1169a15NvYJ0VFRV7Om6yYRxNmEavVz6PoMOnSaxWcc5nc9Emqn/JP1d93mzY/XiArq5ANOUPWsXjfX661z6MFMYtYzKMJs4jFPGL5mkfnznt+6FlClo50795dn3zyiT777DM1NDRo+vTpKi0tjTlm8+bNCsNQkvTyyy9r2LBhkqS+fftq/vz5qqmpUU1NjebPn6++ffsmIjYANMvatVdwxjcU/OZRBTf8SureS+5/Xlb4s+9r+wO/kps/Uy7c7jsmAMCDhFzRzsjI0FVXXaU77rhDYRhq2LBhOuKII/TCCy+oe/fuKi0t1eLFizVhwgSZmXr16qWrr75akpSfn6/zzz9ft9xyiyTpggsu4I4jAJKOBYHU+0Rl9D5Rrmqd3Buvyr3xqsKHfiNFOkavcA8+TVbQwXdUAECCmHPO+Q4RL6tXr074OfljnFjMowmziJUO83ANDdL8mQqn/FP63/lSRoas7ymy8jOl474Sc4vAdJjHvmIWsZhHE2YRi3nESsalI0nzYUgASDWWmSmdNEgZJw2SW7Mq+iCc6ZPk3pkmFXeRDR0pGzRclsef0gFAKqJoA0ACWPHhsouulvvGpXKz35Sb/E+5Fx6Xe/lpWf9TVXfKULmOnaPLTHgYDgCkBIo2ACSQZefIBo2QBo2Q+/iDaOGeOVWbpk2KHlAQkbr1kHU7TtbtOOnIY2U5OX5DAwAOCEUbADyxrt1l3/mh3CWjdMiWjdow521p+VK5D5bIzZ0hJ0lBIHU5Olq6ux0n636c1PEwrnoDQCtA0QYAzywzU1ndeyooKJKGfU2S5Ko3Scvfk1u+VG75Erm3XpcmT4yW7/x20tHRK97Wvad01LGyNnle3wMAYFcUbQBIQtauQOrTX9anvyRF78W9+v/kli+JXvVe/p7cwtnR4m0mde7adNW723HRD1vu59N1AQAti6INAK2ABRlSl6NkXY6ShoyUJLmtNU1XvT9cGr2byRuvRst3m7bS0Tut9e7WQ9a2nc+3AABph6INAK2U5eVLx/eTHd9PkuTCUPp0tdzypTuuei+V++//lHPRp+6q+HDZ0V+s9e4ZvQqekeHxHQBAaqNoA0CKsCCQDusiO6yLVDZCkuTqtkorlu1Y671UbtE70luvRa965+RG13d36yHr1jN61bs9T64EgJZC0QaAFGa5eVLPE2Q9T5AkOeekdZ82XfX+YIncq6/Ibd8e/YaiTjuWmvSM/vWIo2SZWR7fAQC0XhRtAEgjZiZ1LJZ1LJYGDJUkuc+3SR9/EL3i/cFSufcWSTOnRq96Z2ZJR3aXdd9RvI8+ThYp8voeAKC1oGgDQJqz7BzpmBLZMSWNX3NV66QPd1zxXr5U7rX/lnv1lejODkVfeqjOMbKsbE/pASB5UbQBALuwSJEUKZKdVCZJcg310v+t2On2gkvl3pkeveqdkSkdcXTs7QWLOvFQHQBpj6INAGiWZWZJRx8rO/pYacRZkiS3eUNT6V7+ntyb/0967R/R8t2uoLF0W/ee0aveuW28vgcASDSKNgDggFj7DlLfU2R9T5Gk6AcqV30Ue3vB+TN3PFQnkA4/MvoI+S+uenc6nKveAFIaRRsA0CIsI0Pq2k3WtZtUfqYkydVslj58v+lR8jOnSlP+FS3feflNV727HRe9Yp6X7/U9AEBLomgDAOLG8ttLXzlJ9pWTJO14qM6albFXvf8+J3rbQTOpuIs2HdtLYZt86ZAOUkGhrKBD0+9zcjy/IwDYdxRtAEDCWBBEn0jZuas0+DRJkqvdKq14v/EOJ5//7wK5Deukhobo/p1foE2eVBCRCjrIDolEf3/IrtuWk5v4NwcAX0LRBgB4ZW3ypF59ZL36SJKKioq0du1aaUu1tGmDtLFKblNV7O83Vsl9sETaWCU11Ev6UiHPbbOjgEdkBZEdV8S/KOSFUkGHaCHnA5oA4oiiDQBIOmYm5beP/jr8SO3pI5POOWnrlmjh3lQlt3FHIf+ijG+qkvtwaXR//efR79n5BXLafOmKeIemgr7TtuXmxfstA0hBFG0AQKtlZlLb/Oivw7vuvZDXflHIN+wo5LFXyd2H70W/9vnuCnluU+ku+GKJSocdV8w7SF9cJW+Tx51UADSiaAMAUp6ZRe9ykpcfXSO+h+OihXzrjgK+Xq7x6nj0r25TldxHy6KF/fNt0e/Z+QWyc2IL+c5XxXfebtOWQg6kAYo2AAA7RAt52+ivw7rsvZDX1e60RGVD4/KVL7bdx8ulhe9I22qj37PzC2Rn71gz/sUV8Z0+yLnzdl7beL9loFVy4Xaprk6q2xr9Z7GuVttdg2TJVW2TKw0AAK2AmUXvgNImTyrecyGXJFe3dccV8Q1yG9fvtIZ8Q/QK+aoV0rtzomVBXyrkWdlam99OYWZWdD15Tk50GUt2riw3+tfo1/a2L7fx61/83jL51z8SzzXUR3/Oa7dG/wN0R0F2tbXRwrytVqpt+rrqaqP//NTt/LUd2zv+RGlntd/6rjT8LA/vbM/4Jw0AgDiy3DypOE8qPryZQl7bWMIbP9S5sUo5brvqNm2S27ajXOw4zm2rk7bVRb+2rS72tZoLlZEZLeHZudJuSrntVMqjv5qObdq3U8FvfJ0cWZBxsCNDknDORT+zsG3rvhfgve3bccvOZmVnR3+22uRF7yCU2yb6geXiw5u2v7TfcvPUpuQrqmv+1ROKog0AQBKwLwpEp84xhbx9UZE+X7dur9/rwjB6V5UvyveXSnhTKa+L/nH753XStm2Nx7kvjq2pltav3bG949gdt09sPFdzbyQru6mEZ+fEFHbLiZZx5e68r+lYy/lSwW88NjdavtAsF4bRv69fKr/RK8exV5JVG93vtsVuN15Z3lYrhWHzJzWL/v364mc4d0cBLmq/4+c6b5d9jT/vu+xvE33K7AHIKCqSmvlnJdEo2gAAtHIWBE3ldHf7D+K13fbtTVfNdy7s27ZJ22rltjWz74vCvnF97LGf10nbt8eea69v0vRpdk703Vh0u/Gd2Y7/MYv9/U7f23j8Lsd+6Xj70u+1r6+t2HN8+Xv39Np7/N7d7P/SsVWBaXv15tirxzs+E9CsINil4KpNW6lD0U4leKf9bXaU45wdX2+z0/dl50Z/BrELijYAANgjy8hoWo++u/0H8dquob6xlGvnUv75F1faY/e1yQhUu2WrJCe5nWq5+2Lb7WjrO+3fZXunY7/Yv7vvbXz5Xb/XaTev/eXzxJxr53Ps/bWbjt2xPwx3/x6k6H9YtSuQHXrYTsspdirAOW2iD4Ta3dXjrGzufJMAFG0AAOCFZWZJmVnR+6Dvbv+XttsVFWlbki0N8ClSVKR1zCOpcZ0fAAAAiAOKNgAAABAHFG0AAAAgDijaAAAAQBxQtAEAAIA4oGgDAAAAcUDRBgAAAOKAog0AAADEAUUbAAAAiAOKNgAAABAHFG0AAAAgDijaAAAAQBxQtAEAAIA4oGgDAAAAcUDRBgAAAOKAog0AAADEAUUbAAAAiAOKNgAAABAH5pxzvkMAAAAAqYYr2i1szJgxviMkFebRhFnEYh6xmEcTZhGLeTRhFrGYR6xknAdFGwAAAIgDijYAAAAQBxm33Xbbbb5DpJpu3br5jpBUmEcTZhGLecRiHk2YRSzm0YRZxGIesZJtHnwYEgAAAIgDlo4AAAD8//buPyiq6v/j+HN/sKAgCwsoIf5IxdRQzETztwZJmk1pRWoiWFbKNpbTODg65Uzq+GMiHcdV/NGKMo0OzqiNWmrmCINaEdT4E8MExwYLlgWTBHd2l+8fjjv6Efr4QXYP8+X9+Gth9977ugfm3DeHc+4Vwgv0qgP8f2Gz2bBYLNTW1qLRaEhMTGTy5MmqYynldrtZvHgxJpOpTa4E9qV//vmHrKwsrl+/jkajYf78+fTt21d1LCUOHTrEiRMn0Gg0dOvWjfT0dAwGg+pYPrNp0yaKi4sxGo1kZmYCUFdXx7p166iqqiIiIoKFCxcSFBSkOKlvNNUeOTk5FBUVodfr6dKlC+np6QQGBipO6htNtcc9Bw8eJCcnh+3btxMcHKwooe801xbffvstR48eRavVMmTIEGbNmqUwpe801R7l5eVs27YNh8OBTqdj7ty59OnTR3FS72uu5mqLfanM0W4ld+7coW/fvsyYMYOxY8eyZcsWBg4c2C46w+YcPnwYp9OJ0+lk9OjRquMotXXrVgYOHEh6ejqJiYl07NixXRWX99jtdrZu3crnn3/O5MmTOX36NE6nk549e6qO5jOBgYFMmDCBwsJCkpKSAMjNzaVbt24sXLiQmpoazp49y6BBgxQn9Y2m2gMgJSWFF198kbKyMkpKStp9e9hsNr755htcLheJiYn4+/srTOkbTbXF+fPnOXHiBJ999hmTJ0+mR48eBAQEKE7qG021x8aNG3n11VeZPXs2JpOJvXv3Mn78eLVBfaC5muvIkSNtri+VqSOtJDQ01DMBv0OHDnTt2hW73a44lTrV1dUUFxeTkJCgOopyt2/f5tKlSzz//PMA6PX6djM61xS3243D4cDlcuFwOAgNDVUdyacGDBjw0AhLYWEh48aNA2DcuHEUFhaqiKZEU+0RFxeHTqcDoG/fvu2qL22qPQB27tzJW2+9hUajUZBKjaba4tixY7zyyiv4+fkBYDQaVURToqn20Gg01NfXA3evNe2lP22u5mqLfalMHfGCyspKysrK2sW/b5qTnZ3NrFmzPB1Ae1ZZWUlwcDCbNm3i2rVr9OrVi7S0tHYzCnM/k8nEyy+/zPz58zEYDMTFxREXF6c6lnI3b970XCBDQkK4efOm4kRtx4kTJxg5cqTqGEoVFhZiMpna1X9+mnPjxg1KSkrYs2cPfn5+pKSktOtrbWpqKitXriQnJwe3282KFStUR/K5+2uuttiXyoh2K2toaCAzM5O0tDQ6duyoOo4SRUVFGI3GNneLHVVcLhdlZWVMnDiRtWvX4u/vz4EDB1THUqKuro7CwkIsFgtbtmyhoaGB/Px81bHaFI1G065GLf/Nvn370Ol0jBkzRnUUZe7cucP+/ft58803VUdpE9xuN3V1daxcuZKUlBTWrVtHe7552rFjx0hNTWXz5s2kpqaSlZWlOpJP/VvN1Vb6Uim0W5HT6SQzM5MxY8YwfPhw1XGUuXz5Mj///DNms5n169dz/vx5NmzYoDqWMmFhYYSFhRETWUai6AAACSBJREFUEwPAc889R1lZmeJUapw7d47OnTsTHByMXq9n+PDh/Pbbb6pjKWc0GqmpqQGgpqamXa/tuOfkyZMUFRWxYMGCNnGxVOWvv/6isrKSRYsWYTabqa6uJiMjg9raWtXRlDCZTAwbNgyNRkOfPn3QarXcunVLdSxl8vLyPPXGiBEjuHLliuJEvtNUzdUW+1IptFtJY2MjWVlZdO3alSlTpqiOo9TMmTPJysrCYrHw0UcfERsby4IFC1THUiYkJISwsDAqKiqAu8VmdHS04lRqhIeHU1payp07d2hsbOTcuXN07dpVdSzlhg4dSl5eHnD3whkfH684kVq//vorX3/9NRkZGe1i0d+/6d69O9u3b8disWCxWAgLC2PNmjWEhISojqZEfHw8Fy5cAKCiogKn00mnTp0Up1LHZDJx8eJF4O5C0cjISMWJfKO5mqst9qXywJpWUlJSwqeffkr37t09oy8zZsxgyJAhipOpdeHCBQ4ePNjub+9XXl5OVlYWTqeTzp07k56ervyWQ6rk5uZy+vRpdDodPXv2ZN68eZ6FTe3B+vXruXjxIrdu3cJoNJKcnEx8fDzr1q3DZrO1mVtS+UpT7bF//36cTqenDWJiYnjvvfcUJ/WNptrj3kJqALPZzKpVq9rESJ23NdUWY8eO9ax30ev1pKSkEBsbqzqqTzTVHlFRUezYsQO3242fnx9z585tF9M2m6u5YmJi2lxfKoW2EEIIIYQQXiBTR4QQQgghhPACKbSFEEIIIYTwAim0hRBCCCGE8AIptIUQQgghhPACKbSFEEIIIYTwAim0hRCijTObzZw9e1bJsWtra1m2bBmzZ89m165dD73vcDhYvXo1qampfPHFFwoSCiFE26VXHUAIIUTbdfz4cTp16sTOnTubfELjDz/8wM2bN7Fareh0uhYf5+TJk3z//fcsX778ceIKIUSbIiPaQgjRTrhcrv95G5vNRnR0dLOPQa+qquKJJ554rCK7NbTk3IQQwtvkgTVCCNECZrOZpKQk8vPzqaqqYvDgwZjNZgwGQ5Ojs8nJyWzYsIHIyEgsFgv+/v5UVlZy6dIlevbsyccff8yBAwfIy8vDaDTy4Ycf8uSTT3qOlZiYSH5+PrW1tcTHxzN37lwMBgMARUVF7Nmzh6qqKqKjo3n33Xfp0aOHZ9sXXniBgoICKioqyMnJeagovnz5MtnZ2VRUVBAVFUVaWhpPPfUUFouFgoICAPR6PYsWLWLQoEGe7XJzc9m/f7/n/Tlz5jBgwAC2bNnCtWvX0Gg0xMXF8c477xAYGAjcLdyzs7O5dOkSjY2NjBo1iqSkJDIyMnA6nRgMBnQ6HdnZ2dy+fRur1covv/yCv78/CQkJTJ06Fa1W62nj3r17k5+fz8SJExk/fjybN2+mvLwcvV5PbGwsCxcu9NJvgBBC/HcydUQIIVrozJkzLFmyBIPBwCeffMLJkyeZOHHiI2+7dOlSoqOjWbVqFUuXLiU5OZnZs2eTm5vLrl27WLZsmefzBQUFLF26lICAANasWcO+ffuYPn06ZWVlbN68mYyMDE/RuXbtWtavX+95tP2pU6dYvHgxwcHBDxXZdXV1rF69mjlz5jBq1CjOnDnD6tWr2bBhA2azGYCwsDCmT5/+0DkkJycD8Oeff7JgwQLP66lTp9K/f3/q6+vJzMxk7969pKWl4Xa7WbNmDU8//TQWiwWtVsvVq1c9fxz85x8nVquV27dvs3HjRm7dusXKlSsJDQ31PJK8tLSUkSNHsm3bNlwuF5s2bSIuLo5ly5bhdDq5evXqo/4ohRDCK2TqiBBCtNCkSZMwmUwEBQXx7LPPUl5e/sjbxsfH06tXLwwGA8OGDcNgMDBu3Di0Wi0jR46krKzsgc8nJSURHh5OUFAQU6dO5dSpU8DdOdSJiYnExMSg1WoZP348er2e0tLSB3KGh4d7RsDvV1xcTGRkJGPHjkWn0zF69GiioqIoKipqUZtERkYyaNAg/Pz8CA4O5qWXXuLixYsAXLlyBbvdTkpKCgEBARgMBvr169fkftxuN6dOnWLmzJl06NCBzp07M2XKFPLz8z2fCQ0NZdKkSeh0OgwGA3q9nqqqKmpqav5130II4Ssyoi2EEC0UEhLieW0wGLDb7S3e1mg0PvB1Q0PDA58PDw/3vI6IiPAcy2azkZeXx5EjRzzvO53OB7Lcv+1/stvtREREPPC9+/f/v6qtrfVMDWloaMDtdhMUFOTJGhER8Ujzuf/++29cLlez5w0Pn9esWbPYs2cPS5YsITAwkClTpnhGv4UQQgUptIUQopX5+/vjcDg8X9fW1j72Pm022wOvTSYTcHdax7Rp05g2bVqL9msymfjxxx8fOtbgwYNbtL/du3cDkJmZSVBQED/99BNWqxW4WxjbbDZcLtd/LbbvTXO5txjzXq57592UkJAQ5s2bB0BJSQnLly9nwIABREZGtuhchBDiccnUESGEaGU9evTg+vXrlJeX43A4yM3Nfex9Hj16lOrqaurq6ti3bx8jRowAICEhge+++47S0lIaGxtpaGiguLiY+vr6R9rvM888w40bNygoKMDlcnH69Gn++OMPhgwZ0qKc9fX1BAQE0LFjR+x2OwcPHvS816dPH0JDQ/nqq69oaGjA4XBQUlIC3C2S7XY7TqcTAK1Wy4gRI9i9ezf19fVUVVVx6NAhxowZ0+yxz5w5Q3V1NYBn8WVzd0sRQghfkBFtIYRoZVFRUbz++ussX74cg8HAjBkzOH78+GPtc/To0axYsYKamhqGDh3Ka6+9BkDv3r15//33sVqt3LhxwzM3uX///o+0306dOrF48WJ27NjBtm3biIyM9CycbIk33niDjRs3kpqa6pn7ffjwYeBu8ZyRkYHVaiU9PR2NRsOoUaPo168fsbGxnkWRWq2WL7/8krfffhur1coHH3yAwWAgISGBCRMmNHvs33//3XO3kpCQEObMmUOXLl1adB5CCNEa5PZ+QgghhBBCeIFMHRFCCCGEEMILpNAWQgghhBDCC6TQFkIIIYQQwguk0BZCCCGEEMILpNAWQgghhBDCC6TQFkIIIYQQwguk0BZCCCGEEMILpNAWQgghhBDCC6TQFkIIIYQQwgv+D9l23ROE1hm7AAAAAElFTkSuQmCC)\n",
        "\n",
        "</center>"
      ]
    },
    {
      "cell_type": "code",
      "metadata": {
        "id": "Dpvf1UeDD3uf"
      },
      "source": [
        "best_n_factors = 18"
      ],
      "execution_count": null,
      "outputs": []
    },
    {
      "cell_type": "markdown",
      "metadata": {
        "id": "ZGUJbAjVGlnI"
      },
      "source": [
        "> ### 3) Third, After choosing the best number of factors (minimum RMSE) we can build our model and start fitting the data."
      ]
    },
    {
      "cell_type": "code",
      "metadata": {
        "colab": {
          "base_uri": "https://localhost:8080/"
        },
        "id": "epVdqkAZSa64",
        "outputId": "620c07ea-796b-4a62-977f-4c166974979a"
      },
      "source": [
        "algo = NMF(n_factors=best_n_factors, random_state=0)\n",
        "algo.fit(data.build_full_trainset())"
      ],
      "execution_count": null,
      "outputs": [
        {
          "output_type": "execute_result",
          "data": {
            "text/plain": [
              "<surprise.prediction_algorithms.matrix_factorization.NMF at 0x7f614cc0af90>"
            ]
          },
          "metadata": {},
          "execution_count": 49
        }
      ]
    },
    {
      "cell_type": "markdown",
      "metadata": {
        "id": "IFizHqr0G6X8"
      },
      "source": [
        "> ### 4) Finally, We can use the model to predict the movie rating with **predict** method which takes two inputs **userid** and **movie id**."
      ]
    },
    {
      "cell_type": "code",
      "metadata": {
        "colab": {
          "base_uri": "https://localhost:8080/"
        },
        "id": "ogBndUcEHlEv",
        "outputId": "e4f9ee68-f9bf-4d12-92de-4ad75536a370"
      },
      "source": [
        "pred = algo.predict(vip_user_id, UNSEEN_MOVIE_IDS[0]).est\n",
        "round(pred*2)/2"
      ],
      "execution_count": null,
      "outputs": [
        {
          "output_type": "execute_result",
          "data": {
            "text/plain": [
              "3.0"
            ]
          },
          "metadata": {},
          "execution_count": 50
        }
      ]
    },
    {
      "cell_type": "markdown",
      "metadata": {
        "id": "Mm2TV1tAJQvw"
      },
      "source": [
        "# **Construct movie-rating prediction function**"
      ]
    },
    {
      "cell_type": "code",
      "metadata": {
        "id": "EpeQRHnrUjY2"
      },
      "source": [
        "def predict_movie_rating(user_id, movie_id=None, movie_title=None):\n",
        "    \"\"\"\n",
        "    Predict rating of a movie based on userId and movieId or movieTitle.\n",
        "\n",
        "    Parameters\n",
        "    ----------\n",
        "    user_id: int\n",
        "        Represents the id of the user to be used in the function.\n",
        "\n",
        "    movie_id: int, default= None\n",
        "        Represents the id of the movie to be used in the function.\n",
        "\n",
        "    movie_title: str, default= None\n",
        "        Represents the title of the movie to be used in the function if movie_id is not entered.\n",
        "\n",
        "    Returns\n",
        "    -------\n",
        "    alert_1, alert_2, result: str\n",
        "        Describes the status of the output of prediction.\n",
        "        alert_1: when user had seen that movie, alert_2: when there are no inputs about movie and result: otherwise\n",
        "    \"\"\"\n",
        "\n",
        "    UNIQUE_MOVIE_IDS_USER = np.unique(final_df.loc[final_df.userId == user_id, 'movieId'])\n",
        "    UNSEEN_MOVIE_IDS = np.setdiff1d(UNIQUE_MOVIE_IDS_TOTAL, UNIQUE_MOVIE_IDS_USER)\n",
        "    alert_1 = f\"Can't predict rating, Suggested Ids: {UNSEEN_MOVIE_IDS[:5]}\"\n",
        "    alert_2 = f\"Can't predict rating, please insert inputs\"\n",
        "\n",
        "    if not movie_id and movie_title:\n",
        "      movie_id = movies_df[movies_df.title == movie_title]['movieId'].values[0]\n",
        "    elif not movie_id and not movie_title:\n",
        "      return alert_2\n",
        "    \n",
        "    if movie_id in UNSEEN_MOVIE_IDS:\n",
        "      algo = NMF(n_factors=best_n_factors, random_state=0)\n",
        "      algo.fit(data.build_full_trainset())\n",
        "      pred = algo.predict(user_id, movie_id).est\n",
        "      movie_rate = round(pred*2)/2\n",
        "      movie_title = movies_df[movies_df.movieId == movie_id]['title'].values[0]\n",
        "    else:\n",
        "      return alert_1\n",
        "    \n",
        "    result = f'UserId: {user_id}, MovieId: {movie_id}, MovieTitle: {movie_title}, Rating: {movie_rate}'\n",
        "    return result"
      ],
      "execution_count": null,
      "outputs": []
    },
    {
      "cell_type": "markdown",
      "metadata": {
        "id": "cRxtt-MtL3gM"
      },
      "source": [
        "## - Predicting without inputs about the movie"
      ]
    },
    {
      "cell_type": "code",
      "metadata": {
        "colab": {
          "base_uri": "https://localhost:8080/",
          "height": 35
        },
        "id": "Aj6HW6RmeIOL",
        "outputId": "e7a4852a-94cf-452b-b5ae-80467452cc3f"
      },
      "source": [
        "predict_movie_rating(vip_user_id)"
      ],
      "execution_count": null,
      "outputs": [
        {
          "output_type": "execute_result",
          "data": {
            "application/vnd.google.colaboratory.intrinsic+json": {
              "type": "string"
            },
            "text/plain": [
              "\"Can't predict rating, please insert inputs\""
            ]
          },
          "metadata": {},
          "execution_count": 52
        }
      ]
    },
    {
      "cell_type": "markdown",
      "metadata": {
        "id": "a8UYnV0KMSbu"
      },
      "source": [
        "## - Predicting with a **movieId** that the user **has seen before**"
      ]
    },
    {
      "cell_type": "code",
      "metadata": {
        "colab": {
          "base_uri": "https://localhost:8080/",
          "height": 35
        },
        "id": "48Gp9c5tXt2m",
        "outputId": "70a23c7f-365b-4f4b-a925-f501ee51c997"
      },
      "source": [
        "predict_movie_rating(vip_user_id, movie_id=200)"
      ],
      "execution_count": null,
      "outputs": [
        {
          "output_type": "execute_result",
          "data": {
            "application/vnd.google.colaboratory.intrinsic+json": {
              "type": "string"
            },
            "text/plain": [
              "\"Can't predict rating, Suggested Ids: [ 9 12 14 19 20]\""
            ]
          },
          "metadata": {},
          "execution_count": 53
        }
      ]
    },
    {
      "cell_type": "markdown",
      "metadata": {
        "id": "9vPcHNVDMcbH"
      },
      "source": [
        "## - Predicting with a **movieId** that the user **has not seen before**"
      ]
    },
    {
      "cell_type": "code",
      "metadata": {
        "colab": {
          "base_uri": "https://localhost:8080/",
          "height": 35
        },
        "id": "Cfg-uflSaeKp",
        "outputId": "8f082b0c-e079-4fcf-9b15-49c7a6b051ac"
      },
      "source": [
        "predict_movie_rating(vip_user_id, movie_id=20)"
      ],
      "execution_count": null,
      "outputs": [
        {
          "output_type": "execute_result",
          "data": {
            "application/vnd.google.colaboratory.intrinsic+json": {
              "type": "string"
            },
            "text/plain": [
              "'UserId: 414, MovieId: 20, MovieTitle: Money Train (1995), Rating: 3.0'"
            ]
          },
          "metadata": {},
          "execution_count": 54
        }
      ]
    },
    {
      "cell_type": "markdown",
      "metadata": {
        "id": "kL1h5ighMzZ7"
      },
      "source": [
        "## - Predicting with a **movieTitle**"
      ]
    },
    {
      "cell_type": "code",
      "metadata": {
        "colab": {
          "base_uri": "https://localhost:8080/",
          "height": 35
        },
        "id": "qadlloZmecpP",
        "outputId": "166c5393-18dc-400a-c892-0c5db513fac8"
      },
      "source": [
        "predict_movie_rating(vip_user_id, movie_title='Money Train (1995)')"
      ],
      "execution_count": null,
      "outputs": [
        {
          "output_type": "execute_result",
          "data": {
            "application/vnd.google.colaboratory.intrinsic+json": {
              "type": "string"
            },
            "text/plain": [
              "'UserId: 414, MovieId: 20, MovieTitle: Money Train (1995), Rating: 3.0'"
            ]
          },
          "metadata": {},
          "execution_count": 55
        }
      ]
    },
    {
      "cell_type": "markdown",
      "metadata": {
        "id": "Oh0E9ce6M9Qs"
      },
      "source": [
        "### It's obvious that **`Recommender systems`** are a very powerful technology that can be used for extracting additional value for a business from its user databases. These systems help users find items they want to buy from a business. Recommender systems benefit users by enabling them to find items they like."
      ]
    },
    {
      "cell_type": "code",
      "metadata": {
        "id": "KBTT60qQ689c"
      },
      "source": [
        ""
      ],
      "execution_count": null,
      "outputs": []
    }
  ]
}